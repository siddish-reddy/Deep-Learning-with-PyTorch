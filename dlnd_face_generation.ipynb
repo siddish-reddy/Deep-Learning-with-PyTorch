{
  "nbformat": 4,
  "nbformat_minor": 0,
  "metadata": {
    "kernelspec": {
      "display_name": "Python 3",
      "language": "python",
      "name": "python3"
    },
    "language_info": {
      "codemirror_mode": {
        "name": "ipython",
        "version": 3
      },
      "file_extension": ".py",
      "mimetype": "text/x-python",
      "name": "python",
      "nbconvert_exporter": "python",
      "pygments_lexer": "ipython3",
      "version": "3.6.3"
    },
    "colab": {
      "name": "dlnd_face_generation.ipynb",
      "provenance": [],
      "collapsed_sections": [],
      "toc_visible": true,
      "include_colab_link": true
    }
  },
  "cells": [
    {
      "cell_type": "markdown",
      "metadata": {
        "id": "view-in-github",
        "colab_type": "text"
      },
      "source": [
        "<a href=\"https://colab.research.google.com/github/siddish-reddy/Deep-Learning-with-PyTorch/blob/master/dlnd_face_generation.ipynb\" target=\"_parent\"><img src=\"https://colab.research.google.com/assets/colab-badge.svg\" alt=\"Open In Colab\"/></a>"
      ]
    },
    {
      "cell_type": "markdown",
      "metadata": {
        "id": "qIZzmX6ngnV4",
        "colab_type": "text"
      },
      "source": [
        "# Face Generation\n",
        "\n",
        "In this project, you'll define and train a DCGAN on a dataset of faces. Your goal is to get a generator network to generate *new* images of faces that look as realistic as possible!\n",
        "\n",
        "The project will be broken down into a series of tasks from **loading in data to defining and training adversarial networks**. At the end of the notebook, you'll be able to visualize the results of your trained Generator to see how it performs; your generated samples should look like fairly realistic faces with small amounts of noise.\n",
        "\n",
        "### Get the Data\n",
        "\n",
        "You'll be using the [CelebFaces Attributes Dataset (CelebA)](http://mmlab.ie.cuhk.edu.hk/projects/CelebA.html) to train your adversarial networks.\n",
        "\n",
        "This dataset is more complex than the number datasets (like MNIST or SVHN) you've been working with, and so, you should prepare to define deeper networks and train them for a longer time to get good results. It is suggested that you utilize a GPU for training.\n",
        "\n",
        "### Pre-processed Data\n",
        "\n",
        "Since the project's main focus is on building the GANs, we've done *some* of the pre-processing for you. Each of the CelebA images has been cropped to remove parts of the image that don't include a face, then resized down to 64x64x3 NumPy images. Some sample data is show below.\n",
        "\n",
        "<img src='https://github.com/udacity/deep-learning-v2-pytorch/blob/master/project-face-generation/assets/processed_face_data.png?raw=1' width=60% />\n",
        "\n",
        "> If you are working locally, you can download this data [by clicking here](https://s3.amazonaws.com/video.udacity-data.com/topher/2018/November/5be7eb6f_processed-celeba-small/processed-celeba-small.zip)\n",
        "\n",
        "This is a zip file that you'll need to extract in the home directory of this notebook for further loading and processing. After extracting the data, you should be left with a directory of data `processed_celeba_small/`"
      ]
    },
    {
      "cell_type": "code",
      "metadata": {
        "id": "HNY2tLbjg01S",
        "colab_type": "code",
        "colab": {}
      },
      "source": [
        "!wget https://s3.amazonaws.com/video.udacity-data.com/topher/2018/November/5be7eb6f_processed-celeba-small/processed-celeba-small.zip"
      ],
      "execution_count": 0,
      "outputs": []
    },
    {
      "cell_type": "code",
      "metadata": {
        "id": "VNrJZBbTgnV7",
        "colab_type": "code",
        "colab": {}
      },
      "source": [
        "# can comment out after executing\n",
        "!unzip -q processed-celeba-small.zip"
      ],
      "execution_count": 0,
      "outputs": []
    },
    {
      "cell_type": "code",
      "metadata": {
        "id": "V8SDC7SzizQb",
        "colab_type": "code",
        "colab": {
          "base_uri": "https://localhost:8080/",
          "height": 222
        },
        "outputId": "3be68b31-4db3-4c75-a93b-31d91d1d68ba"
      },
      "source": [
        "!wget https://raw.githubusercontent.com/udacity/deep-learning-v2-pytorch/master/project-face-generation/problem_unittests.py"
      ],
      "execution_count": 4,
      "outputs": [
        {
          "output_type": "stream",
          "text": [
            "--2019-12-15 03:12:47--  https://raw.githubusercontent.com/udacity/deep-learning-v2-pytorch/master/project-face-generation/problem_unittests.py\n",
            "Resolving raw.githubusercontent.com (raw.githubusercontent.com)... 151.101.0.133, 151.101.64.133, 151.101.128.133, ...\n",
            "Connecting to raw.githubusercontent.com (raw.githubusercontent.com)|151.101.0.133|:443... connected.\n",
            "HTTP request sent, awaiting response... 200 OK\n",
            "Length: 2113 (2.1K) [text/plain]\n",
            "Saving to: ‘problem_unittests.py’\n",
            "\n",
            "\rproblem_unittests.p   0%[                    ]       0  --.-KB/s               \rproblem_unittests.p 100%[===================>]   2.06K  --.-KB/s    in 0s      \n",
            "\n",
            "2019-12-15 03:12:47 (45.5 MB/s) - ‘problem_unittests.py’ saved [2113/2113]\n",
            "\n"
          ],
          "name": "stdout"
        }
      ]
    },
    {
      "cell_type": "code",
      "metadata": {
        "id": "SqxD1ShIhq3V",
        "colab_type": "code",
        "colab": {}
      },
      "source": [
        "!rm -r __MACOSX"
      ],
      "execution_count": 0,
      "outputs": []
    },
    {
      "cell_type": "code",
      "metadata": {
        "id": "yUjSt_U4gnWC",
        "colab_type": "code",
        "colab": {}
      },
      "source": [
        "data_dir = 'processed-celeba-small/'\n",
        "\n",
        "\"\"\"\n",
        "DON'T MODIFY ANYTHING IN THIS CELL\n",
        "\"\"\"\n",
        "import pickle as pkl\n",
        "import matplotlib.pyplot as plt\n",
        "import numpy as np\n",
        "import problem_unittests as tests\n",
        "#import helper\n",
        "\n",
        "%matplotlib inline"
      ],
      "execution_count": 0,
      "outputs": []
    },
    {
      "cell_type": "markdown",
      "metadata": {
        "id": "0gFz-pTDgnWG",
        "colab_type": "text"
      },
      "source": [
        "## Visualize the CelebA Data\n",
        "\n",
        "The [CelebA](http://mmlab.ie.cuhk.edu.hk/projects/CelebA.html) dataset contains over 200,000 celebrity images with annotations. Since you're going to be generating faces, you won't need the annotations, you'll only need the images. Note that these are color images with [3 color channels (RGB)](https://en.wikipedia.org/wiki/Channel_(digital_image)#RGB_Images) each.\n",
        "\n",
        "### Pre-process and Load the Data\n",
        "\n",
        "Since the project's main focus is on building the GANs, we've done *some* of the pre-processing for you. Each of the CelebA images has been cropped to remove parts of the image that don't include a face, then resized down to 64x64x3 NumPy images. This *pre-processed* dataset is a smaller subset of the very large CelebA data.\n",
        "\n",
        "> There are a few other steps that you'll need to **transform** this data and create a **DataLoader**.\n",
        "\n",
        "#### Exercise: Complete the following `get_dataloader` function, such that it satisfies these requirements:\n",
        "\n",
        "* Your images should be square, Tensor images of size `image_size x image_size` in the x and y dimension.\n",
        "* Your function should return a DataLoader that shuffles and batches these Tensor images.\n",
        "\n",
        "#### ImageFolder\n",
        "\n",
        "To create a dataset given a directory of images, it's recommended that you use PyTorch's [ImageFolder](https://pytorch.org/docs/stable/torchvision/datasets.html#imagefolder) wrapper, with a root directory `processed_celeba_small/` and data transformation passed in."
      ]
    },
    {
      "cell_type": "code",
      "metadata": {
        "id": "G-onZepjgnWG",
        "colab_type": "code",
        "colab": {}
      },
      "source": [
        "# necessary imports\n",
        "import torch\n",
        "from torchvision import datasets\n",
        "from torchvision import transforms"
      ],
      "execution_count": 0,
      "outputs": []
    },
    {
      "cell_type": "code",
      "metadata": {
        "id": "JWbdZdAjgnWJ",
        "colab_type": "code",
        "colab": {}
      },
      "source": [
        "def get_dataloader(batch_size, image_size, data_dir='processed_celeba_small/'):\n",
        "    \"\"\"\n",
        "    Batch the neural network data using DataLoader\n",
        "    :param batch_size: The size of each batch; the number of images in a batch\n",
        "    :param img_size: The square size of the image data (x, y)\n",
        "    :param data_dir: Directory where image data is located\n",
        "    :return: DataLoader with batched data\n",
        "    \"\"\"\n",
        "    \n",
        "    transform = transforms.Compose([transforms.Resize(image_size), transforms.ToTensor()])\n",
        "    # TODO: Implement function and return a dataloader\n",
        "    dataset = datasets.ImageFolder(data_dir, transform)\n",
        "    return torch.utils.data.DataLoader(dataset, batch_size, shuffle=True, num_workers=1)"
      ],
      "execution_count": 0,
      "outputs": []
    },
    {
      "cell_type": "markdown",
      "metadata": {
        "id": "bKQvdl6PgnWL",
        "colab_type": "text"
      },
      "source": [
        "## Create a DataLoader\n",
        "\n",
        "#### Exercise: Create a DataLoader `celeba_train_loader` with appropriate hyperparameters.\n",
        "\n",
        "Call the above function and create a dataloader to view images. \n",
        "* You can decide on any reasonable `batch_size` parameter\n",
        "* Your `image_size` **must be** `32`. Resizing the data to a smaller size will make for faster training, while still creating convincing images of faces!"
      ]
    },
    {
      "cell_type": "code",
      "metadata": {
        "id": "rOrXPvEagnWM",
        "colab_type": "code",
        "colab": {}
      },
      "source": [
        "# Define function hyperparameters\n",
        "batch_size = 32\n",
        "img_size = 32\n",
        "\n",
        "\"\"\"\n",
        "DON'T MODIFY ANYTHING IN THIS CELL THAT IS BELOW THIS LINE\n",
        "\"\"\"\n",
        "# Call your function and get a dataloader\n",
        "celeba_train_loader = get_dataloader(batch_size, img_size)\n"
      ],
      "execution_count": 0,
      "outputs": []
    },
    {
      "cell_type": "markdown",
      "metadata": {
        "id": "l3AYkclTgnWP",
        "colab_type": "text"
      },
      "source": [
        "Next, you can view some images! You should seen square images of somewhat-centered faces.\n",
        "\n",
        "Note: You'll need to convert the Tensor images into a NumPy type and transpose the dimensions to correctly display an image, suggested `imshow` code is below, but it may not be perfect."
      ]
    },
    {
      "cell_type": "code",
      "metadata": {
        "id": "NvTmcxCognWQ",
        "colab_type": "code",
        "colab": {
          "base_uri": "https://localhost:8080/",
          "height": 268
        },
        "outputId": "def4ab40-8ae8-4a11-fbbf-5d4692b9982a"
      },
      "source": [
        "# helper display function\n",
        "def imshow(img):\n",
        "    npimg = img.numpy()\n",
        "    plt.imshow(np.transpose(npimg, (1, 2, 0)))\n",
        "\n",
        "\"\"\"\n",
        "DON'T MODIFY ANYTHING IN THIS CELL THAT IS BELOW THIS LINE\n",
        "\"\"\"\n",
        "# obtain one batch of training images\n",
        "dataiter = iter(celeba_train_loader)\n",
        "images, _ = dataiter.next() # _ for no labels\n",
        "\n",
        "# plot the images in the batch, along with the corresponding labels\n",
        "fig = plt.figure(figsize=(20, 4))\n",
        "plot_size=20\n",
        "for idx in np.arange(plot_size):\n",
        "    ax = fig.add_subplot(2, plot_size/2, idx+1, xticks=[], yticks=[])\n",
        "    imshow(images[idx])"
      ],
      "execution_count": 13,
      "outputs": [
        {
          "output_type": "display_data",
          "data": {
            "image/png": "[encoded data removed]",
            "text/plain": [
              "<Figure size 1440x288 with 20 Axes>"
            ]
          },
          "metadata": {
            "tags": []
          }
        }
      ]
    },
    {
      "cell_type": "markdown",
      "metadata": {
        "id": "PN6hnOyggnWU",
        "colab_type": "text"
      },
      "source": [
        "#### Exercise: Pre-process your image data and scale it to a pixel range of -1 to 1\n",
        "\n",
        "You need to do a bit of pre-processing; you know that the output of a `tanh` activated generator will contain pixel values in a range from -1 to 1, and so, we need to rescale our training images to a range of -1 to 1. (Right now, they are in a range from 0-1.)"
      ]
    },
    {
      "cell_type": "code",
      "metadata": {
        "id": "PxAhHiTFgnWV",
        "colab_type": "code",
        "colab": {}
      },
      "source": [
        "# TODO: Complete the scale function\n",
        "def scale(x, feature_range=(-1, 1)):\n",
        "    ''' Scale takes in an image x and returns that image, scaled\n",
        "       with a feature_range of pixel values from -1 to 1. \n",
        "       This function assumes that the input x is already scaled from 0-1.'''\n",
        "    # assume x is scaled to (0, 1)\n",
        "    # scale to feature_range and return scaled x\n",
        "    min_, max_ = feature_range\n",
        "    return x * (max_ - min_) + min_\n"
      ],
      "execution_count": 0,
      "outputs": []
    },
    {
      "cell_type": "code",
      "metadata": {
        "id": "7UufLRO0gnWX",
        "colab_type": "code",
        "colab": {
          "base_uri": "https://localhost:8080/",
          "height": 50
        },
        "outputId": "fa47db69-3362-4f72-b0b0-8c706cc1c6cb"
      },
      "source": [
        "\"\"\"\n",
        "DON'T MODIFY ANYTHING IN THIS CELL THAT IS BELOW THIS LINE\n",
        "\"\"\"\n",
        "# check scaled range\n",
        "# should be close to -1 to 1\n",
        "img = images[0]\n",
        "scaled_img = scale(img)\n",
        "\n",
        "print('Min: ', scaled_img.min())\n",
        "print('Max: ', scaled_img.max())"
      ],
      "execution_count": 17,
      "outputs": [
        {
          "output_type": "stream",
          "text": [
            "Min:  tensor(-0.9216)\n",
            "Max:  tensor(1.)\n"
          ],
          "name": "stdout"
        }
      ]
    },
    {
      "cell_type": "markdown",
      "metadata": {
        "id": "59v9nUiagnWZ",
        "colab_type": "text"
      },
      "source": [
        "---\n",
        "# Define the Model\n",
        "\n",
        "A GAN is comprised of two adversarial networks, a discriminator and a generator.\n",
        "\n",
        "## Discriminator\n",
        "\n",
        "Your first task will be to define the discriminator. This is a convolutional classifier like you've built before, only without any maxpooling layers. To deal with this complex data, it's suggested you use a deep network with **normalization**. You are also allowed to create any helper functions that may be useful.\n",
        "\n",
        "#### Exercise: Complete the Discriminator class\n",
        "* The inputs to the discriminator are 32x32x3 tensor images\n",
        "* The output should be a single value that will indicate whether a given image is real or fake\n"
      ]
    },
    {
      "cell_type": "code",
      "metadata": {
        "id": "8zzdPdjTgnWa",
        "colab_type": "code",
        "colab": {}
      },
      "source": [
        "import torch.nn as nn\n",
        "import torch.nn.functional as F"
      ],
      "execution_count": 0,
      "outputs": []
    },
    {
      "cell_type": "code",
      "metadata": {
        "id": "SA74a4S2gnWc",
        "colab_type": "code",
        "colab": {
          "base_uri": "https://localhost:8080/",
          "height": 34
        },
        "outputId": "90177b9b-772b-420e-a699-c923804ee8c2"
      },
      "source": [
        "class Discriminator(nn.Module):\n",
        "\n",
        "    def __init__(self, conv_dim):\n",
        "        \"\"\"\n",
        "        Initialize the Discriminator Module\n",
        "        :param conv_dim: The depth of the first convolutional layer\n",
        "        \"\"\"\n",
        "        super(Discriminator, self).__init__()\n",
        "        self.conv_dim = conv_dim\n",
        "        self.relu = nn.LeakyReLU(0.2)\n",
        "\n",
        "        # in: 32x32x3\n",
        "        self.conv1 = nn.Conv2d(3, conv_dim, kernel_size=4, stride=2, padding=1)\n",
        "\n",
        "        # in: 16x16xconv_dim\n",
        "        self.conv2 = nn.Conv2d(conv_dim, conv_dim*2, kernel_size=4, stride=2, padding=1, bias=False)\n",
        "        self.batch2 = nn.BatchNorm2d(conv_dim*2)\n",
        "\n",
        "        # in: 8x8x(conv_dim*2)\n",
        "        self.conv3 = nn.Conv2d(conv_dim*2, conv_dim*4, kernel_size=4, stride=2, padding=1, bias=False)\n",
        "        self.batch3 = nn.BatchNorm2d(conv_dim*4)\n",
        "\n",
        "        # in: 4x4x(conv_dim*4)\n",
        "        self.conv4 = nn.Conv2d(conv_dim*4, conv_dim*8, kernel_size=4, stride=2, padding=1, bias=False)\n",
        "        self.batch4 = nn.BatchNorm2d(conv_dim*8)\n",
        "\n",
        "        # in: 1x1x(conv_dim*8)\n",
        "        self.conv5 = nn.Conv2d(conv_dim*8, conv_dim*16, kernel_size=4, stride=2, padding=1, bias=False)\n",
        "        self.batch5 = nn.BatchNorm2d(conv_dim*16)\n",
        "\n",
        "        # in: 1x1x(conv_dim*16)\n",
        "        self.fc = nn.Linear(conv_dim*16, 1)\n",
        "        \n",
        "\n",
        "    def forward(self, x):\n",
        "        \"\"\"\n",
        "        Forward propagation of the neural network\n",
        "        :param x: The input to the neural network     \n",
        "        :return: Discriminator logits; the output of the neural network\n",
        "        \"\"\"\n",
        "        # define feedforward behavior\n",
        "        x = self.relu(self.conv1(x))\n",
        "        x = self.relu(self.batch2(self.conv2(x)))\n",
        "        x = self.relu(self.batch3(self.conv3(x)))\n",
        "        x = self.relu(self.batch4(self.conv4(x)))\n",
        "        x = self.relu(self.batch5(self.conv5(x)))\n",
        "\n",
        "        x = x.view(-1, self.conv_dim*16)\n",
        "        x = self.fc(x)\n",
        "        return x\n",
        "\n",
        "\n",
        "\"\"\"\n",
        "DON'T MODIFY ANYTHING IN THIS CELL THAT IS BELOW THIS LINE\n",
        "\"\"\"\n",
        "tests.test_discriminator(Discriminator)"
      ],
      "execution_count": 23,
      "outputs": [
        {
          "output_type": "stream",
          "text": [
            "Tests Passed\n"
          ],
          "name": "stdout"
        }
      ]
    },
    {
      "cell_type": "markdown",
      "metadata": {
        "id": "inWmaxUGgnWf",
        "colab_type": "text"
      },
      "source": [
        "## Generator\n",
        "\n",
        "The generator should upsample an input and generate a *new* image of the same size as our training data `32x32x3`. This should be mostly transpose convolutional layers with normalization applied to the outputs.\n",
        "\n",
        "#### Exercise: Complete the Generator class\n",
        "* The inputs to the generator are vectors of some length `z_size`\n",
        "* The output should be a image of shape `32x32x3`"
      ]
    },
    {
      "cell_type": "code",
      "metadata": {
        "id": "udbkP8X5gnWg",
        "colab_type": "code",
        "colab": {
          "base_uri": "https://localhost:8080/",
          "height": 34
        },
        "outputId": "86660978-50eb-455d-bd3f-3e03e43994f4"
      },
      "source": [
        "class Generator(nn.Module):\n",
        "    \n",
        "    def __init__(self, z_size, conv_dim):\n",
        "        \"\"\"\n",
        "        Initialize the Generator Module\n",
        "        :param z_size: The length of the input latent vector, z\n",
        "        :param conv_dim: The depth of the inputs to the *last* transpose convolutional layer\n",
        "        \"\"\"\n",
        "        super(Generator, self).__init__()\n",
        "        self.relu = nn.LeakyReLU(0.2)\n",
        "        self.tanh = nn.Tanh()\n",
        "        self.conv_dim = conv_dim\n",
        "        self.z_size = z_size\n",
        "\n",
        "        # in: (z_size)\n",
        "        self.fc  = nn.Linear(z_size, conv_dim*16)\n",
        "\n",
        "        #in: 1x1x(conv_dim*16)\n",
        "        self.t_conv1 = nn.ConvTranspose2d(conv_dim*16, conv_dim*8, kernel_size=4, stride=2, padding=1, bias=False)\n",
        "        self.batch1 = nn.BatchNorm2d(conv_dim*8)\n",
        "\n",
        "        #in: 2x2x(conv_dim*8) \n",
        "        self.t_conv2 = nn.ConvTranspose2d(conv_dim*8, conv_dim*4, kernel_size=4, stride=2, padding=1, bias=False)\n",
        "        self.batch2 = nn.BatchNorm2d(conv_dim*4)\n",
        "\n",
        "        #in: 4x4x(conv_dim*4)\n",
        "        self.t_conv3 = nn.ConvTranspose2d(conv_dim*4, conv_dim*2, kernel_size=4, stride=2, padding=1, bias=False)\n",
        "        self.batch3 = nn.BatchNorm2d(conv_dim*2)\n",
        "\n",
        "        #in: 8x8x(conv_dim*2)\n",
        "        self.t_conv4 = nn.ConvTranspose2d(conv_dim*2, conv_dim, kernel_size=4, stride=2, padding=1, bias=False)\n",
        "        self.batch4 = nn.BatchNorm2d(conv_dim)\n",
        "\n",
        "        #in: 16x16xconv_dim\n",
        "        self.t_conv5 = nn.ConvTranspose2d(conv_dim, 3, kernel_size=4, stride=2, padding=1, bias=False)\n",
        "\n",
        "        #out: 32x32x3\n",
        "\n",
        "    def forward(self, x):\n",
        "        \"\"\"\n",
        "        Forward propagation of the neural network\n",
        "        :param x: The input to the neural network     \n",
        "        :return: A 32x32x3 Tensor image as output\n",
        "        \"\"\"\n",
        "        # define feedforward behavior\n",
        "        x = self.fc(x)\n",
        "        x = x.view(-1,self.conv_dim*16, 1,1)\n",
        "        x = self.relu(self.batch1(self.t_conv1(x)))\n",
        "        x = self.relu(self.batch2(self.t_conv2(x)))\n",
        "        x = self.relu(self.batch3(self.t_conv3(x)))\n",
        "        x = self.relu(self.batch4(self.t_conv4(x)))\n",
        "        x = self.tanh(self.t_conv5(x))\n",
        "\n",
        "        return x\n",
        "\n",
        "\"\"\"\n",
        "DON'T MODIFY ANYTHING IN THIS CELL THAT IS BELOW THIS LINE\n",
        "\"\"\"\n",
        "tests.test_generator(Generator)"
      ],
      "execution_count": 32,
      "outputs": [
        {
          "output_type": "stream",
          "text": [
            "Tests Passed\n"
          ],
          "name": "stdout"
        }
      ]
    },
    {
      "cell_type": "markdown",
      "metadata": {
        "id": "cfpiHZUXgnWk",
        "colab_type": "text"
      },
      "source": [
        "## Initialize the weights of your networks\n",
        "\n",
        "To help your models converge, you should initialize the weights of the convolutional and linear layers in your model. From reading the [original DCGAN paper](https://arxiv.org/pdf/1511.06434.pdf), they say:\n",
        "> All weights were initialized from a zero-centered Normal distribution with standard deviation 0.02.\n",
        "\n",
        "So, your next task will be to define a weight initialization function that does just this!\n",
        "\n",
        "You can refer back to the lesson on weight initialization or even consult existing model code, such as that from [the `networks.py` file in CycleGAN Github repository](https://github.com/junyanz/pytorch-CycleGAN-and-pix2pix/blob/master/models/networks.py) to help you complete this function.\n",
        "\n",
        "#### Exercise: Complete the weight initialization function\n",
        "\n",
        "* This should initialize only **convolutional** and **linear** layers\n",
        "* Initialize the weights to a normal distribution, centered around 0, with a standard deviation of 0.02.\n",
        "* The bias terms, if they exist, may be left alone or set to 0."
      ]
    },
    {
      "cell_type": "code",
      "metadata": {
        "id": "3KFnLhjvgnWl",
        "colab_type": "code",
        "colab": {}
      },
      "source": [
        "\n",
        "def weights_init_normal(m):\n",
        "    \"\"\"\n",
        "    Applies initial weights to certain layers in a model .\n",
        "    The weights are taken from a normal distribution \n",
        "    with mean = 0, std dev = 0.02.\n",
        "    :param m: A module or layer in a network    \n",
        "    \"\"\"\n",
        "    # classname will be something like:\n",
        "    # `Conv2d`, `BatchNorm2d`, `Linear`, `ConvTranspose2d` etc.\n",
        "    classname = m.__class__.__name__\n",
        "\n",
        "    if hasattr(m, 'weight') and (classname in ['Conv2d', 'Linear', 'ConvTranspose2d']) :\n",
        "      nn.init.normal_(m.weight.data, 0.0, 0.02)\n",
        "      if hasattr(m, 'bias') and m.bias is not None:\n",
        "                nn.init.constant_(m.bias.data, 0.0)\n",
        "\n",
        "\n",
        "    "
      ],
      "execution_count": 0,
      "outputs": []
    },
    {
      "cell_type": "markdown",
      "metadata": {
        "collapsed": true,
        "id": "a1Xdx7GfgnWn",
        "colab_type": "text"
      },
      "source": [
        "## Build complete network\n",
        "\n",
        "Define your models' hyperparameters and instantiate the discriminator and generator from the classes defined above. Make sure you've passed in the correct input arguments."
      ]
    },
    {
      "cell_type": "code",
      "metadata": {
        "id": "ve_Ol-g2gnWo",
        "colab_type": "code",
        "colab": {}
      },
      "source": [
        "\"\"\"\n",
        "DON'T MODIFY ANYTHING IN THIS CELL THAT IS BELOW THIS LINE\n",
        "\"\"\"\n",
        "def build_network(d_conv_dim, g_conv_dim, z_size):\n",
        "    # define discriminator and generator\n",
        "    D = Discriminator(d_conv_dim)\n",
        "    G = Generator(z_size=z_size, conv_dim=g_conv_dim)\n",
        "\n",
        "    # initialize model weights\n",
        "    D.apply(weights_init_normal)\n",
        "    G.apply(weights_init_normal)\n",
        "\n",
        "    print(D)\n",
        "    print()\n",
        "    print(G)\n",
        "    \n",
        "    return D, G\n"
      ],
      "execution_count": 0,
      "outputs": []
    },
    {
      "cell_type": "markdown",
      "metadata": {
        "id": "ute7Z35ggnWq",
        "colab_type": "text"
      },
      "source": [
        "#### Exercise: Define model hyperparameters"
      ]
    },
    {
      "cell_type": "code",
      "metadata": {
        "id": "5WCKZy8ygnWr",
        "colab_type": "code",
        "colab": {
          "base_uri": "https://localhost:8080/",
          "height": 487
        },
        "outputId": "dc63990b-9c49-449d-c859-7e377201c667"
      },
      "source": [
        "# Define model hyperparams\n",
        "d_conv_dim = 64\n",
        "g_conv_dim = 64\n",
        "z_size = 256\n",
        "\n",
        "\"\"\"\n",
        "DON'T MODIFY ANYTHING IN THIS CELL THAT IS BELOW THIS LINE\n",
        "\"\"\"\n",
        "D, G = build_network(d_conv_dim, g_conv_dim, z_size)"
      ],
      "execution_count": 43,
      "outputs": [
        {
          "output_type": "stream",
          "text": [
            "Discriminator(\n",
            "  (relu): LeakyReLU(negative_slope=0.2)\n",
            "  (conv1): Conv2d(3, 64, kernel_size=(4, 4), stride=(2, 2), padding=(1, 1))\n",
            "  (conv2): Conv2d(64, 128, kernel_size=(4, 4), stride=(2, 2), padding=(1, 1), bias=False)\n",
            "  (batch2): BatchNorm2d(128, eps=1e-05, momentum=0.1, affine=True, track_running_stats=True)\n",
            "  (conv3): Conv2d(128, 256, kernel_size=(4, 4), stride=(2, 2), padding=(1, 1), bias=False)\n",
            "  (batch3): BatchNorm2d(256, eps=1e-05, momentum=0.1, affine=True, track_running_stats=True)\n",
            "  (conv4): Conv2d(256, 512, kernel_size=(4, 4), stride=(2, 2), padding=(1, 1), bias=False)\n",
            "  (batch4): BatchNorm2d(512, eps=1e-05, momentum=0.1, affine=True, track_running_stats=True)\n",
            "  (conv5): Conv2d(512, 1024, kernel_size=(4, 4), stride=(2, 2), padding=(1, 1), bias=False)\n",
            "  (batch5): BatchNorm2d(1024, eps=1e-05, momentum=0.1, affine=True, track_running_stats=True)\n",
            "  (fc): Linear(in_features=1024, out_features=1, bias=True)\n",
            ")\n",
            "\n",
            "Generator(\n",
            "  (relu): LeakyReLU(negative_slope=0.2)\n",
            "  (tanh): Tanh()\n",
            "  (fc): Linear(in_features=256, out_features=1024, bias=True)\n",
            "  (t_conv1): ConvTranspose2d(1024, 512, kernel_size=(4, 4), stride=(2, 2), padding=(1, 1), bias=False)\n",
            "  (batch1): BatchNorm2d(512, eps=1e-05, momentum=0.1, affine=True, track_running_stats=True)\n",
            "  (t_conv2): ConvTranspose2d(512, 256, kernel_size=(4, 4), stride=(2, 2), padding=(1, 1), bias=False)\n",
            "  (batch2): BatchNorm2d(256, eps=1e-05, momentum=0.1, affine=True, track_running_stats=True)\n",
            "  (t_conv3): ConvTranspose2d(256, 128, kernel_size=(4, 4), stride=(2, 2), padding=(1, 1), bias=False)\n",
            "  (batch3): BatchNorm2d(128, eps=1e-05, momentum=0.1, affine=True, track_running_stats=True)\n",
            "  (t_conv4): ConvTranspose2d(128, 64, kernel_size=(4, 4), stride=(2, 2), padding=(1, 1), bias=False)\n",
            "  (batch4): BatchNorm2d(64, eps=1e-05, momentum=0.1, affine=True, track_running_stats=True)\n",
            "  (t_conv5): ConvTranspose2d(64, 3, kernel_size=(4, 4), stride=(2, 2), padding=(1, 1), bias=False)\n",
            ")\n"
          ],
          "name": "stdout"
        }
      ]
    },
    {
      "cell_type": "markdown",
      "metadata": {
        "id": "bmVplh9SgnWt",
        "colab_type": "text"
      },
      "source": [
        "### Training on GPU\n",
        "\n",
        "Check if you can train on GPU. Here, we'll set this as a boolean variable `train_on_gpu`. Later, you'll be responsible for making sure that \n",
        ">* Models,\n",
        "* Model inputs, and\n",
        "* Loss function arguments\n",
        "\n",
        "Are moved to GPU, where appropriate."
      ]
    },
    {
      "cell_type": "code",
      "metadata": {
        "id": "b0El3zNqgnWu",
        "colab_type": "code",
        "colab": {
          "base_uri": "https://localhost:8080/",
          "height": 34
        },
        "outputId": "391e9db3-5d4e-4462-99d0-6dc8aeaf64ba"
      },
      "source": [
        "\"\"\"\n",
        "DON'T MODIFY ANYTHING IN THIS CELL\n",
        "\"\"\"\n",
        "import torch\n",
        "\n",
        "# Check for a GPU\n",
        "train_on_gpu = torch.cuda.is_available()\n",
        "if not train_on_gpu:\n",
        "    print('No GPU found. Please use a GPU to train your neural network.')\n",
        "else:\n",
        "    print('Training on GPU!')"
      ],
      "execution_count": 42,
      "outputs": [
        {
          "output_type": "stream",
          "text": [
            "No GPU found. Please use a GPU to train your neural network.\n"
          ],
          "name": "stdout"
        }
      ]
    },
    {
      "cell_type": "markdown",
      "metadata": {
        "id": "-BsHmqrDgnWw",
        "colab_type": "text"
      },
      "source": [
        "---\n",
        "## Discriminator and Generator Losses\n",
        "\n",
        "Now we need to calculate the losses for both types of adversarial networks.\n",
        "\n",
        "### Discriminator Losses\n",
        "\n",
        "> * For the discriminator, the total loss is the sum of the losses for real and fake images, `d_loss = d_real_loss + d_fake_loss`. \n",
        "* Remember that we want the discriminator to output 1 for real images and 0 for fake images, so we need to set up the losses to reflect that.\n",
        "\n",
        "\n",
        "### Generator Loss\n",
        "\n",
        "The generator loss will look similar only with flipped labels. The generator's goal is to get the discriminator to *think* its generated images are *real*.\n",
        "\n",
        "#### Exercise: Complete real and fake loss functions\n",
        "\n",
        "**You may choose to use either cross entropy or a least squares error loss to complete the following `real_loss` and `fake_loss` functions.**"
      ]
    },
    {
      "cell_type": "code",
      "metadata": {
        "id": "fOWdxhuugnWx",
        "colab_type": "code",
        "colab": {}
      },
      "source": [
        "def real_loss(D_out):\n",
        "    '''Calculates how close discriminator outputs are to being real.\n",
        "       param, D_out: discriminator logits\n",
        "       return: real loss'''\n",
        "    criterion = nn.BCEWithLogitsLoss()\n",
        "    target = torch.ones(D_out.size(0))*0.9\n",
        "    if train_on_gpu:\n",
        "        target = target.cuda()\n",
        "    loss = criterion(D_out.squeeze(), target)\n",
        "    return loss\n",
        "\n",
        "def fake_loss(D_out):\n",
        "    '''Calculates how close discriminator outputs are to being fake.\n",
        "       param, D_out: discriminator logits\n",
        "       return: fake loss'''\n",
        "    criterion = nn.BCEWithLogitsLoss()\n",
        "    target = torch.zeros(D_out.size(0))\n",
        "    if train_on_gpu:\n",
        "        target = target.cuda()\n",
        "    loss = criterion(D_out.squeeze(), target)\n",
        "    return loss"
      ],
      "execution_count": 0,
      "outputs": []
    },
    {
      "cell_type": "markdown",
      "metadata": {
        "id": "nEsrfBw8gnW1",
        "colab_type": "text"
      },
      "source": [
        "## Optimizers\n",
        "\n",
        "#### Exercise: Define optimizers for your Discriminator (D) and Generator (G)\n",
        "\n",
        "Define optimizers for your models with appropriate hyperparameters."
      ]
    },
    {
      "cell_type": "code",
      "metadata": {
        "id": "0cASdVeKgnW1",
        "colab_type": "code",
        "colab": {}
      },
      "source": [
        "import torch.optim as optim\n",
        "\n",
        "# Create optimizers for the discriminator D and generator G\n",
        "d_optimizer = optim.Adam(D.parameters(), 0.0002, [0.5, 0.999])\n",
        "g_optimizer = optim.Adam(G.parameters(), 0.0002, [0.5, 0.999])"
      ],
      "execution_count": 0,
      "outputs": []
    },
    {
      "cell_type": "markdown",
      "metadata": {
        "id": "a6U4mJQ2gnW6",
        "colab_type": "text"
      },
      "source": [
        "---\n",
        "## Training\n",
        "\n",
        "Training will involve alternating between training the discriminator and the generator. You'll use your functions `real_loss` and `fake_loss` to help you calculate the discriminator losses.\n",
        "\n",
        "* You should train the discriminator by alternating on real and fake images\n",
        "* Then the generator, which tries to trick the discriminator and should have an opposing loss function\n",
        "\n",
        "\n",
        "#### Saving Samples\n",
        "\n",
        "You've been given some code to print out some loss statistics and save some generated \"fake\" samples."
      ]
    },
    {
      "cell_type": "markdown",
      "metadata": {
        "id": "lEdHDAAygnW7",
        "colab_type": "text"
      },
      "source": [
        "#### Exercise: Complete the training function\n",
        "\n",
        "Keep in mind that, if you've moved your models to GPU, you'll also have to move any model inputs to GPU."
      ]
    },
    {
      "cell_type": "code",
      "metadata": {
        "id": "z5v3RtGsgnW-",
        "colab_type": "code",
        "colab": {}
      },
      "source": [
        "def train(D, G, n_epochs, print_every=50):\n",
        "    '''Trains adversarial networks for some number of epochs\n",
        "       param, D: the discriminator network\n",
        "       param, G: the generator network\n",
        "       param, n_epochs: number of epochs to train for\n",
        "       param, print_every: when to print and record the models' losses\n",
        "       return: D and G losses'''\n",
        "    \n",
        "    # move models to GPU\n",
        "    if train_on_gpu:\n",
        "        D.cuda()\n",
        "        G.cuda()\n",
        "\n",
        "    # keep track of loss and generated, \"fake\" samples\n",
        "    samples = []\n",
        "    losses = []\n",
        "\n",
        "    # Get some fixed data for sampling. These are images that are held\n",
        "    # constant throughout training, and allow us to inspect the model's performance\n",
        "    sample_size=16\n",
        "    fixed_z = np.random.uniform(-1, 1, size=(sample_size, z_size))\n",
        "    fixed_z = torch.from_numpy(fixed_z).float()\n",
        "    # move z to GPU if available\n",
        "    if train_on_gpu:\n",
        "        fixed_z = fixed_z.cuda()\n",
        "\n",
        "    # epoch training loop\n",
        "    for epoch in range(n_epochs):\n",
        "\n",
        "        # batch training loop\n",
        "        for batch_i, (real_images, _) in enumerate(celeba_train_loader):\n",
        "\n",
        "            batch_size = real_images.size(0)\n",
        "            real_images = scale(real_images)\n",
        "\n",
        "            # ===============================================\n",
        "            #         YOUR CODE HERE: TRAIN THE NETWORKS\n",
        "            # ===============================================\n",
        "            \n",
        "            # 1. Train the discriminator on real and fake images\n",
        "            d_optimizer.zero_grad()\n",
        "\n",
        "            if train_on_gpu:\n",
        "              real_images = real_images.cuda()\n",
        "            D_real = D(real_images)\n",
        "            d_real_loss = real_loss(D_real)\n",
        "\n",
        "            z = np.random.uniform(-1, 1, size=(batch_size, z_size))\n",
        "            z = torch.from_numpy(z).float()\n",
        "\n",
        "            if train_on_gpu:\n",
        "                z = z.cuda()\n",
        "            fake_images = G(z)           \n",
        "            D_fake = D(fake_images)\n",
        "            d_fake_loss = fake_loss(D_fake)\n",
        "\n",
        "            d_loss = d_real_loss + d_fake_loss\n",
        "\n",
        "            d_loss.backward()\n",
        "            d_optimizer.step()\n",
        "\n",
        "            # 2. Train the generator with an adversarial loss\n",
        "            g_optimizer.zero_grad()\n",
        "            z = np.random.uniform(-1, 1, size=(batch_size, z_size))\n",
        "            z = torch.from_numpy(z).float()\n",
        "            if train_on_gpu:\n",
        "                z = z.cuda()\n",
        "            fake_images = G(z)\n",
        "            D_fake = D(fake_images)\n",
        "\n",
        "            g_loss = real_loss(D_fake)\n",
        "            g_loss.backward()\n",
        "            g_optimizer.step()\n",
        "            \n",
        "            \n",
        "            # ===============================================\n",
        "            #              END OF YOUR CODE\n",
        "            # ===============================================\n",
        "\n",
        "            # Print some loss stats\n",
        "            if batch_i % print_every == 0:\n",
        "                # append discriminator loss and generator loss\n",
        "                losses.append((d_loss.item(), g_loss.item()))\n",
        "                # print discriminator and generator loss\n",
        "                print('Epoch [{:5d}/{:5d}] | d_loss: {:6.4f} | g_loss: {:6.4f}'.format(\n",
        "                        epoch+1, n_epochs, d_loss.item(), g_loss.item()))\n",
        "\n",
        "\n",
        "        ## AFTER EACH EPOCH##    \n",
        "        # this code assumes your generator is named G, feel free to change the name\n",
        "        # generate and save sample, fake images\n",
        "        G.eval() # for generating samples\n",
        "        samples_z = G(fixed_z)\n",
        "        samples.append(samples_z)\n",
        "        G.train() # back to training mode\n",
        "\n",
        "    # Save training generator samples\n",
        "    with open('train_samples.pkl', 'wb') as f:\n",
        "        pkl.dump(samples, f)\n",
        "    \n",
        "    # finally return losses\n",
        "    return losses"
      ],
      "execution_count": 0,
      "outputs": []
    },
    {
      "cell_type": "markdown",
      "metadata": {
        "id": "gMnq_8HognXB",
        "colab_type": "text"
      },
      "source": [
        "Set your number of training epochs and train your GAN!"
      ]
    },
    {
      "cell_type": "code",
      "metadata": {
        "id": "tmToI8uCgnXB",
        "colab_type": "code",
        "colab": {}
      },
      "source": [
        "# set number of epochs \n",
        "n_epochs = 50\n",
        "\n",
        "\n",
        "\"\"\"\n",
        "DON'T MODIFY ANYTHING IN THIS CELL\n",
        "\"\"\"\n",
        "# call training function\n",
        "losses = train(D, G, n_epochs=n_epochs)"
      ],
      "execution_count": 0,
      "outputs": []
    },
    {
      "cell_type": "markdown",
      "metadata": {
        "collapsed": true,
        "id": "Y63l_VJ2gnXF",
        "colab_type": "text"
      },
      "source": [
        "## Training loss\n",
        "\n",
        "Plot the training losses for the generator and discriminator, recorded after each epoch."
      ]
    },
    {
      "cell_type": "code",
      "metadata": {
        "id": "HfVaOELhgnXG",
        "colab_type": "code",
        "colab": {}
      },
      "source": [
        "fig, ax = plt.subplots()\n",
        "losses = np.array(losses)\n",
        "plt.plot(losses.T[0], label='Discriminator', alpha=0.5)\n",
        "plt.plot(losses.T[1], label='Generator', alpha=0.5)\n",
        "plt.title(\"Training Losses\")\n",
        "plt.legend()"
      ],
      "execution_count": 0,
      "outputs": []
    },
    {
      "cell_type": "markdown",
      "metadata": {
        "collapsed": true,
        "id": "2USOEoOXgnXI",
        "colab_type": "text"
      },
      "source": [
        "## Generator samples from training\n",
        "\n",
        "View samples of images from the generator, and answer a question about the strengths and weaknesses of your trained models."
      ]
    },
    {
      "cell_type": "code",
      "metadata": {
        "id": "yd_fQM0-gnXJ",
        "colab_type": "code",
        "colab": {}
      },
      "source": [
        "# helper function for viewing a list of passed in sample images\n",
        "def view_samples(epoch, samples):\n",
        "    fig, axes = plt.subplots(figsize=(16,4), nrows=2, ncols=8, sharey=True, sharex=True)\n",
        "    for ax, img in zip(axes.flatten(), samples[epoch]):\n",
        "        img = img.detach().cpu().numpy()\n",
        "        img = np.transpose(img, (1, 2, 0))\n",
        "        img = ((img + 1)*255 / (2)).astype(np.uint8)\n",
        "        ax.xaxis.set_visible(False)\n",
        "        ax.yaxis.set_visible(False)\n",
        "        im = ax.imshow(img.reshape((32,32,3)))"
      ],
      "execution_count": 0,
      "outputs": []
    },
    {
      "cell_type": "code",
      "metadata": {
        "id": "Hlal-QetgnXL",
        "colab_type": "code",
        "colab": {}
      },
      "source": [
        "# Load samples from generator, taken while training\n",
        "with open('train_samples.pkl', 'rb') as f:\n",
        "    samples = pkl.load(f)"
      ],
      "execution_count": 0,
      "outputs": []
    },
    {
      "cell_type": "code",
      "metadata": {
        "id": "Q2EgyLIugnXN",
        "colab_type": "code",
        "colab": {}
      },
      "source": [
        "_ = view_samples(-1, samples)"
      ],
      "execution_count": 0,
      "outputs": []
    },
    {
      "cell_type": "markdown",
      "metadata": {
        "id": "tN8k0OHrgnXP",
        "colab_type": "text"
      },
      "source": [
        "### Question: What do you notice about your generated samples and how might you improve this model?\n",
        "When you answer this question, consider the following factors:\n",
        "* The dataset is biased; it is made of \"celebrity\" faces that are mostly white\n",
        "* Model size; larger models have the opportunity to learn more features in a data feature space\n",
        "* Optimization strategy; optimizers and number of epochs affect your final result\n"
      ]
    },
    {
      "cell_type": "markdown",
      "metadata": {
        "id": "tSPihVZjgnXP",
        "colab_type": "text"
      },
      "source": [
        "**Answer:** (Write your answer in this cell)"
      ]
    },
    {
      "cell_type": "markdown",
      "metadata": {
        "id": "Prmy23wjgnXQ",
        "colab_type": "text"
      },
      "source": [
        "### Submitting This Project\n",
        "When submitting this project, make sure to run all the cells before saving the notebook. Save the notebook file as \"dlnd_face_generation.ipynb\" and save it as a HTML file under \"File\" -> \"Download as\". Include the \"problem_unittests.py\" files in your submission."
      ]
    }
  ]
}