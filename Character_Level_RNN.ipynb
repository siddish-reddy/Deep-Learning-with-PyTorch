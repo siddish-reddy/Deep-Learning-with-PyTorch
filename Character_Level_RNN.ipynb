{
  "nbformat": 4,
  "nbformat_minor": 0,
  "metadata": {
    "kernelspec": {
      "name": "python3",
      "display_name": "Python 3"
    },
    "language_info": {
      "codemirror_mode": {
        "name": "ipython",
        "version": 3
      },
      "file_extension": ".py",
      "mimetype": "text/x-python",
      "name": "python",
      "nbconvert_exporter": "python",
      "pygments_lexer": "ipython3",
      "version": "3.6.4"
    },
    "colab": {
      "name": "Character_Level_RNN.ipynb",
      "provenance": [],
      "toc_visible": true,
      "include_colab_link": true
    },
    "accelerator": "GPU"
  },
  "cells": [
    {
      "cell_type": "markdown",
      "metadata": {
        "id": "view-in-github",
        "colab_type": "text"
      },
      "source": [
        "<a href=\"https://colab.research.google.com/github/siddish-reddy/Deep-Learning-with-PyTorch/blob/master/Character_Level_RNN.ipynb\" target=\"_parent\"><img src=\"https://colab.research.google.com/assets/colab-badge.svg\" alt=\"Open In Colab\"/></a>"
      ]
    },
    {
      "cell_type": "markdown",
      "metadata": {
        "id": "84nbNCgojDz7",
        "colab_type": "text"
      },
      "source": [
        "# Character-Level LSTM in PyTorch\n",
        "\n",
        "In this notebook, I'll construct a character-level LSTM with PyTorch. The network will train character by character on some text, then generate new text character by character. As an example, I will train on Anna Karenina. **This model will be able to generate new text based on the text from the book!**\n",
        "\n",
        "This network is based off of Andrej Karpathy's [post on RNNs](http://karpathy.github.io/2015/05/21/rnn-effectiveness/) and [implementation in Torch](https://github.com/karpathy/char-rnn). Below is the general architecture of the character-wise RNN.\n",
        "\n",
        "<img src=\"https://github.com/udacity/deep-learning-v2-pytorch/blob/master/recurrent-neural-networks/char-rnn/assets/charseq.jpeg?raw=1\" width=\"500\">"
      ]
    },
    {
      "cell_type": "markdown",
      "metadata": {
        "id": "fxxbQTc5jDz_",
        "colab_type": "text"
      },
      "source": [
        "First let's load in our required resources for data loading and model creation."
      ]
    },
    {
      "cell_type": "code",
      "metadata": {
        "id": "JBFnhdc9jD0B",
        "colab_type": "code",
        "colab": {}
      },
      "source": [
        "import numpy as np\n",
        "import torch\n",
        "from torch import nn\n",
        "import torch.nn.functional as F"
      ],
      "execution_count": 0,
      "outputs": []
    },
    {
      "cell_type": "code",
      "metadata": {
        "id": "mFM0VDZXj3jD",
        "colab_type": "code",
        "colab": {
          "base_uri": "https://localhost:8080/",
          "height": 309
        },
        "outputId": "1d09acbd-ca85-4103-8822-7c7992f3cb46"
      },
      "source": [
        "!wget https://github.com/udacity/deep-learning-v2-pytorch/raw/master/recurrent-neural-networks/char-rnn/data/anna.txt"
      ],
      "execution_count": 2,
      "outputs": [
        {
          "output_type": "stream",
          "text": [
            "--2019-12-04 17:03:31--  https://github.com/udacity/deep-learning-v2-pytorch/raw/master/recurrent-neural-networks/char-rnn/data/anna.txt\n",
            "Resolving github.com (github.com)... 13.229.188.59\n",
            "Connecting to github.com (github.com)|13.229.188.59|:443... connected.\n",
            "HTTP request sent, awaiting response... 302 Found\n",
            "Location: https://raw.githubusercontent.com/udacity/deep-learning-v2-pytorch/master/recurrent-neural-networks/char-rnn/data/anna.txt [following]\n",
            "--2019-12-04 17:03:32--  https://raw.githubusercontent.com/udacity/deep-learning-v2-pytorch/master/recurrent-neural-networks/char-rnn/data/anna.txt\n",
            "Resolving raw.githubusercontent.com (raw.githubusercontent.com)... 151.101.0.133, 151.101.64.133, 151.101.128.133, ...\n",
            "Connecting to raw.githubusercontent.com (raw.githubusercontent.com)|151.101.0.133|:443... connected.\n",
            "HTTP request sent, awaiting response... 200 OK\n",
            "Length: 2025486 (1.9M) [text/plain]\n",
            "Saving to: ‘anna.txt’\n",
            "\n",
            "anna.txt            100%[===================>]   1.93M  --.-KB/s    in 0.03s   \n",
            "\n",
            "2019-12-04 17:03:35 (64.6 MB/s) - ‘anna.txt’ saved [2025486/2025486]\n",
            "\n"
          ],
          "name": "stdout"
        }
      ]
    },
    {
      "cell_type": "markdown",
      "metadata": {
        "id": "TabE18o3jD0G",
        "colab_type": "text"
      },
      "source": [
        "## Load in Data\n",
        "\n",
        "Then, we'll load the Anna Karenina text file and convert it into integers for our network to use. "
      ]
    },
    {
      "cell_type": "code",
      "metadata": {
        "id": "S7YyZS7_jD0H",
        "colab_type": "code",
        "colab": {}
      },
      "source": [
        "# open text file and read in data as `text`\n",
        "with open('anna.txt', 'r') as f:\n",
        "    text = f.read()"
      ],
      "execution_count": 0,
      "outputs": []
    },
    {
      "cell_type": "markdown",
      "metadata": {
        "id": "sfkOjC8-jD0L",
        "colab_type": "text"
      },
      "source": [
        "Let's check out the first 100 characters, make sure everything is peachy. According to the [American Book Review](http://americanbookreview.org/100bestlines.asp), this is the 6th best first line of a book ever."
      ]
    },
    {
      "cell_type": "code",
      "metadata": {
        "id": "yfTnnUcLjD0M",
        "colab_type": "code",
        "colab": {
          "base_uri": "https://localhost:8080/",
          "height": 34
        },
        "outputId": "8759aec4-d893-418a-c8ed-7b567589eb20"
      },
      "source": [
        "text[:100]"
      ],
      "execution_count": 4,
      "outputs": [
        {
          "output_type": "execute_result",
          "data": {
            "text/plain": [
              "'Chapter 1\\n\\n\\nHappy families are all alike; every unhappy family is unhappy in its own\\nway.\\n\\nEverythin'"
            ]
          },
          "metadata": {
            "tags": []
          },
          "execution_count": 4
        }
      ]
    },
    {
      "cell_type": "markdown",
      "metadata": {
        "id": "dKxPKgZujD0P",
        "colab_type": "text"
      },
      "source": [
        "### Tokenization\n",
        "\n",
        "In the cells, below, I'm creating a couple **dictionaries** to convert the characters to and from integers. Encoding the characters as integers makes it easier to use as input in the network."
      ]
    },
    {
      "cell_type": "code",
      "metadata": {
        "id": "d5Hhm9vqjD0Q",
        "colab_type": "code",
        "colab": {}
      },
      "source": [
        "# encode the text and map each character to an integer and vice versa\n",
        "\n",
        "# we create two dictionaries:\n",
        "# 1. int2char, which maps integers to characters\n",
        "# 2. char2int, which maps characters to unique integers\n",
        "chars = tuple(set(text))\n",
        "int2char = dict(enumerate(chars))\n",
        "char2int = {ch: ii for ii, ch in int2char.items()}\n",
        "\n",
        "# encode the text\n",
        "encoded = np.array([char2int[ch] for ch in text])"
      ],
      "execution_count": 0,
      "outputs": []
    },
    {
      "cell_type": "markdown",
      "metadata": {
        "id": "atKy8YzojD0T",
        "colab_type": "text"
      },
      "source": [
        "And we can see those same characters from above, encoded as integers."
      ]
    },
    {
      "cell_type": "code",
      "metadata": {
        "id": "-Sje75QAjD0U",
        "colab_type": "code",
        "colab": {
          "base_uri": "https://localhost:8080/",
          "height": 119
        },
        "outputId": "237bee81-6f0a-48bc-8f1a-c8f24970b0f5"
      },
      "source": [
        "encoded[:100]"
      ],
      "execution_count": 6,
      "outputs": [
        {
          "output_type": "execute_result",
          "data": {
            "text/plain": [
              "array([35, 81, 47, 77, 10, 80, 58, 54, 51, 40, 40, 40, 82, 47, 77, 77, 20,\n",
              "       54, 57, 47, 39, 55, 21, 55, 80,  6, 54, 47, 58, 80, 54, 47, 21, 21,\n",
              "       54, 47, 21, 55,  2, 80, 14, 54, 80, 48, 80, 58, 20, 54, 37, 42, 81,\n",
              "       47, 77, 77, 20, 54, 57, 47, 39, 55, 21, 20, 54, 55,  6, 54, 37, 42,\n",
              "       81, 47, 77, 77, 20, 54, 55, 42, 54, 55, 10,  6, 54, 68, 19, 42, 40,\n",
              "       19, 47, 20,  0, 40, 40, 30, 48, 80, 58, 20, 10, 81, 55, 42])"
            ]
          },
          "metadata": {
            "tags": []
          },
          "execution_count": 6
        }
      ]
    },
    {
      "cell_type": "markdown",
      "metadata": {
        "id": "pZeNC3ImjD0Y",
        "colab_type": "text"
      },
      "source": [
        "## Pre-processing the data\n",
        "\n",
        "As you can see in our char-RNN image above, our LSTM expects an input that is **one-hot encoded** meaning that each character is converted into an integer (via our created dictionary) and *then* converted into a column vector where only it's corresponding integer index will have the value of 1 and the rest of the vector will be filled with 0's. Since we're one-hot encoding the data, let's make a function to do that!\n"
      ]
    },
    {
      "cell_type": "code",
      "metadata": {
        "id": "0RlIySlxjD0Z",
        "colab_type": "code",
        "colab": {}
      },
      "source": [
        "def one_hot_encode(arr, n_labels):\n",
        "    \n",
        "    # Initialize the the encoded array\n",
        "    one_hot = np.zeros((arr.size, n_labels), dtype=np.float32)\n",
        "    \n",
        "    # Fill the appropriate elements with ones\n",
        "    one_hot[np.arange(one_hot.shape[0]), arr.flatten()] = 1.\n",
        "    \n",
        "    # Finally reshape it to get back to the original array\n",
        "    one_hot = one_hot.reshape((*arr.shape, n_labels))\n",
        "    \n",
        "    return one_hot"
      ],
      "execution_count": 0,
      "outputs": []
    },
    {
      "cell_type": "code",
      "metadata": {
        "id": "X1rX-ZDejD0b",
        "colab_type": "code",
        "colab": {
          "base_uri": "https://localhost:8080/",
          "height": 68
        },
        "outputId": "c932d896-574e-4af5-c050-d5b638143f90"
      },
      "source": [
        "# check that the function works as expected\n",
        "test_seq = np.array([[3, 5, 1]])\n",
        "one_hot = one_hot_encode(test_seq, 8)\n",
        "\n",
        "print(one_hot)"
      ],
      "execution_count": 8,
      "outputs": [
        {
          "output_type": "stream",
          "text": [
            "[[[0. 0. 0. 1. 0. 0. 0. 0.]\n",
            "  [0. 0. 0. 0. 0. 1. 0. 0.]\n",
            "  [0. 1. 0. 0. 0. 0. 0. 0.]]]\n"
          ],
          "name": "stdout"
        }
      ]
    },
    {
      "cell_type": "markdown",
      "metadata": {
        "id": "zP6UuyCDjD0d",
        "colab_type": "text"
      },
      "source": [
        "## Making training mini-batches\n",
        "\n",
        "\n",
        "To train on this data, we also want to create mini-batches for training. Remember that we want our batches to be multiple sequences of some desired number of sequence steps. Considering a simple example, our batches would look like this:\n",
        "\n",
        "<img src=\"https://github.com/udacity/deep-learning-v2-pytorch/blob/master/recurrent-neural-networks/char-rnn/assets/sequence_batching@1x.png?raw=1\" width=500px>\n",
        "\n",
        "\n",
        "<br>\n",
        "\n",
        "In this example, we'll take the encoded characters (passed in as the `arr` parameter) and split them into multiple sequences, given by `batch_size`. Each of our sequences will be `seq_length` long.\n",
        "\n",
        "### Creating Batches\n",
        "\n",
        "**1. The first thing we need to do is discard some of the text so we only have completely full mini-batches. **\n",
        "\n",
        "Each batch contains $N \\times M$ characters, where $N$ is the batch size (the number of sequences in a batch) and $M$ is the seq_length or number of time steps in a sequence. Then, to get the total number of batches, $K$, that we can make from the array `arr`, you divide the length of `arr` by the number of characters per batch. Once you know the number of batches, you can get the total number of characters to keep from `arr`, $N * M * K$.\n",
        "\n",
        "**2. After that, we need to split `arr` into $N$ batches. ** \n",
        "\n",
        "You can do this using `arr.reshape(size)` where `size` is a tuple containing the dimensions sizes of the reshaped array. We know we want $N$ sequences in a batch, so let's make that the size of the first dimension. For the second dimension, you can use `-1` as a placeholder in the size, it'll fill up the array with the appropriate data for you. After this, you should have an array that is $N \\times (M * K)$.\n",
        "\n",
        "**3. Now that we have this array, we can iterate through it to get our mini-batches. **\n",
        "\n",
        "The idea is each batch is a $N \\times M$ window on the $N \\times (M * K)$ array. For each subsequent batch, the window moves over by `seq_length`. We also want to create both the input and target arrays. Remember that the targets are just the inputs shifted over by one character. The way I like to do this window is use `range` to take steps of size `n_steps` from $0$ to `arr.shape[1]`, the total number of tokens in each sequence. That way, the integers you get from `range` always point to the start of a batch, and each window is `seq_length` wide.\n",
        "\n",
        "> **TODO:** Write the code for creating batches in the function below. The exercises in this notebook _will not be easy_. I've provided a notebook with solutions alongside this notebook. If you get stuck, checkout the solutions. The most important thing is that you don't copy and paste the code into here, **type out the solution code yourself.**"
      ]
    },
    {
      "cell_type": "code",
      "metadata": {
        "id": "1FJGTB7SjD0e",
        "colab_type": "code",
        "colab": {}
      },
      "source": [
        "def get_batches(arr, batch_size, seq_length):\n",
        "    '''Create a generator that returns batches of size\n",
        "       batch_size x seq_length from arr.\n",
        "       \n",
        "       Arguments\n",
        "       ---------\n",
        "       arr: Array you want to make batches from\n",
        "       batch_size: Batch size, the number of sequences per batch\n",
        "       seq_length: Number of encoded chars in a sequence\n",
        "    '''\n",
        "    \n",
        "    ## TODO: Get the number of batches we can make\n",
        "    n_batches = len(arr)//(batch_size* seq_length)\n",
        "\n",
        "    \n",
        "    ## TODO: Keep only enough characters to make full batches\n",
        "    arr = arr[:n_batches*batch_size*seq_length]\n",
        "    \n",
        "    ## TODO: Reshape into batch_size rows\n",
        "    arr = arr.reshape((batch_size, -1))\n",
        "    \n",
        "    ## TODO: Iterate over the batches using a window of size seq_length\n",
        "    for n in range(0, arr.shape[1], seq_length):\n",
        "        # The features\n",
        "        x = arr[:, n:n+seq_length]\n",
        "        # The targets, shifted by one\n",
        "        y = np.zeros_like(x)\n",
        "        try:\n",
        "            y[:, :-1], y[:, -1] = x[:, 1:], arr[:, n+seq_length]\n",
        "        except IndexError:\n",
        "            y[:, :-1], y[:, -1] = x[:, 1:], arr[:, 0]\n",
        "        yield x, y"
      ],
      "execution_count": 0,
      "outputs": []
    },
    {
      "cell_type": "markdown",
      "metadata": {
        "id": "-LBhGOs0jD0g",
        "colab_type": "text"
      },
      "source": [
        "### Test Your Implementation\n",
        "\n",
        "Now I'll make some data sets and we can check out what's going on as we batch data. Here, as an example, I'm going to use a batch size of 8 and 50 sequence steps."
      ]
    },
    {
      "cell_type": "code",
      "metadata": {
        "id": "LwZV5rUrjD0h",
        "colab_type": "code",
        "colab": {}
      },
      "source": [
        "batches = get_batches(encoded, 8, 50)\n",
        "x, y = next(batches)"
      ],
      "execution_count": 0,
      "outputs": []
    },
    {
      "cell_type": "code",
      "metadata": {
        "id": "5Z22IK4gjD0j",
        "colab_type": "code",
        "colab": {
          "base_uri": "https://localhost:8080/",
          "height": 340
        },
        "outputId": "590b5af5-3aa8-417d-f72c-c90d4d83ad63"
      },
      "source": [
        "# printing out the first 10 items in a sequence\n",
        "x, y = next(batches)\n",
        "print('x\\n', x[:10, :10])\n",
        "print('\\ny\\n', y[:10, :10])"
      ],
      "execution_count": 11,
      "outputs": [
        {
          "output_type": "stream",
          "text": [
            "x\n",
            " [[81 47 77 77 20 54 57 47 39 55]\n",
            " [64 59 81 17 54 39 80 58 25 20]\n",
            " [42 32 54 10 68 19 47 58 32  6]\n",
            " [54 19 81 55 25 81 54 42 68 42]\n",
            " [22 21 80 54 19 55 10 81 54  6]\n",
            " [80 54 10 68 54 81 55 39  0 54]\n",
            " [ 6 54 58 68 68 39 17 40 57 68]\n",
            " [80 54 10 47  2 80 42 54 37 77]]\n",
            "\n",
            "y\n",
            " [[47 77 77 20 54 57 47 39 55 21]\n",
            " [59 81 17 54 39 80 58 25 20 31]\n",
            " [32 54 10 68 19 47 58 32  6 54]\n",
            " [19 81 55 25 81 54 42 68 42 80]\n",
            " [21 80 54 19 55 10 81 54  6 37]\n",
            " [54 10 68 54 81 55 39  0 54 82]\n",
            " [54 58 68 68 39 17 40 57 68 58]\n",
            " [54 10 47  2 80 42 54 37 77 54]]\n"
          ],
          "name": "stdout"
        }
      ]
    },
    {
      "cell_type": "markdown",
      "metadata": {
        "id": "285GJ_0qjD0l",
        "colab_type": "text"
      },
      "source": [
        "If you implemented `get_batches` correctly, the above output should look something like \n",
        "```\n",
        "x\n",
        " [[25  8 60 11 45 27 28 73  1  2]\n",
        " [17  7 20 73 45  8 60 45 73 60]\n",
        " [27 20 80 73  7 28 73 60 73 65]\n",
        " [17 73 45  8 27 73 66  8 46 27]\n",
        " [73 17 60 12 73  8 27 28 73 45]\n",
        " [66 64 17 17 46  7 20 73 60 20]\n",
        " [73 76 20 20 60 73  8 60 80 73]\n",
        " [47 35 43  7 20 17 24 50 37 73]]\n",
        "\n",
        "y\n",
        " [[ 8 60 11 45 27 28 73  1  2  2]\n",
        " [ 7 20 73 45  8 60 45 73 60 45]\n",
        " [20 80 73  7 28 73 60 73 65  7]\n",
        " [73 45  8 27 73 66  8 46 27 65]\n",
        " [17 60 12 73  8 27 28 73 45 27]\n",
        " [64 17 17 46  7 20 73 60 20 80]\n",
        " [76 20 20 60 73  8 60 80 73 17]\n",
        " [35 43  7 20 17 24 50 37 73 36]]\n",
        " ```\n",
        " although the exact numbers may be different. Check to make sure the data is shifted over one step for `y`."
      ]
    },
    {
      "cell_type": "markdown",
      "metadata": {
        "id": "pliQEc0UjD0m",
        "colab_type": "text"
      },
      "source": [
        "---\n",
        "## Defining the network with PyTorch\n",
        "\n",
        "Below is where you'll define the network.\n",
        "\n",
        "<img src=\"https://github.com/udacity/deep-learning-v2-pytorch/blob/master/recurrent-neural-networks/char-rnn/assets/charRNN.png?raw=1\" width=500px>\n",
        "\n",
        "Next, you'll use PyTorch to define the architecture of the network. We start by defining the layers and operations we want. Then, define a method for the forward pass. You've also been given a method for predicting characters."
      ]
    },
    {
      "cell_type": "markdown",
      "metadata": {
        "id": "G5BHkE4qjD0m",
        "colab_type": "text"
      },
      "source": [
        "### Model Structure\n",
        "\n",
        "In `__init__` the suggested structure is as follows:\n",
        "* Create and store the necessary dictionaries (this has been done for you)\n",
        "* Define an LSTM layer that takes as params: an input size (the number of characters), a hidden layer size `n_hidden`, a number of layers `n_layers`, a dropout probability `drop_prob`, and a batch_first boolean (True, since we are batching)\n",
        "* Define a dropout layer with `drop_prob`\n",
        "* Define a fully-connected layer with params: input size `n_hidden` and output size (the number of characters)\n",
        "* Finally, initialize the weights (again, this has been given)\n",
        "\n",
        "Note that some parameters have been named and given in the `__init__` function, and we use them and store them by doing something like `self.drop_prob = drop_prob`."
      ]
    },
    {
      "cell_type": "markdown",
      "metadata": {
        "id": "pN7oaUSkjD0n",
        "colab_type": "text"
      },
      "source": [
        "---\n",
        "### LSTM Inputs/Outputs\n",
        "\n",
        "You can create a basic [LSTM layer](https://pytorch.org/docs/stable/nn.html#lstm) as follows\n",
        "\n",
        "```python\n",
        "self.lstm = nn.LSTM(input_size, n_hidden, n_layers, \n",
        "                            dropout=drop_prob, batch_first=True)\n",
        "```\n",
        "\n",
        "where `input_size` is the number of characters this cell expects to see as sequential input, and `n_hidden` is the number of units in the hidden layers in the cell. And we can add dropout by adding a dropout parameter with a specified probability; this will automatically add dropout to the inputs or outputs. Finally, in the `forward` function, we can stack up the LSTM cells into layers using `.view`. With this, you pass in a list of cells and it will send the output of one cell into the next cell.\n",
        "\n",
        "We also need to create an initial hidden state of all zeros. This is done like so\n",
        "\n",
        "```python\n",
        "self.init_hidden()\n",
        "```"
      ]
    },
    {
      "cell_type": "code",
      "metadata": {
        "id": "mWMHtuAmjD0o",
        "colab_type": "code",
        "colab": {
          "base_uri": "https://localhost:8080/",
          "height": 34
        },
        "outputId": "e29fe43c-b160-4390-bdb9-0f84f0542084"
      },
      "source": [
        "# check if GPU is available\n",
        "train_on_gpu = torch.cuda.is_available()\n",
        "if(train_on_gpu):\n",
        "    print('Training on GPU!')\n",
        "else: \n",
        "    print('No GPU available, training on CPU; consider making n_epochs very small.')"
      ],
      "execution_count": 12,
      "outputs": [
        {
          "output_type": "stream",
          "text": [
            "Training on GPU!\n"
          ],
          "name": "stdout"
        }
      ]
    },
    {
      "cell_type": "code",
      "metadata": {
        "id": "hBsu16C-jD0q",
        "colab_type": "code",
        "colab": {}
      },
      "source": [
        "class CharRNN(nn.Module):\n",
        "    \n",
        "    def __init__(self, tokens, n_hidden=256, n_layers=2,\n",
        "                               drop_prob=0.5, lr=0.001):\n",
        "        super().__init__()\n",
        "        self.drop_prob = drop_prob\n",
        "        self.n_layers = n_layers\n",
        "        self.n_hidden = n_hidden\n",
        "        self.lr = lr\n",
        "        \n",
        "        # creating character dictionaries\n",
        "        self.chars = tokens\n",
        "        self.int2char = dict(enumerate(self.chars))\n",
        "        self.char2int = {ch: ii for ii, ch in self.int2char.items()}\n",
        "        \n",
        "        ## TODO: define the layers of the model\n",
        "        self.lstm = nn.LSTM(len(self.chars), n_hidden, n_layers, \n",
        "                            dropout=drop_prob, batch_first=True)\n",
        "        self.dropout = nn.Dropout(drop_prob)\n",
        "        self.fc = nn.Linear(n_hidden, len(self.chars))\n",
        "      \n",
        "    \n",
        "    def forward(self, x, hidden):\n",
        "        ''' Forward pass through the network. \n",
        "            These inputs are x, and the hidden/cell state `hidden`. '''\n",
        "                \n",
        "        ## TODO: Get the outputs and the new hidden state from the lstm\n",
        "\n",
        "        r_out,hidden = self.lstm(x, hidden)\n",
        "        out = self.dropout(r_out)\n",
        "        out = out.contiguous().view(-1, self.n_hidden)\n",
        "        out = self.fc(out)\n",
        "        \n",
        "        # return the final output and the hidden state\n",
        "        return out, hidden\n",
        "    \n",
        "    \n",
        "    def init_hidden(self, batch_size):\n",
        "        ''' Initializes hidden state '''\n",
        "        # Create two new tensors with sizes n_layers x batch_size x n_hidden,\n",
        "        # initialized to zero, for hidden state and cell state of LSTM\n",
        "        weight = next(self.parameters()).data\n",
        "        \n",
        "        if (train_on_gpu):\n",
        "            hidden = (weight.new(self.n_layers, batch_size, self.n_hidden).zero_().cuda(),\n",
        "                  weight.new(self.n_layers, batch_size, self.n_hidden).zero_().cuda())\n",
        "        else:\n",
        "            hidden = (weight.new(self.n_layers, batch_size, self.n_hidden).zero_(),\n",
        "                      weight.new(self.n_layers, batch_size, self.n_hidden).zero_())\n",
        "        \n",
        "        return hidden\n",
        "        "
      ],
      "execution_count": 0,
      "outputs": []
    },
    {
      "cell_type": "markdown",
      "metadata": {
        "id": "KXpUvTdkjD0s",
        "colab_type": "text"
      },
      "source": [
        "## Time to train\n",
        "\n",
        "The train function gives us the ability to set the number of epochs, the learning rate, and other parameters.\n",
        "\n",
        "Below we're using an Adam optimizer and cross entropy loss since we are looking at character class scores as output. We calculate the loss and perform backpropagation, as usual!\n",
        "\n",
        "A couple of details about training: \n",
        ">* Within the batch loop, we detach the hidden state from its history; this time setting it equal to a new *tuple* variable because an LSTM has a hidden state that is a tuple of the hidden and cell states.\n",
        "* We use [`clip_grad_norm_`](https://pytorch.org/docs/stable/_modules/torch/nn/utils/clip_grad.html) to help prevent exploding gradients."
      ]
    },
    {
      "cell_type": "code",
      "metadata": {
        "id": "75VMRwmMjD0t",
        "colab_type": "code",
        "colab": {}
      },
      "source": [
        "def train(net, data, epochs=10, batch_size=10, seq_length=50, lr=0.001, clip=5, val_frac=0.1, print_every=10):\n",
        "    ''' Training a network \n",
        "    \n",
        "        Arguments\n",
        "        ---------\n",
        "        \n",
        "        net: CharRNN network\n",
        "        data: text data to train the network\n",
        "        epochs: Number of epochs to train\n",
        "        batch_size: Number of mini-sequences per mini-batch, aka batch size\n",
        "        seq_length: Number of character steps per mini-batch\n",
        "        lr: learning rate\n",
        "        clip: gradient clipping\n",
        "        val_frac: Fraction of data to hold out for validation\n",
        "        print_every: Number of steps for printing training and validation loss\n",
        "    \n",
        "    '''\n",
        "    net.train()\n",
        "    \n",
        "    opt = torch.optim.Adam(net.parameters(), lr=lr)\n",
        "    criterion = nn.CrossEntropyLoss()\n",
        "    \n",
        "    # create training and validation data\n",
        "    val_idx = int(len(data)*(1-val_frac))\n",
        "    data, val_data = data[:val_idx], data[val_idx:]\n",
        "    \n",
        "    if(train_on_gpu):\n",
        "        net.cuda()\n",
        "    \n",
        "    counter = 0\n",
        "    n_chars = len(net.chars)\n",
        "    for e in range(epochs):\n",
        "        # initialize hidden state\n",
        "        h = net.init_hidden(batch_size)\n",
        "        \n",
        "        for x, y in get_batches(data, batch_size, seq_length):\n",
        "            counter += 1\n",
        "            \n",
        "            # One-hot encode our data and make them Torch tensors\n",
        "            x = one_hot_encode(x, n_chars)\n",
        "            inputs, targets = torch.from_numpy(x), torch.from_numpy(y)\n",
        "            \n",
        "            if(train_on_gpu):\n",
        "                inputs, targets = inputs.cuda(), targets.cuda()\n",
        "\n",
        "            # Creating new variables for the hidden state, otherwise\n",
        "            # we'd backprop through the entire training history\n",
        "            h = tuple([each.data for each in h])\n",
        "\n",
        "            # zero accumulated gradients\n",
        "            net.zero_grad()\n",
        "            \n",
        "            # get the output from the model\n",
        "            output, h = net(inputs, h)\n",
        "            \n",
        "            # calculate the loss and perform backprop\n",
        "            loss = criterion(output, targets.view(batch_size*seq_length).long())\n",
        "            loss.backward()\n",
        "            # `clip_grad_norm` helps prevent the exploding gradient problem in RNNs / LSTMs.\n",
        "            nn.utils.clip_grad_norm_(net.parameters(), clip)\n",
        "            opt.step()\n",
        "            \n",
        "            # loss stats\n",
        "            if counter % print_every == 0:\n",
        "                # Get validation loss\n",
        "                val_h = net.init_hidden(batch_size)\n",
        "                val_losses = []\n",
        "                net.eval()\n",
        "                for x, y in get_batches(val_data, batch_size, seq_length):\n",
        "                    # One-hot encode our data and make them Torch tensors\n",
        "                    x = one_hot_encode(x, n_chars)\n",
        "                    x, y = torch.from_numpy(x), torch.from_numpy(y)\n",
        "                    \n",
        "                    # Creating new variables for the hidden state, otherwise\n",
        "                    # we'd backprop through the entire training history\n",
        "                    val_h = tuple([each.data for each in val_h])\n",
        "                    \n",
        "                    inputs, targets = x, y\n",
        "                    if(train_on_gpu):\n",
        "                        inputs, targets = inputs.cuda(), targets.cuda()\n",
        "\n",
        "                    output, val_h = net(inputs, val_h)\n",
        "                    val_loss = criterion(output, targets.view(batch_size*seq_length).long())\n",
        "                \n",
        "                    val_losses.append(val_loss.item())\n",
        "                \n",
        "                net.train() # reset to train mode after iterationg through validation data\n",
        "                \n",
        "                print(\"Epoch: {}/{}...\".format(e+1, epochs),\n",
        "                      \"Step: {}...\".format(counter),\n",
        "                      \"Loss: {:.4f}...\".format(loss.item()),\n",
        "                      \"Val Loss: {:.4f}\".format(np.mean(val_losses)))"
      ],
      "execution_count": 0,
      "outputs": []
    },
    {
      "cell_type": "markdown",
      "metadata": {
        "id": "xUFyc4sWjD0w",
        "colab_type": "text"
      },
      "source": [
        "## Instantiating the model\n",
        "\n",
        "Now we can actually train the network. First we'll create the network itself, with some given hyperparameters. Then, define the mini-batches sizes, and start training!"
      ]
    },
    {
      "cell_type": "code",
      "metadata": {
        "id": "PFoSI0_QjD0w",
        "colab_type": "code",
        "colab": {
          "base_uri": "https://localhost:8080/",
          "height": 102
        },
        "outputId": "49c1c856-a5fb-4eb0-d159-f156def775fe"
      },
      "source": [
        "## TODO: set your model hyperparameters\n",
        "# define and print the net\n",
        "n_hidden= 512\n",
        "n_layers= 3\n",
        "\n",
        "net = CharRNN(chars, n_hidden, n_layers)\n",
        "print(net)"
      ],
      "execution_count": 22,
      "outputs": [
        {
          "output_type": "stream",
          "text": [
            "CharRNN(\n",
            "  (lstm): LSTM(83, 512, num_layers=3, batch_first=True, dropout=0.5)\n",
            "  (dropout): Dropout(p=0.5, inplace=False)\n",
            "  (fc): Linear(in_features=512, out_features=83, bias=True)\n",
            ")\n"
          ],
          "name": "stdout"
        }
      ]
    },
    {
      "cell_type": "markdown",
      "metadata": {
        "id": "EhT7595pjD0y",
        "colab_type": "text"
      },
      "source": [
        "### Set your training hyperparameters!"
      ]
    },
    {
      "cell_type": "code",
      "metadata": {
        "scrolled": true,
        "id": "sOmQwsMxjD0z",
        "colab_type": "code",
        "colab": {
          "base_uri": "https://localhost:8080/",
          "height": 1000
        },
        "outputId": "a52886a8-fdcd-47f1-9e07-0058b571b5c4"
      },
      "source": [
        "batch_size = 129\n",
        "seq_length = 100\n",
        "n_epochs =  20 # start small if you are just testing initial behavior\n",
        "\n",
        "# train the model\n",
        "train(net, encoded, epochs=n_epochs, batch_size=batch_size, seq_length=seq_length, lr=0.001, print_every=30)"
      ],
      "execution_count": 23,
      "outputs": [
        {
          "output_type": "stream",
          "text": [
            "Epoch: 1/20... Step: 30... Loss: 3.1422... Val Loss: 3.1235\n",
            "Epoch: 1/20... Step: 60... Loss: 3.1348... Val Loss: 3.1206\n",
            "Epoch: 1/20... Step: 90... Loss: 3.1090... Val Loss: 3.1197\n",
            "Epoch: 1/20... Step: 120... Loss: 3.1017... Val Loss: 3.1140\n",
            "Epoch: 2/20... Step: 150... Loss: 2.9539... Val Loss: 2.9130\n",
            "Epoch: 2/20... Step: 180... Loss: 2.8191... Val Loss: 2.8172\n",
            "Epoch: 2/20... Step: 210... Loss: 2.7275... Val Loss: 2.6884\n",
            "Epoch: 2/20... Step: 240... Loss: 2.5762... Val Loss: 2.5514\n",
            "Epoch: 2/20... Step: 270... Loss: 2.4456... Val Loss: 2.4240\n",
            "Epoch: 3/20... Step: 300... Loss: 2.3549... Val Loss: 2.3398\n",
            "Epoch: 3/20... Step: 330... Loss: 2.2829... Val Loss: 2.2718\n",
            "Epoch: 3/20... Step: 360... Loss: 2.2219... Val Loss: 2.2171\n",
            "Epoch: 3/20... Step: 390... Loss: 2.1860... Val Loss: 2.1526\n",
            "Epoch: 4/20... Step: 420... Loss: 2.1524... Val Loss: 2.1082\n",
            "Epoch: 4/20... Step: 450... Loss: 2.0680... Val Loss: 2.0463\n",
            "Epoch: 4/20... Step: 480... Loss: 2.0415... Val Loss: 1.9957\n",
            "Epoch: 4/20... Step: 510... Loss: 1.9873... Val Loss: 1.9505\n",
            "Epoch: 4/20... Step: 540... Loss: 1.9350... Val Loss: 1.9073\n",
            "Epoch: 5/20... Step: 570... Loss: 1.9007... Val Loss: 1.8716\n",
            "Epoch: 5/20... Step: 600... Loss: 1.8586... Val Loss: 1.8310\n",
            "Epoch: 5/20... Step: 630... Loss: 1.8140... Val Loss: 1.7988\n",
            "Epoch: 5/20... Step: 660... Loss: 1.8136... Val Loss: 1.7675\n",
            "Epoch: 5/20... Step: 690... Loss: 1.8022... Val Loss: 1.7422\n",
            "Epoch: 6/20... Step: 720... Loss: 1.7494... Val Loss: 1.7144\n",
            "Epoch: 6/20... Step: 750... Loss: 1.7241... Val Loss: 1.6883\n",
            "Epoch: 6/20... Step: 780... Loss: 1.6549... Val Loss: 1.6702\n",
            "Epoch: 6/20... Step: 810... Loss: 1.6844... Val Loss: 1.6528\n",
            "Epoch: 7/20... Step: 840... Loss: 1.6455... Val Loss: 1.6324\n",
            "Epoch: 7/20... Step: 870... Loss: 1.6746... Val Loss: 1.6081\n",
            "Epoch: 7/20... Step: 900... Loss: 1.6259... Val Loss: 1.5956\n",
            "Epoch: 7/20... Step: 930... Loss: 1.5997... Val Loss: 1.5765\n",
            "Epoch: 7/20... Step: 960... Loss: 1.5711... Val Loss: 1.5626\n",
            "Epoch: 8/20... Step: 990... Loss: 1.5614... Val Loss: 1.5507\n",
            "Epoch: 8/20... Step: 1020... Loss: 1.5744... Val Loss: 1.5343\n",
            "Epoch: 8/20... Step: 1050... Loss: 1.5521... Val Loss: 1.5259\n",
            "Epoch: 8/20... Step: 1080... Loss: 1.5678... Val Loss: 1.5096\n",
            "Epoch: 9/20... Step: 1110... Loss: 1.5591... Val Loss: 1.5051\n",
            "Epoch: 9/20... Step: 1140... Loss: 1.4871... Val Loss: 1.4908\n",
            "Epoch: 9/20... Step: 1170... Loss: 1.5090... Val Loss: 1.4804\n",
            "Epoch: 9/20... Step: 1200... Loss: 1.4935... Val Loss: 1.4762\n",
            "Epoch: 9/20... Step: 1230... Loss: 1.4927... Val Loss: 1.4650\n",
            "Epoch: 10/20... Step: 1260... Loss: 1.4885... Val Loss: 1.4570\n",
            "Epoch: 10/20... Step: 1290... Loss: 1.4564... Val Loss: 1.4491\n",
            "Epoch: 10/20... Step: 1320... Loss: 1.4365... Val Loss: 1.4417\n",
            "Epoch: 10/20... Step: 1350... Loss: 1.4690... Val Loss: 1.4351\n",
            "Epoch: 10/20... Step: 1380... Loss: 1.4619... Val Loss: 1.4311\n",
            "Epoch: 11/20... Step: 1410... Loss: 1.4209... Val Loss: 1.4246\n",
            "Epoch: 11/20... Step: 1440... Loss: 1.4195... Val Loss: 1.4165\n",
            "Epoch: 11/20... Step: 1470... Loss: 1.3686... Val Loss: 1.4148\n",
            "Epoch: 11/20... Step: 1500... Loss: 1.4103... Val Loss: 1.4058\n",
            "Epoch: 12/20... Step: 1530... Loss: 1.3831... Val Loss: 1.4016\n",
            "Epoch: 12/20... Step: 1560... Loss: 1.4177... Val Loss: 1.3936\n",
            "Epoch: 12/20... Step: 1590... Loss: 1.3788... Val Loss: 1.3903\n",
            "Epoch: 12/20... Step: 1620... Loss: 1.3785... Val Loss: 1.3866\n",
            "Epoch: 12/20... Step: 1650... Loss: 1.3467... Val Loss: 1.3840\n",
            "Epoch: 13/20... Step: 1680... Loss: 1.3707... Val Loss: 1.3784\n",
            "Epoch: 13/20... Step: 1710... Loss: 1.3616... Val Loss: 1.3734\n",
            "Epoch: 13/20... Step: 1740... Loss: 1.3691... Val Loss: 1.3705\n",
            "Epoch: 13/20... Step: 1770... Loss: 1.3803... Val Loss: 1.3662\n",
            "Epoch: 14/20... Step: 1800... Loss: 1.3868... Val Loss: 1.3679\n",
            "Epoch: 14/20... Step: 1830... Loss: 1.3233... Val Loss: 1.3623\n",
            "Epoch: 14/20... Step: 1860... Loss: 1.3459... Val Loss: 1.3562\n",
            "Epoch: 14/20... Step: 1890... Loss: 1.3493... Val Loss: 1.3547\n",
            "Epoch: 14/20... Step: 1920... Loss: 1.3492... Val Loss: 1.3510\n",
            "Epoch: 15/20... Step: 1950... Loss: 1.3274... Val Loss: 1.3475\n",
            "Epoch: 15/20... Step: 1980... Loss: 1.3216... Val Loss: 1.3468\n",
            "Epoch: 15/20... Step: 2010... Loss: 1.3090... Val Loss: 1.3419\n",
            "Epoch: 15/20... Step: 2040... Loss: 1.3265... Val Loss: 1.3389\n",
            "Epoch: 15/20... Step: 2070... Loss: 1.3443... Val Loss: 1.3384\n",
            "Epoch: 16/20... Step: 2100... Loss: 1.3084... Val Loss: 1.3337\n",
            "Epoch: 16/20... Step: 2130... Loss: 1.3122... Val Loss: 1.3322\n",
            "Epoch: 16/20... Step: 2160... Loss: 1.2542... Val Loss: 1.3327\n",
            "Epoch: 16/20... Step: 2190... Loss: 1.3052... Val Loss: 1.3252\n",
            "Epoch: 17/20... Step: 2220... Loss: 1.2822... Val Loss: 1.3250\n",
            "Epoch: 17/20... Step: 2250... Loss: 1.3120... Val Loss: 1.3223\n",
            "Epoch: 17/20... Step: 2280... Loss: 1.2810... Val Loss: 1.3195\n",
            "Epoch: 17/20... Step: 2310... Loss: 1.2723... Val Loss: 1.3178\n",
            "Epoch: 17/20... Step: 2340... Loss: 1.2570... Val Loss: 1.3170\n",
            "Epoch: 18/20... Step: 2370... Loss: 1.2778... Val Loss: 1.3166\n",
            "Epoch: 18/20... Step: 2400... Loss: 1.2763... Val Loss: 1.3104\n",
            "Epoch: 18/20... Step: 2430... Loss: 1.2801... Val Loss: 1.3102\n",
            "Epoch: 18/20... Step: 2460... Loss: 1.2824... Val Loss: 1.3085\n",
            "Epoch: 19/20... Step: 2490... Loss: 1.3054... Val Loss: 1.3104\n",
            "Epoch: 19/20... Step: 2520... Loss: 1.2514... Val Loss: 1.3076\n",
            "Epoch: 19/20... Step: 2550... Loss: 1.2615... Val Loss: 1.3029\n",
            "Epoch: 19/20... Step: 2580... Loss: 1.2678... Val Loss: 1.3034\n",
            "Epoch: 19/20... Step: 2610... Loss: 1.2740... Val Loss: 1.2997\n",
            "Epoch: 20/20... Step: 2640... Loss: 1.2499... Val Loss: 1.2994\n",
            "Epoch: 20/20... Step: 2670... Loss: 1.2400... Val Loss: 1.2978\n",
            "Epoch: 20/20... Step: 2700... Loss: 1.2366... Val Loss: 1.2979\n",
            "Epoch: 20/20... Step: 2730... Loss: 1.2615... Val Loss: 1.2958\n",
            "Epoch: 20/20... Step: 2760... Loss: 1.2772... Val Loss: 1.2933\n"
          ],
          "name": "stdout"
        }
      ]
    },
    {
      "cell_type": "code",
      "metadata": {
        "id": "SVrkwwDE_Aob",
        "colab_type": "code",
        "colab": {
          "base_uri": "https://localhost:8080/",
          "height": 510
        },
        "outputId": "de4c1bc4-04e1-40d2-88e4-67beb6c6ad88"
      },
      "source": [
        "train(net, encoded, epochs=10, batch_size=200, seq_length=seq_length, lr=0.0005, print_every=30)"
      ],
      "execution_count": 31,
      "outputs": [
        {
          "output_type": "stream",
          "text": [
            "Epoch: 1/10... Step: 30... Loss: 1.2231... Val Loss: 1.2061\n",
            "Epoch: 1/10... Step: 60... Loss: 1.2280... Val Loss: 1.2037\n",
            "Epoch: 2/10... Step: 90... Loss: 1.2798... Val Loss: 1.2017\n",
            "Epoch: 2/10... Step: 120... Loss: 1.2250... Val Loss: 1.2019\n",
            "Epoch: 2/10... Step: 150... Loss: 1.2239... Val Loss: 1.2000\n",
            "Epoch: 3/10... Step: 180... Loss: 1.2309... Val Loss: 1.1989\n",
            "Epoch: 3/10... Step: 210... Loss: 1.2148... Val Loss: 1.1993\n",
            "Epoch: 3/10... Step: 240... Loss: 1.2013... Val Loss: 1.1974\n",
            "Epoch: 4/10... Step: 270... Loss: 1.1966... Val Loss: 1.1979\n",
            "Epoch: 4/10... Step: 300... Loss: 1.1882... Val Loss: 1.1974\n",
            "Epoch: 4/10... Step: 330... Loss: 1.1973... Val Loss: 1.1955\n",
            "Epoch: 5/10... Step: 360... Loss: 1.1943... Val Loss: 1.1961\n",
            "Epoch: 5/10... Step: 390... Loss: 1.2045... Val Loss: 1.1947\n",
            "Epoch: 5/10... Step: 420... Loss: 1.1902... Val Loss: 1.1933\n",
            "Epoch: 6/10... Step: 450... Loss: 1.2131... Val Loss: 1.1935\n",
            "Epoch: 6/10... Step: 480... Loss: 1.1974... Val Loss: 1.1919\n",
            "Epoch: 6/10... Step: 510... Loss: 1.2038... Val Loss: 1.1924\n",
            "Epoch: 7/10... Step: 540... Loss: 1.2050... Val Loss: 1.1908\n",
            "Epoch: 7/10... Step: 570... Loss: 1.1866... Val Loss: 1.1901\n",
            "Epoch: 7/10... Step: 600... Loss: 1.2133... Val Loss: 1.1894\n",
            "Epoch: 8/10... Step: 630... Loss: 1.1570... Val Loss: 1.1902\n",
            "Epoch: 8/10... Step: 660... Loss: 1.1884... Val Loss: 1.1886\n",
            "Epoch: 8/10... Step: 690... Loss: 1.2123... Val Loss: 1.1889\n",
            "Epoch: 9/10... Step: 720... Loss: 1.1719... Val Loss: 1.1882\n",
            "Epoch: 9/10... Step: 750... Loss: 1.1919... Val Loss: 1.1872\n",
            "Epoch: 9/10... Step: 780... Loss: 1.1889... Val Loss: 1.1859\n",
            "Epoch: 10/10... Step: 810... Loss: 1.1681... Val Loss: 1.1849\n",
            "Epoch: 10/10... Step: 840... Loss: 1.1755... Val Loss: 1.1857\n",
            "Epoch: 10/10... Step: 870... Loss: 1.1827... Val Loss: 1.1848\n"
          ],
          "name": "stdout"
        }
      ]
    },
    {
      "cell_type": "markdown",
      "metadata": {
        "id": "r2ZAmLSDjD03",
        "colab_type": "text"
      },
      "source": [
        "## Getting the best model\n",
        "\n",
        "To set your hyperparameters to get the best performance, you'll want to watch the training and validation losses. If your training loss is much lower than the validation loss, you're overfitting. Increase regularization (more dropout) or use a smaller network. If the training and validation losses are close, you're underfitting so you can increase the size of the network."
      ]
    },
    {
      "cell_type": "markdown",
      "metadata": {
        "id": "sSenn6sxjD04",
        "colab_type": "text"
      },
      "source": [
        "## Hyperparameters\n",
        "\n",
        "Here are the hyperparameters for the network.\n",
        "\n",
        "In defining the model:\n",
        "* `n_hidden` - The number of units in the hidden layers.\n",
        "* `n_layers` - Number of hidden LSTM layers to use.\n",
        "\n",
        "We assume that dropout probability and learning rate will be kept at the default, in this example.\n",
        "\n",
        "And in training:\n",
        "* `batch_size` - Number of sequences running through the network in one pass.\n",
        "* `seq_length` - Number of characters in the sequence the network is trained on. Larger is better typically, the network will learn more long range dependencies. But it takes longer to train. 100 is typically a good number here.\n",
        "* `lr` - Learning rate for training\n",
        "\n",
        "Here's some good advice from Andrej Karpathy on training the network. I'm going to copy it in here for your benefit, but also link to [where it originally came from](https://github.com/karpathy/char-rnn#tips-and-tricks).\n",
        "\n",
        "> ## Tips and Tricks\n",
        "\n",
        ">### Monitoring Validation Loss vs. Training Loss\n",
        ">If you're somewhat new to Machine Learning or Neural Networks it can take a bit of expertise to get good models. The most important quantity to keep track of is the difference between your training loss (printed during training) and the validation loss (printed once in a while when the RNN is run on the validation data (by default every 1000 iterations)). In particular:\n",
        "\n",
        "> - If your training loss is much lower than validation loss then this means the network might be **overfitting**. Solutions to this are to decrease your network size, or to increase dropout. For example you could try dropout of 0.5 and so on.\n",
        "> - If your training/validation loss are about equal then your model is **underfitting**. Increase the size of your model (either number of layers or the raw number of neurons per layer)\n",
        "\n",
        "> ### Approximate number of parameters\n",
        "\n",
        "> The two most important parameters that control the model are `n_hidden` and `n_layers`. I would advise that you always use `n_layers` of either 2/3. The `n_hidden` can be adjusted based on how much data you have. The two important quantities to keep track of here are:\n",
        "\n",
        "> - The number of parameters in your model. This is printed when you start training.\n",
        "> - The size of your dataset. 1MB file is approximately 1 million characters.\n",
        "\n",
        ">These two should be about the same order of magnitude. It's a little tricky to tell. Here are some examples:\n",
        "\n",
        "> - I have a 100MB dataset and I'm using the default parameter settings (which currently print 150K parameters). My data size is significantly larger (100 mil >> 0.15 mil), so I expect to heavily underfit. I am thinking I can comfortably afford to make `n_hidden` larger.\n",
        "> - I have a 10MB dataset and running a 10 million parameter model. I'm slightly nervous and I'm carefully monitoring my validation loss. If it's larger than my training loss then I may want to try to increase dropout a bit and see if that helps the validation loss.\n",
        "\n",
        "> ### Best models strategy\n",
        "\n",
        ">The winning strategy to obtaining very good models (if you have the compute time) is to always err on making the network larger (as large as you're willing to wait for it to compute) and then try different dropout values (between 0,1). Whatever model has the best validation performance (the loss, written in the checkpoint filename, low is good) is the one you should use in the end.\n",
        "\n",
        ">It is very common in deep learning to run many different models with many different hyperparameter settings, and in the end take whatever checkpoint gave the best validation performance.\n",
        "\n",
        ">By the way, the size of your training and validation splits are also parameters. Make sure you have a decent amount of data in your validation set or otherwise the validation performance will be noisy and not very informative."
      ]
    },
    {
      "cell_type": "markdown",
      "metadata": {
        "id": "4CMhV8fFjD06",
        "colab_type": "text"
      },
      "source": [
        "## Checkpoint\n",
        "\n",
        "After training, we'll save the model so we can load it again later if we need too. Here I'm saving the parameters needed to create the same architecture, the hidden layer hyperparameters and the text characters."
      ]
    },
    {
      "cell_type": "code",
      "metadata": {
        "id": "SdCYaPi8jD07",
        "colab_type": "code",
        "colab": {}
      },
      "source": [
        "# change the name, for saving multiple files\n",
        "model_name = 'rnn_x_epoch.net'\n",
        "\n",
        "checkpoint = {'n_hidden': net.n_hidden,\n",
        "              'n_layers': net.n_layers,\n",
        "              'state_dict': net.state_dict(),\n",
        "              'tokens': net.chars}\n",
        "\n",
        "with open(model_name, 'wb') as f:\n",
        "    torch.save(checkpoint, f)"
      ],
      "execution_count": 0,
      "outputs": []
    },
    {
      "cell_type": "markdown",
      "metadata": {
        "id": "TJ3aUYNEjD0-",
        "colab_type": "text"
      },
      "source": [
        "---\n",
        "## Making Predictions\n",
        "\n",
        "Now that the model is trained, we'll want to sample from it and make predictions about next characters! To sample, we pass in a character and have the network predict the next character. Then we take that character, pass it back in, and get another predicted character. Just keep doing this and you'll generate a bunch of text!\n",
        "\n",
        "### A note on the `predict`  function\n",
        "\n",
        "The output of our RNN is from a fully-connected layer and it outputs a **distribution of next-character scores**.\n",
        "\n",
        "> To actually get the next character, we apply a softmax function, which gives us a *probability* distribution that we can then sample to predict the next character.\n",
        "\n",
        "### Top K sampling\n",
        "\n",
        "Our predictions come from a categorical probability distribution over all the possible characters. We can make the sample text and make it more reasonable to handle (with less variables) by only considering some $K$ most probable characters. This will prevent the network from giving us completely absurd characters while allowing it to introduce some noise and randomness into the sampled text. Read more about [topk, here](https://pytorch.org/docs/stable/torch.html#torch.topk).\n"
      ]
    },
    {
      "cell_type": "code",
      "metadata": {
        "id": "OQWUyLfljD1A",
        "colab_type": "code",
        "colab": {}
      },
      "source": [
        "def predict(net, char, h=None, top_k=None):\n",
        "        ''' Given a character, predict the next character.\n",
        "            Returns the predicted character and the hidden state.\n",
        "        '''\n",
        "        \n",
        "        # tensor inputs\n",
        "        x = np.array([[net.char2int[char]]])\n",
        "        x = one_hot_encode(x, len(net.chars))\n",
        "        inputs = torch.from_numpy(x)\n",
        "        \n",
        "        if(train_on_gpu):\n",
        "            inputs = inputs.cuda()\n",
        "        \n",
        "        # detach hidden state from history\n",
        "        h = tuple([each.data for each in h])\n",
        "        # get the output of the model\n",
        "        out, h = net(inputs, h)\n",
        "\n",
        "        # get the character probabilities\n",
        "        p = F.softmax(out, dim=1).data\n",
        "        if(train_on_gpu):\n",
        "            p = p.cpu() # move to cpu\n",
        "        \n",
        "        # get top characters\n",
        "        if top_k is None:\n",
        "            top_ch = np.arange(len(net.chars))\n",
        "        else:\n",
        "            p, top_ch = p.topk(top_k)\n",
        "            top_ch = top_ch.numpy().squeeze()\n",
        "        \n",
        "        # select the likely next character with some element of randomness\n",
        "        p = p.numpy().squeeze()\n",
        "        char = np.random.choice(top_ch, p=p/p.sum())\n",
        "        \n",
        "        # return the encoded value of the predicted char and the hidden state\n",
        "        return net.int2char[char], h"
      ],
      "execution_count": 0,
      "outputs": []
    },
    {
      "cell_type": "markdown",
      "metadata": {
        "id": "uLJIF1gYjD1C",
        "colab_type": "text"
      },
      "source": [
        "### Priming and generating text \n",
        "\n",
        "Typically you'll want to prime the network so you can build up a hidden state. Otherwise the network will start out generating characters at random. In general the first bunch of characters will be a little rough since it hasn't built up a long history of characters to predict from."
      ]
    },
    {
      "cell_type": "code",
      "metadata": {
        "id": "wFVlILKJjD1D",
        "colab_type": "code",
        "colab": {}
      },
      "source": [
        "def sample(net, size, prime='The', top_k=None):\n",
        "        \n",
        "    if(train_on_gpu):\n",
        "        net.cuda()\n",
        "    else:\n",
        "        net.cpu()\n",
        "    \n",
        "    net.eval() # eval mode\n",
        "    \n",
        "    # First off, run through the prime characters\n",
        "    chars = [ch for ch in prime]\n",
        "    h = net.init_hidden(1)\n",
        "    for ch in prime:\n",
        "        char, h = predict(net, ch, h, top_k=top_k)\n",
        "\n",
        "    chars.append(char)\n",
        "    \n",
        "    # Now pass in the previous character and get a new one\n",
        "    for ii in range(size):\n",
        "        char, h = predict(net, chars[-1], h, top_k=top_k)\n",
        "        chars.append(char)\n",
        "\n",
        "    return ''.join(chars)"
      ],
      "execution_count": 0,
      "outputs": []
    },
    {
      "cell_type": "code",
      "metadata": {
        "id": "y6yRcgFvjD1G",
        "colab_type": "code",
        "colab": {
          "base_uri": "https://localhost:8080/",
          "height": 374
        },
        "outputId": "e2045229-01d5-4af2-b1ed-0ab5f54c57a3"
      },
      "source": [
        "print(sample(net, 1000, prime='Anna', top_k=5))"
      ],
      "execution_count": 27,
      "outputs": [
        {
          "output_type": "stream",
          "text": [
            "Anna angry with a sense\n",
            "of an old mistakes and taking out her sinn way of all that\n",
            "he would go,\n",
            "but\n",
            "and asked\n",
            "a charm of\n",
            "province. She saw a lotting, and there was the son and worsied\n",
            "was trembled, and some since his state was he had strange her, and all the service to her that in this simple\n",
            "peasants was to be so sent that in the point of this woman who had not seen it the patt woman. And\n",
            "all, they had been satisfied in the country, she had never\n",
            "heard a strange fellow, and his hand along in his first, with the dress of\n",
            "him, and with a personace. They were comfortable and so set off the stands of the more and to her to the strange\n",
            "step.\n",
            "\n",
            "\"I don't know what was all the more.\"\n",
            "\n",
            "\"Why, have you taken off to see it over the convensaited.\" He asked the singing charming of\n",
            "the position, the confusion and had an offer, where the passion of the decolly\n",
            "table, she was silent, and\n",
            "the carriage she was not time\n",
            "to bore it all women, and that they had already tried, and was satisfied at the door, with \n"
          ],
          "name": "stdout"
        }
      ]
    },
    {
      "cell_type": "code",
      "metadata": {
        "id": "OGcJJg4mAXR8",
        "colab_type": "code",
        "colab": {
          "base_uri": "https://localhost:8080/",
          "height": 343
        },
        "outputId": "690d4e8c-c31f-4bc1-b86d-e02557877639"
      },
      "source": [
        "print(sample(net, 1000, prime='Anna', top_k=3))"
      ],
      "execution_count": 35,
      "outputs": [
        {
          "output_type": "stream",
          "text": [
            "Anna will see that the priest were asked that it had so much\n",
            "a mistake, that it was\n",
            "a consideration to take\n",
            "her son, and that he heard him that she could\n",
            "not have told\n",
            "them along and wanted to be seen.\n",
            "\n",
            "\"Why do you know?\" she said, watching a short. \"I am good-natured and then to\n",
            "him that you say all the streams,\n",
            "and as the streams we should have to be disconcerted, that\n",
            "the same time the content of\n",
            "a compary was something things, and there would be silence, and the staircase on the\n",
            "same as always the conversation to take his hands,\" said\n",
            "Stepan Arkadyevitch the carriage where he was so true that the princess was so that the peasants who certainly was a sense of\n",
            "the\n",
            "peasant, and the people who had not been ashamed of his son at the counters, and all the character, and the same and the person who could not be simply\n",
            "the same singing of hate and the contrary. The children should see him with a\n",
            "children and hearing her, he saw that they were a sense of this word was thinking about the state. T\n"
          ],
          "name": "stdout"
        }
      ]
    },
    {
      "cell_type": "code",
      "metadata": {
        "id": "9pshN1Ku-yfe",
        "colab_type": "code",
        "colab": {
          "base_uri": "https://localhost:8080/",
          "height": 479
        },
        "outputId": "6bfaa614-ba03-4f89-9683-745f1492aaf1"
      },
      "source": [
        "print(sample(net, 1000, prime='Anna', top_k=5))"
      ],
      "execution_count": 28,
      "outputs": [
        {
          "output_type": "stream",
          "text": [
            "Anna,\" he said, with\n",
            "her husband. \"We won't gally the\n",
            "door from a light in the doctor?\"\n",
            "\n",
            "\"Why should you let mish to speak about it!\" answered Levin.\n",
            "\n",
            "\"Oh, what distracted it's a matter of the days, the\n",
            "places on the stand, as to her friends,\n",
            "while I say a little one of the consciousness that the station and was a sidelagin peace.... How should I consecut it to\n",
            "the second meanow to hear\n",
            "her world with\n",
            "the moment of the\n",
            "directly, in the conversation to be, when you should believe it,\"\n",
            "he said, smiling, \"and they're the son, and with his\n",
            "house and\n",
            "seemed to think of you to spare about your hundred men all that was a life.\"\n",
            "\n",
            "\"I am going on, too ask the present of\n",
            "that should brought at the desire.\"\n",
            "\n",
            "\"What would you be the son of his brother. I don't know white in that secret instinnt.\"\n",
            "\n",
            "\"You're so latter.\"\n",
            "\n",
            "The child so they were an one to the sound of the day as a sign of the choige that was her heart, and he had thought of to the more taking off\n",
            "with a smile. \"I have not seen a simple though\n"
          ],
          "name": "stdout"
        }
      ]
    },
    {
      "cell_type": "markdown",
      "metadata": {
        "id": "jEvTQdMKjD1I",
        "colab_type": "text"
      },
      "source": [
        "## Loading a checkpoint"
      ]
    },
    {
      "cell_type": "code",
      "metadata": {
        "id": "p_Hz0JwqjD1J",
        "colab_type": "code",
        "colab": {
          "base_uri": "https://localhost:8080/",
          "height": 34
        },
        "outputId": "41f7930e-b8d4-42c2-dd67-08b55e243724"
      },
      "source": [
        "# Here we have loaded in a model that trained over 20 epochs `rnn_20_epoch.net`\n",
        "with open('rnn_x_epoch.net', 'rb') as f:\n",
        "    checkpoint = torch.load(f)\n",
        "    \n",
        "loaded = CharRNN(checkpoint['tokens'], n_hidden=checkpoint['n_hidden'], n_layers=checkpoint['n_layers'])\n",
        "loaded.load_state_dict(checkpoint['state_dict'])"
      ],
      "execution_count": 29,
      "outputs": [
        {
          "output_type": "execute_result",
          "data": {
            "text/plain": [
              "<All keys matched successfully>"
            ]
          },
          "metadata": {
            "tags": []
          },
          "execution_count": 29
        }
      ]
    },
    {
      "cell_type": "code",
      "metadata": {
        "id": "-73xLbCcjD1M",
        "colab_type": "code",
        "colab": {
          "base_uri": "https://localhost:8080/",
          "height": 615
        },
        "outputId": "c605483f-a493-474e-e3de-57b8eac824a9"
      },
      "source": [
        "# Sample using a loaded model\n",
        "print(sample(loaded, 2000, top_k=5, prime=\"And Levin said\"))"
      ],
      "execution_count": 30,
      "outputs": [
        {
          "output_type": "stream",
          "text": [
            "And Levin said: \"What do I have a secret of them?\" he said, going the stream of her hours, and he stounded that word, as he wrote the country all her hostess.\n",
            "\n",
            "The mother-had had should have always been all the same thing were too\n",
            "seen a share, and had an hours waiter. The party had been becore that he had an officer so as in way to say\n",
            "that he stayed with a last proper that she heard a life, and his hands in his head, stopped her strange at a care. Those clearly half a man\n",
            "come on the prince, took his\n",
            "study, she had a long while she said that he was not the disturbent fail and horror. He saw and seemed to him at the same tasting himself, which was so are to go to be\n",
            "dropped her and seemed to see\n",
            "it and had seemed to her handsome at the sight of her.\n",
            "\n",
            "\"It was the party and who was so something that's a pens and so interest of the sight without a cart in the carriage and the part. I have been stupided on the disagreeable steps. But I've been at talk of her, we shall horrive anything in a man who had not to call anyway.\"\n",
            "\n",
            "\"Oh, that's not the servant, whom he does not bore him...\"\n",
            "\n",
            "\"Not my position, are\n",
            "so something in her stubbornects on his hat the singer,\" he said, gazing and\n",
            "at his wife, had been still the place, and with a cold as an acquaintance was taking a charce, and he had said\n",
            "in the doorway, tears were\n",
            "so little\n",
            "to be dropped out to the\n",
            "strange. There was something than had\n",
            "troubled her\n",
            "handsome time. Alone all one of the party of the morning that was settled to him with her thought while the dinner seemed to her sister-so always the solet after\n",
            "severe of his brother, and and to\n",
            "see him that they could not have heard him at the position, but she had been true. So as he did not know that to her son. But he still getting him with the distort to\n",
            "the peace, and the\n",
            "position of\n",
            "the\n",
            "doubt had all the same\n",
            "and studies were\n",
            "service\n",
            "to a conscious as that had asked it, but all such some cold of his\n",
            "wife, they were all the porter's society when he had something\n",
            "all about any time, \n"
          ],
          "name": "stdout"
        }
      ]
    },
    {
      "cell_type": "code",
      "metadata": {
        "id": "IY2rK2OGjD1O",
        "colab_type": "code",
        "colab": {}
      },
      "source": [
        ""
      ],
      "execution_count": 0,
      "outputs": []
    }
  ]
}