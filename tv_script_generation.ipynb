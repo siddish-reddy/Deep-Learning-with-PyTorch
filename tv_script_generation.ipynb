{
  "nbformat": 4,
  "nbformat_minor": 0,
  "metadata": {
    "kernelspec": {
      "name": "python3",
      "display_name": "Python 3"
    },
    "language_info": {
      "codemirror_mode": {
        "name": "ipython",
        "version": 3
      },
      "file_extension": ".py",
      "mimetype": "text/x-python",
      "name": "python",
      "nbconvert_exporter": "python",
      "pygments_lexer": "ipython3",
      "version": "3.6.4"
    },
    "colab": {
      "name": "tv_script_generation.ipynb",
      "provenance": [],
      "collapsed_sections": [],
      "include_colab_link": true
    },
    "accelerator": "GPU"
  },
  "cells": [
    {
      "cell_type": "markdown",
      "metadata": {
        "id": "view-in-github",
        "colab_type": "text"
      },
      "source": [
        "<a href=\"https://colab.research.google.com/github/siddish-reddy/Deep-Learning-with-PyTorch/blob/master/tv_script_generation.ipynb\" target=\"_parent\"><img src=\"https://colab.research.google.com/assets/colab-badge.svg\" alt=\"Open In Colab\"/></a>"
      ]
    },
    {
      "cell_type": "markdown",
      "metadata": {
        "id": "7fEFVGvyz2sr",
        "colab_type": "text"
      },
      "source": [
        "# TV Script Generation\n",
        "\n",
        "In this project, you'll generate your own [Seinfeld](https://en.wikipedia.org/wiki/Seinfeld) TV scripts using RNNs.  You'll be using part of the [Seinfeld dataset](https://www.kaggle.com/thec03u5/seinfeld-chronicles#scripts.csv) of scripts from 9 seasons.  The Neural Network you'll build will generate a new ,\"fake\" TV script, based on patterns it recognizes in this training data.\n",
        "\n",
        "## Get the Data\n",
        "\n",
        "The data is already provided for you in `./data/Seinfeld_Scripts.txt` and you're encouraged to open that file and look at the text. \n",
        ">* As a first step, we'll load in this data and look at some samples. \n",
        "* Then, you'll be tasked with defining and training an RNN to generate a new script!"
      ]
    },
    {
      "cell_type": "code",
      "metadata": {
        "id": "sAnT6wEd9Ckx",
        "colab_type": "code",
        "outputId": "ef5f01b2-afe3-4861-debe-f958212cd4af",
        "colab": {
          "base_uri": "https://localhost:8080/",
          "height": 302
        }
      },
      "source": [
        "!nvidia-smi"
      ],
      "execution_count": 1,
      "outputs": [
        {
          "output_type": "stream",
          "text": [
            "Thu Dec 12 03:20:38 2019       \n",
            "+-----------------------------------------------------------------------------+\n",
            "| NVIDIA-SMI 440.36       Driver Version: 418.67       CUDA Version: 10.1     |\n",
            "|-------------------------------+----------------------+----------------------+\n",
            "| GPU  Name        Persistence-M| Bus-Id        Disp.A | Volatile Uncorr. ECC |\n",
            "| Fan  Temp  Perf  Pwr:Usage/Cap|         Memory-Usage | GPU-Util  Compute M. |\n",
            "|===============================+======================+======================|\n",
            "|   0  Tesla P100-PCIE...  Off  | 00000000:00:04.0 Off |                    0 |\n",
            "| N/A   51C    P0    30W / 250W |      0MiB / 16280MiB |      0%      Default |\n",
            "+-------------------------------+----------------------+----------------------+\n",
            "                                                                               \n",
            "+-----------------------------------------------------------------------------+\n",
            "| Processes:                                                       GPU Memory |\n",
            "|  GPU       PID   Type   Process name                             Usage      |\n",
            "|=============================================================================|\n",
            "|  No running processes found                                                 |\n",
            "+-----------------------------------------------------------------------------+\n"
          ],
          "name": "stdout"
        }
      ]
    },
    {
      "cell_type": "code",
      "metadata": {
        "id": "VBkCATOUz81X",
        "colab_type": "code",
        "outputId": "eebd6dd5-1831-4f58-9adf-fd8081cc3eb8",
        "colab": {
          "base_uri": "https://localhost:8080/",
          "height": 823
        }
      },
      "source": [
        "!mkdir data\n",
        "!wget https://github.com/udacity/deep-learning-v2-pytorch/raw/master/project-tv-script-generation/data/Seinfeld_Scripts.txt -P data\n",
        "!wget https://github.com/udacity/deep-learning-v2-pytorch/raw/master/project-tv-script-generation/helper.py\n",
        "!wget https://github.com/udacity/deep-learning-v2-pytorch/raw/master/project-tv-script-generation/problem_unittests.py"
      ],
      "execution_count": 2,
      "outputs": [
        {
          "output_type": "stream",
          "text": [
            "--2019-12-12 03:20:49--  https://github.com/udacity/deep-learning-v2-pytorch/raw/master/project-tv-script-generation/data/Seinfeld_Scripts.txt\n",
            "Resolving github.com (github.com)... 140.82.114.4\n",
            "Connecting to github.com (github.com)|140.82.114.4|:443... connected.\n",
            "HTTP request sent, awaiting response... 302 Found\n",
            "Location: https://raw.githubusercontent.com/udacity/deep-learning-v2-pytorch/master/project-tv-script-generation/data/Seinfeld_Scripts.txt [following]\n",
            "--2019-12-12 03:20:55--  https://raw.githubusercontent.com/udacity/deep-learning-v2-pytorch/master/project-tv-script-generation/data/Seinfeld_Scripts.txt\n",
            "Resolving raw.githubusercontent.com (raw.githubusercontent.com)... 151.101.0.133, 151.101.64.133, 151.101.128.133, ...\n",
            "Connecting to raw.githubusercontent.com (raw.githubusercontent.com)|151.101.0.133|:443... connected.\n",
            "HTTP request sent, awaiting response... 200 OK\n",
            "Length: 3471475 (3.3M) [text/plain]\n",
            "Saving to: ‘data/Seinfeld_Scripts.txt’\n",
            "\n",
            "Seinfeld_Scripts.tx 100%[===================>]   3.31M  --.-KB/s    in 0.08s   \n",
            "\n",
            "2019-12-12 03:20:55 (39.6 MB/s) - ‘data/Seinfeld_Scripts.txt’ saved [3471475/3471475]\n",
            "\n",
            "--2019-12-12 03:20:57--  https://github.com/udacity/deep-learning-v2-pytorch/raw/master/project-tv-script-generation/helper.py\n",
            "Resolving github.com (github.com)... 140.82.114.4\n",
            "Connecting to github.com (github.com)|140.82.114.4|:443... connected.\n",
            "HTTP request sent, awaiting response... 302 Found\n",
            "Location: https://raw.githubusercontent.com/udacity/deep-learning-v2-pytorch/master/project-tv-script-generation/helper.py [following]\n",
            "--2019-12-12 03:20:57--  https://raw.githubusercontent.com/udacity/deep-learning-v2-pytorch/master/project-tv-script-generation/helper.py\n",
            "Resolving raw.githubusercontent.com (raw.githubusercontent.com)... 151.101.0.133, 151.101.64.133, 151.101.128.133, ...\n",
            "Connecting to raw.githubusercontent.com (raw.githubusercontent.com)|151.101.0.133|:443... connected.\n",
            "HTTP request sent, awaiting response... 200 OK\n",
            "Length: 1407 (1.4K) [text/plain]\n",
            "Saving to: ‘helper.py’\n",
            "\n",
            "helper.py           100%[===================>]   1.37K  --.-KB/s    in 0s      \n",
            "\n",
            "2019-12-12 03:20:57 (295 MB/s) - ‘helper.py’ saved [1407/1407]\n",
            "\n",
            "--2019-12-12 03:20:59--  https://github.com/udacity/deep-learning-v2-pytorch/raw/master/project-tv-script-generation/problem_unittests.py\n",
            "Resolving github.com (github.com)... 140.82.114.4\n",
            "Connecting to github.com (github.com)|140.82.114.4|:443... connected.\n",
            "HTTP request sent, awaiting response... 302 Found\n",
            "Location: https://raw.githubusercontent.com/udacity/deep-learning-v2-pytorch/master/project-tv-script-generation/problem_unittests.py [following]\n",
            "--2019-12-12 03:21:00--  https://raw.githubusercontent.com/udacity/deep-learning-v2-pytorch/master/project-tv-script-generation/problem_unittests.py\n",
            "Resolving raw.githubusercontent.com (raw.githubusercontent.com)... 151.101.0.133, 151.101.64.133, 151.101.128.133, ...\n",
            "Connecting to raw.githubusercontent.com (raw.githubusercontent.com)|151.101.0.133|:443... connected.\n",
            "HTTP request sent, awaiting response... 200 OK\n",
            "Length: 10060 (9.8K) [text/plain]\n",
            "Saving to: ‘problem_unittests.py’\n",
            "\n",
            "problem_unittests.p 100%[===================>]   9.82K  --.-KB/s    in 0s      \n",
            "\n",
            "2019-12-12 03:21:01 (70.9 MB/s) - ‘problem_unittests.py’ saved [10060/10060]\n",
            "\n"
          ],
          "name": "stdout"
        }
      ]
    },
    {
      "cell_type": "code",
      "metadata": {
        "id": "_QmA2ldLz2sx",
        "colab_type": "code",
        "colab": {}
      },
      "source": [
        "\"\"\"\n",
        "DON'T MODIFY ANYTHING IN THIS CELL\n",
        "\"\"\"\n",
        "# load in data\n",
        "import helper\n",
        "data_dir = './data/Seinfeld_Scripts.txt'\n",
        "text = helper.load_data(data_dir)"
      ],
      "execution_count": 0,
      "outputs": []
    },
    {
      "cell_type": "markdown",
      "metadata": {
        "id": "A4dqbKxBz2s3",
        "colab_type": "text"
      },
      "source": [
        "## Explore the Data\n",
        "Play around with `view_line_range` to view different parts of the data. This will give you a sense of the data you'll be working with. You can see, for example, that it is all lowercase text, and each new line of dialogue is separated by a newline character `\\n`."
      ]
    },
    {
      "cell_type": "code",
      "metadata": {
        "id": "urgjiPB0z2s4",
        "colab_type": "code",
        "outputId": "37a876e9-e988-4c9d-a6ee-56317cba9266",
        "colab": {
          "base_uri": "https://localhost:8080/",
          "height": 306
        }
      },
      "source": [
        "view_line_range = (0, 10)\n",
        "\n",
        "\"\"\"\n",
        "DON'T MODIFY ANYTHING IN THIS CELL THAT IS BELOW THIS LINE\n",
        "\"\"\"\n",
        "import numpy as np\n",
        "\n",
        "print('Dataset Stats')\n",
        "print('Roughly the number of unique words: {}'.format(len({word: None for word in text.split()})))\n",
        "\n",
        "lines = text.split('\\n')\n",
        "print('Number of lines: {}'.format(len(lines)))\n",
        "word_count_line = [len(line.split()) for line in lines]\n",
        "print('Average number of words in each line: {}'.format(np.average(word_count_line)))\n",
        "\n",
        "print()\n",
        "print('The lines {} to {}:'.format(*view_line_range))\n",
        "print('\\n'.join(text.split('\\n')[view_line_range[0]:view_line_range[1]]))"
      ],
      "execution_count": 4,
      "outputs": [
        {
          "output_type": "stream",
          "text": [
            "Dataset Stats\n",
            "Roughly the number of unique words: 46367\n",
            "Number of lines: 109233\n",
            "Average number of words in each line: 5.544240293684143\n",
            "\n",
            "The lines 0 to 10:\n",
            "jerry: do you know what this is all about? do you know, why were here? to be out, this is out...and out is one of the single most enjoyable experiences of life. people...did you ever hear people talking about we should go out? this is what theyre talking about...this whole thing, were all out now, no one is home. not one person here is home, were all out! there are people trying to find us, they dont know where we are. (on an imaginary phone) did you ring?, i cant find him. where did he go? he didnt tell me where he was going. he must have gone out. you wanna go out you get ready, you pick out the clothes, right? you take the shower, you get all ready, get the cash, get your friends, the car, the spot, the reservation...then youre standing around, what do you do? you go we gotta be getting back. once youre out, you wanna get back! you wanna go to sleep, you wanna get up, you wanna go out again tomorrow, right? where ever you are in life, its my feeling, youve gotta go. \n",
            "\n",
            "jerry: (pointing at georges shirt) see, to me, that button is in the worst possible spot. the second button literally makes or breaks the shirt, look at it. its too high! its in no-mans-land. you look like you live with your mother. \n",
            "\n",
            "george: are you through? \n",
            "\n",
            "jerry: you do of course try on, when you buy? \n",
            "\n",
            "george: yes, it was purple, i liked it, i dont actually recall considering the buttons. \n",
            "\n"
          ],
          "name": "stdout"
        }
      ]
    },
    {
      "cell_type": "code",
      "metadata": {
        "id": "3ZI55x6s2-31",
        "colab_type": "code",
        "outputId": "f5ae7876-05d3-48b6-ecef-a849a6091dc9",
        "colab": {
          "base_uri": "https://localhost:8080/",
          "height": 34
        }
      },
      "source": [
        "len(text.split())"
      ],
      "execution_count": 0,
      "outputs": [
        {
          "output_type": "execute_result",
          "data": {
            "text/plain": [
              "605614"
            ]
          },
          "metadata": {
            "tags": []
          },
          "execution_count": 5
        }
      ]
    },
    {
      "cell_type": "markdown",
      "metadata": {
        "id": "fCRJMSltz2s7",
        "colab_type": "text"
      },
      "source": [
        "---\n",
        "## Implement Pre-processing Functions\n",
        "The first thing to do to any dataset is pre-processing.  Implement the following pre-processing functions below:\n",
        "- Lookup Table\n",
        "- Tokenize Punctuation\n",
        "\n",
        "### Lookup Table\n",
        "To create a word embedding, you first need to transform the words to ids.  In this function, create two dictionaries:\n",
        "- Dictionary to go from the words to an id, we'll call `vocab_to_int`\n",
        "- Dictionary to go from the id to word, we'll call `int_to_vocab`\n",
        "\n",
        "Return these dictionaries in the following **tuple** `(vocab_to_int, int_to_vocab)`"
      ]
    },
    {
      "cell_type": "code",
      "metadata": {
        "id": "AaKO6H3uz2s8",
        "colab_type": "code",
        "outputId": "31ac311e-d801-4dea-e625-795590d0329e",
        "colab": {
          "base_uri": "https://localhost:8080/",
          "height": 34
        }
      },
      "source": [
        "import problem_unittests as tests\n",
        "from collections import Counter\n",
        "def create_lookup_tables(text):\n",
        "    \"\"\"\n",
        "    Create lookup tables for vocabulary\n",
        "    :param text: The text of tv scripts split into words\n",
        "    :return: A tuple of dicts (vocab_to_int, int_to_vocab)\n",
        "    \"\"\"\n",
        "    words = set(text)\n",
        "    int_to_vocab = {i: word for i, word in enumerate(words)}\n",
        "    vocab_to_int = {word: i for i, word in int_to_vocab.items()}\n",
        "\n",
        "    # return tuple\n",
        "    return (vocab_to_int, int_to_vocab)\n",
        "\n",
        "\n",
        "\"\"\"\n",
        "DON'T MODIFY ANYTHING IN THIS CELL THAT IS BELOW THIS LINE\n",
        "\"\"\"\n",
        "tests.test_create_lookup_tables(create_lookup_tables)"
      ],
      "execution_count": 5,
      "outputs": [
        {
          "output_type": "stream",
          "text": [
            "Tests Passed\n"
          ],
          "name": "stdout"
        }
      ]
    },
    {
      "cell_type": "markdown",
      "metadata": {
        "id": "r1g7tfCxz2tA",
        "colab_type": "text"
      },
      "source": [
        "### Tokenize Punctuation\n",
        "We'll be splitting the script into a word array using spaces as delimiters.  However, punctuations like periods and exclamation marks can create multiple ids for the same word. For example, \"bye\" and \"bye!\" would generate two different word ids.\n",
        "\n",
        "Implement the function `token_lookup` to return a dict that will be used to tokenize symbols like \"!\" into \"||Exclamation_Mark||\".  Create a dictionary for the following symbols where the symbol is the key and value is the token:\n",
        "- Period ( **.** )\n",
        "- Comma ( **,** )\n",
        "- Quotation Mark ( **\"** )\n",
        "- Semicolon ( **;** )\n",
        "- Exclamation mark ( **!** )\n",
        "- Question mark ( **?** )\n",
        "- Left Parentheses ( **(** )\n",
        "- Right Parentheses ( **)** )\n",
        "- Dash ( **-** )\n",
        "- Return ( **\\n** )\n",
        "\n",
        "This dictionary will be used to tokenize the symbols and add the delimiter (space) around it.  This separates each symbols as its own word, making it easier for the neural network to predict the next word. Make sure you don't use a value that could be confused as a word; for example, instead of using the value \"dash\", try using something like \"||dash||\"."
      ]
    },
    {
      "cell_type": "code",
      "metadata": {
        "id": "FfhUrSPJz2tC",
        "colab_type": "code",
        "outputId": "2f45e7e4-1d6a-4470-e4ab-2aa9b8c86837",
        "colab": {
          "base_uri": "https://localhost:8080/",
          "height": 34
        }
      },
      "source": [
        "def token_lookup():\n",
        "    \"\"\"\n",
        "    Generate a dict to turn punctuation into a token.\n",
        "    :return: Tokenized dictionary where the key is the punctuation and the value is the token\n",
        "    \"\"\"\n",
        "    return {\n",
        "        '.': \"||period||\", \n",
        "        ',': \"||comma||\",\n",
        "        '\"': \"||quotation||\",\n",
        "        ';': \"||semicolon||\",\n",
        "        '!': \"||exclamnation||\",\n",
        "        '?': \"||question_mark||\",\n",
        "        '(': \"||left_parentheses||\",\n",
        "        ')': \"||right_parentheses||\",\n",
        "        '-': \"||dash||\",\n",
        "        '\\n': \"||new_line||\"\n",
        "    }\n",
        "        \n",
        "    \n",
        "\n",
        "\"\"\"\n",
        "DON'T MODIFY ANYTHING IN THIS CELL THAT IS BELOW THIS LINE\n",
        "\"\"\"\n",
        "tests.test_tokenize(token_lookup)"
      ],
      "execution_count": 6,
      "outputs": [
        {
          "output_type": "stream",
          "text": [
            "Tests Passed\n"
          ],
          "name": "stdout"
        }
      ]
    },
    {
      "cell_type": "markdown",
      "metadata": {
        "id": "P85Xtutez2tH",
        "colab_type": "text"
      },
      "source": [
        "## Pre-process all the data and save it\n",
        "\n",
        "Running the code cell below will pre-process all the data and save it to file. You're encouraged to look at the code for `preprocess_and_save_data` in the `helpers.py` file to see what it's doing in detail, but you do not need to change this code."
      ]
    },
    {
      "cell_type": "code",
      "metadata": {
        "id": "cJpAA9l1z2tJ",
        "colab_type": "code",
        "colab": {}
      },
      "source": [
        "\"\"\"\n",
        "DON'T MODIFY ANYTHING IN THIS CELL\n",
        "\"\"\"\n",
        "# pre-process training data\n",
        "helper.preprocess_and_save_data(data_dir, token_lookup, create_lookup_tables)"
      ],
      "execution_count": 0,
      "outputs": []
    },
    {
      "cell_type": "markdown",
      "metadata": {
        "id": "3sdRCHoXz2tN",
        "colab_type": "text"
      },
      "source": [
        "# Check Point\n",
        "This is your first checkpoint. If you ever decide to come back to this notebook or have to restart the notebook, you can start from here. The preprocessed data has been saved to disk."
      ]
    },
    {
      "cell_type": "code",
      "metadata": {
        "id": "8U2QCodwz2tP",
        "colab_type": "code",
        "colab": {}
      },
      "source": [
        "\"\"\"\n",
        "DON'T MODIFY ANYTHING IN THIS CELL\n",
        "\"\"\"\n",
        "import helper\n",
        "import problem_unittests as tests\n",
        "\n",
        "int_text, vocab_to_int, int_to_vocab, token_dict = helper.load_preprocess()"
      ],
      "execution_count": 0,
      "outputs": []
    },
    {
      "cell_type": "code",
      "metadata": {
        "id": "j9fgn76lKSXE",
        "colab_type": "code",
        "outputId": "e0811e88-bc7b-4421-da27-2eaef41e86c9",
        "colab": {
          "base_uri": "https://localhost:8080/",
          "height": 34
        }
      },
      "source": [
        "len(set(int_text))"
      ],
      "execution_count": 0,
      "outputs": [
        {
          "output_type": "execute_result",
          "data": {
            "text/plain": [
              "21387"
            ]
          },
          "metadata": {
            "tags": []
          },
          "execution_count": 10
        }
      ]
    },
    {
      "cell_type": "code",
      "metadata": {
        "id": "yzaXcTv3KXuR",
        "colab_type": "code",
        "outputId": "ca2cecbd-1bb1-4ace-c2d6-ecc3f9e037d5",
        "colab": {
          "base_uri": "https://localhost:8080/",
          "height": 34
        }
      },
      "source": [
        "len(vocab_to_int)"
      ],
      "execution_count": 0,
      "outputs": [
        {
          "output_type": "execute_result",
          "data": {
            "text/plain": [
              "21388"
            ]
          },
          "metadata": {
            "tags": []
          },
          "execution_count": 11
        }
      ]
    },
    {
      "cell_type": "markdown",
      "metadata": {
        "id": "c5RPXzzYz2tW",
        "colab_type": "text"
      },
      "source": [
        "## Build the Neural Network\n",
        "In this section, you'll build the components necessary to build an RNN by implementing the RNN Module and forward and backpropagation functions.\n",
        "\n",
        "### Check Access to GPU"
      ]
    },
    {
      "cell_type": "code",
      "metadata": {
        "id": "6DsKJsMQz2tX",
        "colab_type": "code",
        "colab": {}
      },
      "source": [
        "\"\"\"\n",
        "DON'T MODIFY ANYTHING IN THIS CELL\n",
        "\"\"\"\n",
        "import torch\n",
        "\n",
        "# Check for a GPU\n",
        "train_on_gpu = torch.cuda.is_available()\n",
        "if not train_on_gpu:\n",
        "    print('No GPU found. Please use a GPU to train your neural network.')"
      ],
      "execution_count": 0,
      "outputs": []
    },
    {
      "cell_type": "markdown",
      "metadata": {
        "id": "YCp9oenCz2ta",
        "colab_type": "text"
      },
      "source": [
        "## Input\n",
        "Let's start with the preprocessed input data. We'll use [TensorDataset](http://pytorch.org/docs/master/data.html#torch.utils.data.TensorDataset) to provide a known format to our dataset; in combination with [DataLoader](http://pytorch.org/docs/master/data.html#torch.utils.data.DataLoader), it will handle batching, shuffling, and other dataset iteration functions.\n",
        "\n",
        "You can create data with TensorDataset by passing in feature and target tensors. Then create a DataLoader as usual.\n",
        "```\n",
        "data = TensorDataset(feature_tensors, target_tensors)\n",
        "data_loader = torch.utils.data.DataLoader(data, \n",
        "                                          batch_size=batch_size)\n",
        "```\n",
        "\n",
        "### Batching\n",
        "Implement the `batch_data` function to batch `words` data into chunks of size `batch_size` using the `TensorDataset` and `DataLoader` classes.\n",
        "\n",
        ">You can batch words using the DataLoader, but it will be up to you to create `feature_tensors` and `target_tensors` of the correct size and content for a given `sequence_length`.\n",
        "\n",
        "For example, say we have these as input:\n",
        "```\n",
        "words = [1, 2, 3, 4, 5, 6, 7]\n",
        "sequence_length = 4\n",
        "```\n",
        "\n",
        "Your first `feature_tensor` should contain the values:\n",
        "```\n",
        "[1, 2, 3, 4]\n",
        "```\n",
        "And the corresponding `target_tensor` should just be the next \"word\"/tokenized word value:\n",
        "```\n",
        "5\n",
        "```\n",
        "This should continue with the second `feature_tensor`, `target_tensor` being:\n",
        "```\n",
        "[2, 3, 4, 5]  # features\n",
        "6             # target\n",
        "```"
      ]
    },
    {
      "cell_type": "code",
      "metadata": {
        "id": "D8xHBEQ9z2tb",
        "colab_type": "code",
        "colab": {}
      },
      "source": [
        "from torch.utils.data import TensorDataset, DataLoader\n",
        "\n",
        "\n",
        "def batch_data(words, sequence_length, batch_size):\n",
        "    \"\"\"\n",
        "    Batch the neural network data using DataLoader\n",
        "    :param words: The word ids of the TV scripts\n",
        "    :param sequence_length: The sequence length of each batch\n",
        "    :param batch_size: The size of each batch; the number of sequences in a batch\n",
        "    :return: DataLoader with batched data\n",
        "    \"\"\"\n",
        "    n = len(words)\n",
        "    inps = []\n",
        "    tgts = []\n",
        "    for i in range(sequence_length,n):\n",
        "      inps.append(words[i-sequence_length:i])\n",
        "      tgts.append(words[i])\n",
        "\n",
        "    dataset = TensorDataset(torch.Tensor(inps), torch.Tensor(tgts))\n",
        "    # return a dataloader\n",
        "    return DataLoader(dataset, batch_size=batch_size, shuffle=True)\n",
        "\n",
        "# there is no test for this function, but you are encouraged to create\n",
        "# print statements and tests of your own\n"
      ],
      "execution_count": 0,
      "outputs": []
    },
    {
      "cell_type": "markdown",
      "metadata": {
        "id": "WLJat5mFz2te",
        "colab_type": "text"
      },
      "source": [
        "### Test your dataloader \n",
        "\n",
        "You'll have to modify this code to test a batching function, but it should look fairly similar.\n",
        "\n",
        "Below, we're generating some test text data and defining a dataloader using the function you defined, above. Then, we are getting some sample batch of inputs `sample_x` and targets `sample_y` from our dataloader.\n",
        "\n",
        "Your code should return something like the following (likely in a different order, if you shuffled your data):\n",
        "\n",
        "```\n",
        "torch.Size([10, 5])\n",
        "tensor([[ 28,  29,  30,  31,  32],\n",
        "        [ 21,  22,  23,  24,  25],\n",
        "        [ 17,  18,  19,  20,  21],\n",
        "        [ 34,  35,  36,  37,  38],\n",
        "        [ 11,  12,  13,  14,  15],\n",
        "        [ 23,  24,  25,  26,  27],\n",
        "        [  6,   7,   8,   9,  10],\n",
        "        [ 38,  39,  40,  41,  42],\n",
        "        [ 25,  26,  27,  28,  29],\n",
        "        [  7,   8,   9,  10,  11]])\n",
        "\n",
        "torch.Size([10])\n",
        "tensor([ 33,  26,  22,  39,  16,  28,  11,  43,  30,  12])\n",
        "```\n",
        "\n",
        "### Sizes\n",
        "Your sample_x should be of size `(batch_size, sequence_length)` or (10, 5) in this case and sample_y should just have one dimension: batch_size (10). \n",
        "\n",
        "### Values\n",
        "\n",
        "You should also notice that the targets, sample_y, are the *next* value in the ordered test_text data. So, for an input sequence `[ 28,  29,  30,  31,  32]` that ends with the value `32`, the corresponding output should be `33`."
      ]
    },
    {
      "cell_type": "code",
      "metadata": {
        "id": "wAnST0pZz2tf",
        "colab_type": "code",
        "outputId": "436e163b-6983-4e82-ee84-227f12ec7f4c",
        "colab": {
          "base_uri": "https://localhost:8080/",
          "height": 252
        }
      },
      "source": [
        "# test dataloader\n",
        "\n",
        "test_text = range(50)\n",
        "t_loader = batch_data(test_text, sequence_length=5, batch_size=10)\n",
        "\n",
        "data_iter = iter(t_loader)\n",
        "sample_x, sample_y = data_iter.next()\n",
        "\n",
        "print(sample_x.shape)\n",
        "print(sample_x)\n",
        "print()\n",
        "print(sample_y.shape)\n",
        "print(sample_y)"
      ],
      "execution_count": 0,
      "outputs": [
        {
          "output_type": "stream",
          "text": [
            "torch.Size([10, 5])\n",
            "tensor([[43., 44., 45., 46., 47.],\n",
            "        [17., 18., 19., 20., 21.],\n",
            "        [ 1.,  2.,  3.,  4.,  5.],\n",
            "        [18., 19., 20., 21., 22.],\n",
            "        [13., 14., 15., 16., 17.],\n",
            "        [26., 27., 28., 29., 30.],\n",
            "        [28., 29., 30., 31., 32.],\n",
            "        [12., 13., 14., 15., 16.],\n",
            "        [14., 15., 16., 17., 18.],\n",
            "        [40., 41., 42., 43., 44.]])\n",
            "\n",
            "torch.Size([10])\n",
            "tensor([48., 22.,  6., 23., 18., 31., 33., 17., 19., 45.])\n"
          ],
          "name": "stdout"
        }
      ]
    },
    {
      "cell_type": "markdown",
      "metadata": {
        "id": "1qOAI50_z2ti",
        "colab_type": "text"
      },
      "source": [
        "---\n",
        "## Build the Neural Network\n",
        "Implement an RNN using PyTorch's [Module class](http://pytorch.org/docs/master/nn.html#torch.nn.Module). You may choose to use a GRU or an LSTM. To complete the RNN, you'll have to implement the following functions for the class:\n",
        " - `__init__` - The initialize function. \n",
        " - `init_hidden` - The initialization function for an LSTM/GRU hidden state\n",
        " - `forward` - Forward propagation function.\n",
        " \n",
        "The initialize function should create the layers of the neural network and save them to the class. The forward propagation function will use these layers to run forward propagation and generate an output and a hidden state.\n",
        "\n",
        "**The output of this model should be the *last* batch of word scores** after a complete sequence has been processed. That is, for each input sequence of words, we only want to output the word scores for a single, most likely, next word.\n",
        "\n",
        "### Hints\n",
        "\n",
        "1. Make sure to stack the outputs of the lstm to pass to your fully-connected layer, you can do this with `lstm_output = lstm_output.contiguous().view(-1, self.hidden_dim)`\n",
        "2. You can get the last batch of word scores by shaping the output of the final, fully-connected layer like so:\n",
        "\n",
        "```\n",
        "# reshape into (batch_size, seq_length, output_size)\n",
        "output = output.view(batch_size, -1, self.output_size)\n",
        "# get last batch\n",
        "out = output[:, -1]\n",
        "```"
      ]
    },
    {
      "cell_type": "code",
      "metadata": {
        "id": "j1GH3bauPOBd",
        "colab_type": "code",
        "colab": {}
      },
      "source": [
        "# train_on_gpu = False"
      ],
      "execution_count": 0,
      "outputs": []
    },
    {
      "cell_type": "code",
      "metadata": {
        "id": "Tzn90BBEz2tj",
        "colab_type": "code",
        "outputId": "edb6837e-8b28-4141-e2e6-4d53531fd9b3",
        "colab": {
          "base_uri": "https://localhost:8080/",
          "height": 34
        }
      },
      "source": [
        "import torch.nn as nn\n",
        "\n",
        "class RNN(nn.Module):\n",
        "    \n",
        "    def __init__(self, vocab_size, output_size, embedding_dim, hidden_dim, n_layers, dropout=0.5):\n",
        "        \"\"\"\n",
        "        Initialize the PyTorch RNN Module\n",
        "        :param vocab_size: The number of input dimensions of the neural network (the size of the vocabulary)\n",
        "        :param output_size: The number of output dimensions of the neural network\n",
        "        :param embedding_dim: The size of embeddings, should you choose to use them        \n",
        "        :param hidden_dim: The size of the hidden layer outputs\n",
        "        :param dropout: dropout to add in between LSTM/GRU layers\n",
        "        \"\"\"\n",
        "        super(RNN, self).__init__()\n",
        "        \n",
        "        # set class variables\n",
        "        self.vocab_size = vocab_size\n",
        "        self.hidden_dim = hidden_dim\n",
        "        self.n_layers = n_layers\n",
        "        self.output_size = output_size\n",
        "        \n",
        "        # define model layers\n",
        "        self.embedding = nn.Embedding(vocab_size, embedding_dim)\n",
        "        self.lstm = nn.LSTM(embedding_dim, hidden_dim, n_layers, dropout=dropout, batch_first=True)\n",
        "        self.fc = nn.Linear(hidden_dim, output_size)\n",
        "        self.dropout = nn.Dropout(dropout)\n",
        "\n",
        "    \n",
        "    \n",
        "    def forward(self, nn_input, hidden):\n",
        "        \"\"\"\n",
        "        Forward propagation of the neural network\n",
        "        :param nn_input: The input to the neural network\n",
        "        :param hidden: The hidden state        \n",
        "        :return: Two Tensors, the output of the neural network and the latest hidden state\n",
        "        \"\"\"\n",
        "        batch_size = nn_input.size(0)\n",
        "\n",
        "        embeds = self.embedding(nn_input.long())\n",
        "        output, hidden = self.lstm(embeds, hidden)\n",
        "        output = output.contiguous().view(-1, self.hidden_dim)\n",
        "        output = self.dropout(output)\n",
        "        output = self.fc(output)\n",
        "\n",
        "        # return one batch of output word scores and the hidden state\n",
        "        # reshape into (batch_size, seq_length, output_size)\n",
        "        output = output.view(batch_size, -1, self.output_size)\n",
        "        # get last batch\n",
        "        output = output[:, -1]\n",
        "        return output, hidden\n",
        "    \n",
        "    \n",
        "    def init_hidden(self, batch_size):\n",
        "        '''\n",
        "        Initialize the hidden state of an LSTM/GRU\n",
        "        :param batch_size: The batch_size of the hidden state\n",
        "        :return: hidden state of dims (n_layers, batch_size, hidden_dim)\n",
        "        '''\n",
        "        # Implement function\n",
        "        \n",
        "        # initialize hidden state with zero weights, and move to GPU if available\n",
        "        weight = next(self.parameters()).data\n",
        "        \n",
        "        if (train_on_gpu):\n",
        "            hidden = (weight.new(self.n_layers, batch_size, self.hidden_dim).zero_().cuda(),\n",
        "                  weight.new(self.n_layers, batch_size, self.hidden_dim).zero_().cuda())\n",
        "        else:\n",
        "            hidden = (weight.new(self.n_layers, batch_size, self.hidden_dim).zero_(),\n",
        "                      weight.new(self.n_layers, batch_size, self.hidden_dim).zero_())\n",
        "        \n",
        "        return hidden\n",
        "\n",
        "\"\"\"\n",
        "DON'T MODIFY ANYTHING IN THIS CELL THAT IS BELOW THIS LINE\n",
        "\"\"\"\n",
        "tests.test_rnn(RNN, train_on_gpu)"
      ],
      "execution_count": 11,
      "outputs": [
        {
          "output_type": "stream",
          "text": [
            "Tests Passed\n"
          ],
          "name": "stdout"
        }
      ]
    },
    {
      "cell_type": "markdown",
      "metadata": {
        "id": "0J0O3RGXz2tl",
        "colab_type": "text"
      },
      "source": [
        "### Define forward and backpropagation\n",
        "\n",
        "Use the RNN class you implemented to apply forward and back propagation. This function will be called, iteratively, in the training loop as follows:\n",
        "```\n",
        "loss = forward_back_prop(decoder, decoder_optimizer, criterion, inp, target)\n",
        "```\n",
        "\n",
        "And it should return the average loss over a batch and the hidden state returned by a call to `RNN(inp, hidden)`. Recall that you can get this loss by computing it, as usual, and calling `loss.item()`.\n",
        "\n",
        "**If a GPU is available, you should move your data to that GPU device, here.**"
      ]
    },
    {
      "cell_type": "code",
      "metadata": {
        "id": "tamWUZwjz2tl",
        "colab_type": "code",
        "outputId": "b21ec22a-e343-4a8f-d7d5-82f398e86bdc",
        "colab": {
          "base_uri": "https://localhost:8080/",
          "height": 34
        }
      },
      "source": [
        "def forward_back_prop(rnn, optimizer, criterion, inp, target, hidden):\n",
        "    \"\"\"\n",
        "    Forward and backward propagation on the neural network\n",
        "    :param rnn: The PyTorch Module that holds the neural network\n",
        "    :param optimizer: The PyTorch optimizer for the neural network\n",
        "    :param criterion: The PyTorch loss function\n",
        "    :param inp: A batch of input to the neural network\n",
        "    :param target: The target output for the batch of input\n",
        "    :return: The loss and the latest hidden state Tensor\n",
        "    \"\"\"\n",
        "    \n",
        "    # TODO: Implement Function\n",
        "    # move data to GPU, if available\n",
        "    if train_on_gpu:\n",
        "      inp = inp.cuda()\n",
        "      target = target.cuda()\n",
        "    hidden = tuple([each.data for each in hidden])\n",
        "    rnn.zero_grad()\n",
        "\n",
        "    output, hidden = rnn(inp, hidden)\n",
        "    loss = criterion(output, target.long())\n",
        "    # perform backpropagation and optimization\n",
        "    loss.backward()\n",
        "    nn.utils.clip_grad_norm_(rnn.parameters(), 5)\n",
        "    optimizer.step()\n",
        "    # return the loss over a batch and the hidden state produced by our model\n",
        "    return loss.item(), hidden\n",
        "\n",
        "# Note that these tests aren't completely extensive.\n",
        "# they are here to act as general checks on the expected outputs of your functions\n",
        "\"\"\"\n",
        "DON'T MODIFY ANYTHING IN THIS CELL THAT IS BELOW THIS LINE\n",
        "\"\"\"\n",
        "tests.test_forward_back_prop(RNN, forward_back_prop, train_on_gpu)"
      ],
      "execution_count": 12,
      "outputs": [
        {
          "output_type": "stream",
          "text": [
            "Tests Passed\n"
          ],
          "name": "stdout"
        }
      ]
    },
    {
      "cell_type": "markdown",
      "metadata": {
        "id": "ff3-ZsYWz2to",
        "colab_type": "text"
      },
      "source": [
        "## Neural Network Training\n",
        "\n",
        "With the structure of the network complete and data ready to be fed in the neural network, it's time to train it.\n",
        "\n",
        "### Train Loop\n",
        "\n",
        "The training loop is implemented for you in the `train_decoder` function. This function will train the network over all the batches for the number of epochs given. The model progress will be shown every number of batches. This number is set with the `show_every_n_batches` parameter. You'll set this parameter along with other parameters in the next section."
      ]
    },
    {
      "cell_type": "code",
      "metadata": {
        "id": "yLFey5MIT2IM",
        "colab_type": "code",
        "outputId": "67044c1e-3bcd-4064-a370-d6260be0bb65",
        "colab": {
          "base_uri": "https://localhost:8080/",
          "height": 34
        }
      },
      "source": [
        "from google.colab import drive\n",
        "drive.mount('/content/drive')"
      ],
      "execution_count": 13,
      "outputs": [
        {
          "output_type": "stream",
          "text": [
            "Mounted at /content/drive\n"
          ],
          "name": "stdout"
        }
      ]
    },
    {
      "cell_type": "code",
      "metadata": {
        "id": "7Mzw5TaDz2to",
        "colab_type": "code",
        "colab": {}
      },
      "source": [
        "\"\"\"\n",
        "DON'T MODIFY ANYTHING IN THIS CELL\n",
        "\"\"\"\n",
        "\n",
        "def train_rnn(rnn, batch_size, optimizer, criterion, n_epochs, show_every_n_batches=100):\n",
        "    batch_losses = []\n",
        "    \n",
        "    rnn.train()\n",
        "\n",
        "    print(\"Training for %d epoch(s)...\" % n_epochs)\n",
        "    for epoch_i in range(1, n_epochs + 1):\n",
        "        \n",
        "        # initialize hidden state\n",
        "        hidden = rnn.init_hidden(batch_size)\n",
        "        \n",
        "        for batch_i, (inputs, labels) in enumerate(train_loader, 1):\n",
        "            \n",
        "            # make sure you iterate over completely full batches, only\n",
        "            n_batches = len(train_loader.dataset)//batch_size\n",
        "            if(batch_i > n_batches):\n",
        "                break\n",
        "            \n",
        "            # forward, back prop\n",
        "            loss, hidden = forward_back_prop(rnn, optimizer, criterion, inputs, labels, hidden)          \n",
        "            # record loss\n",
        "            batch_losses.append(loss)\n",
        "\n",
        "            # printing loss stats\n",
        "            if batch_i % show_every_n_batches == 0:\n",
        "                print('Epoch: {:>4}/{:<4}  Loss: {}'.format(\n",
        "                    epoch_i, n_epochs, np.average(batch_losses)))\n",
        "                batch_losses = []\n",
        "            elif batch_i%30 == 0:\n",
        "              print('.', end='')\n",
        "        torch.save(rnn, '/content/drive/My Drive/training_rnn.pt')        \n",
        "        print('Saving Model')\n",
        "      \n",
        "\n",
        "    # returns a trained rnn\n",
        "    return rnn"
      ],
      "execution_count": 0,
      "outputs": []
    },
    {
      "cell_type": "markdown",
      "metadata": {
        "id": "db8NR1k5z2tr",
        "colab_type": "text"
      },
      "source": [
        "### Hyperparameters\n",
        "\n",
        "Set and train the neural network with the following parameters:\n",
        "- Set `sequence_length` to the length of a sequence.\n",
        "- Set `batch_size` to the batch size.\n",
        "- Set `num_epochs` to the number of epochs to train for.\n",
        "- Set `learning_rate` to the learning rate for an Adam optimizer.\n",
        "- Set `vocab_size` to the number of unique tokens in our vocabulary.\n",
        "- Set `output_size` to the desired size of the output.\n",
        "- Set `embedding_dim` to the embedding dimension; smaller than the vocab_size.\n",
        "- Set `hidden_dim` to the hidden dimension of your RNN.\n",
        "- Set `n_layers` to the number of layers/cells in your RNN.\n",
        "- Set `show_every_n_batches` to the number of batches at which the neural network should print progress.\n",
        "\n",
        "If the network isn't getting the desired results, tweak these parameters and/or the layers in the `RNN` class."
      ]
    },
    {
      "cell_type": "code",
      "metadata": {
        "id": "V7Yhzvc4z2tr",
        "colab_type": "code",
        "colab": {}
      },
      "source": [
        "# Data params\n",
        "# Sequence Length\n",
        "sequence_length = 8  # of words in a sequence\n",
        "# Batch Size\n",
        "batch_size = 32\n",
        "\n",
        "# data loader - do not change\n",
        "train_loader = batch_data(int_text, sequence_length, batch_size)"
      ],
      "execution_count": 0,
      "outputs": []
    },
    {
      "cell_type": "code",
      "metadata": {
        "id": "MGTZO7t6z2tt",
        "colab_type": "code",
        "colab": {}
      },
      "source": [
        "# Training parameters\n",
        "# Number of Epochs\n",
        "num_epochs = 4\n",
        "# Learning Rate\n",
        "learning_rate = 0.001\n",
        "\n",
        "# Model parameters\n",
        "# Vocab size\n",
        "vocab_size = len(vocab_to_int)\n",
        "# Output size\n",
        "output_size = vocab_size\n",
        "# Embedding Dimension\n",
        "embedding_dim = 400\n",
        "# Hidden Dimension\n",
        "hidden_dim = 256\n",
        "# Number of RNN Layers\n",
        "n_layers = 2\n",
        "\n",
        "# Show stats for every n number of batches\n",
        "show_every_n_batches = 1000"
      ],
      "execution_count": 0,
      "outputs": []
    },
    {
      "cell_type": "markdown",
      "metadata": {
        "id": "341Vhel1z2tw",
        "colab_type": "text"
      },
      "source": [
        "### Train\n",
        "In the next cell, you'll train the neural network on the pre-processed data.  If you have a hard time getting a good loss, you may consider changing your hyperparameters. In general, you may get better results with larger hidden and n_layer dimensions, but larger models take a longer time to train. \n",
        "> **You should aim for a loss less than 3.5.** \n",
        "\n",
        "You should also experiment with different sequence lengths, which determine the size of the long range dependencies that a model can learn."
      ]
    },
    {
      "cell_type": "code",
      "metadata": {
        "id": "4zvsDz1zz2tx",
        "colab_type": "code",
        "outputId": "d10ce9f9-a17f-42a9-92ba-39b541ba7a29",
        "colab": {
          "base_uri": "https://localhost:8080/",
          "height": 1000
        }
      },
      "source": [
        "\"\"\"\n",
        "DON'T MODIFY ANYTHING IN THIS CELL\n",
        "\"\"\"\n",
        "\n",
        "# create model and move to gpu if available\n",
        "rnn = RNN(vocab_size, output_size, embedding_dim, hidden_dim, n_layers, dropout=0.5)\n",
        "if train_on_gpu:\n",
        "    rnn.cuda()\n",
        "\n",
        "# defining loss and optimization functions for training\n",
        "optimizer = torch.optim.Adam(rnn.parameters(), lr=learning_rate)\n",
        "criterion = nn.CrossEntropyLoss()\n",
        "\n",
        "# training the model\n",
        "trained_rnn = train_rnn(rnn, batch_size, optimizer, criterion, num_epochs, show_every_n_batches)\n",
        "\n",
        "# saving the trained model\n",
        "helper.save_model('trained_rnn', trained_rnn)\n",
        "print('Model Trained and Saved')"
      ],
      "execution_count": 0,
      "outputs": [
        {
          "output_type": "stream",
          "text": [
            "Training for 4 epoch(s)...\n",
            ".................................Epoch:    1/4     Loss: 5.5113825812339785\n",
            "\n",
            ".................................Epoch:    1/4     Loss: 5.049199531555176\n",
            "\n",
            ".................................Epoch:    1/4     Loss: 4.912330102682113\n",
            "\n",
            ".................................Epoch:    1/4     Loss: 4.81165660738945\n",
            "\n",
            ".................................Epoch:    1/4     Loss: 4.722360448122025\n",
            "\n",
            ".................................Epoch:    1/4     Loss: 4.696114155292511\n",
            "\n",
            ".................................Epoch:    1/4     Loss: 4.673862761974335\n",
            "\n",
            ".................................Epoch:    1/4     Loss: 4.606593492746353\n",
            "\n",
            ".................................Epoch:    1/4     Loss: 4.63496356844902\n",
            "\n",
            ".................................Epoch:    1/4     Loss: 4.598780711650848\n",
            "\n",
            ".................................Epoch:    1/4     Loss: 4.553489749670029\n",
            "\n",
            ".................................Epoch:    1/4     Loss: 4.582512929677963\n",
            "\n",
            ".................................Epoch:    1/4     Loss: 4.606298017263413\n",
            "\n",
            ".................................Epoch:    1/4     Loss: 4.562203475952148\n",
            "\n",
            ".................................Epoch:    1/4     Loss: 4.514980036497116\n",
            "\n",
            ".................................Epoch:    1/4     Loss: 4.5312164096832275\n",
            "\n",
            ".................................Epoch:    1/4     Loss: 4.556898921966552\n",
            "\n",
            ".................................Epoch:    1/4     Loss: 4.498015084505081\n",
            "\n",
            ".................................Epoch:    1/4     Loss: 4.505785034656524\n",
            "\n",
            ".................................Epoch:    1/4     Loss: 4.478439131259918\n",
            "\n",
            ".................................Epoch:    1/4     Loss: 4.4840697453022\n",
            "\n",
            ".................................Epoch:    1/4     Loss: 4.534826831102372\n",
            "\n",
            ".................................Epoch:    1/4     Loss: 4.543892002820969\n",
            "\n",
            ".................................Epoch:    1/4     Loss: 4.491856544494629\n",
            "\n",
            ".................................Epoch:    1/4     Loss: 4.450408068418503\n",
            "\n",
            ".................................Epoch:    1/4     Loss: 4.493515028953552\n",
            "\n",
            ".................................Epoch:    1/4     Loss: 4.505758636474609\n",
            "\n",
            "............................."
          ],
          "name": "stdout"
        },
        {
          "output_type": "stream",
          "text": [
            "/usr/local/lib/python3.6/dist-packages/torch/serialization.py:292: UserWarning: Couldn't retrieve source code for container of type RNN. It won't be checked for correctness upon loading.\n",
            "  \"type \" + obj.__name__ + \". It won't be checked \"\n",
            "/usr/local/lib/python3.6/dist-packages/torch/serialization.py:292: UserWarning: Couldn't retrieve source code for container of type Embedding. It won't be checked for correctness upon loading.\n",
            "  \"type \" + obj.__name__ + \". It won't be checked \"\n",
            "/usr/local/lib/python3.6/dist-packages/torch/serialization.py:292: UserWarning: Couldn't retrieve source code for container of type LSTM. It won't be checked for correctness upon loading.\n",
            "  \"type \" + obj.__name__ + \". It won't be checked \"\n",
            "/usr/local/lib/python3.6/dist-packages/torch/serialization.py:292: UserWarning: Couldn't retrieve source code for container of type Linear. It won't be checked for correctness upon loading.\n",
            "  \"type \" + obj.__name__ + \". It won't be checked \"\n",
            "/usr/local/lib/python3.6/dist-packages/torch/serialization.py:292: UserWarning: Couldn't retrieve source code for container of type Dropout. It won't be checked for correctness upon loading.\n",
            "  \"type \" + obj.__name__ + \". It won't be checked \"\n"
          ],
          "name": "stderr"
        },
        {
          "output_type": "stream",
          "text": [
            "Saving Model\n",
            ".................................Epoch:    2/4     Loss: 4.424337593765178\n",
            "\n",
            ".................................Epoch:    2/4     Loss: 4.398946365356445\n",
            "\n",
            ".................................Epoch:    2/4     Loss: 4.39290738606453\n",
            "\n",
            ".................................Epoch:    2/4     Loss: 4.360130962848664\n",
            "\n",
            ".................................Epoch:    2/4     Loss: 4.386083058834076\n",
            "\n",
            ".................................Epoch:    2/4     Loss: 4.373149930953979\n",
            "\n",
            ".................................Epoch:    2/4     Loss: 4.386732179880142\n",
            "\n",
            ".................................Epoch:    2/4     Loss: 4.3618215675354\n",
            "\n",
            ".................................Epoch:    2/4     Loss: 4.403577586174011\n",
            "\n",
            ".................................Epoch:    2/4     Loss: 4.341208042860031\n",
            "\n",
            ".................................Epoch:    2/4     Loss: 4.4190267486572266\n",
            "\n",
            ".................................Epoch:    2/4     Loss: 4.370510252475738\n",
            "\n",
            ".................................Epoch:    2/4     Loss: 4.397634798526764\n",
            "\n",
            ".................................Epoch:    2/4     Loss: 4.405449779510498\n",
            "\n",
            ".................................Epoch:    2/4     Loss: 4.394197774887085\n",
            "\n",
            ".................................Epoch:    2/4     Loss: 4.376400734186173\n",
            "\n",
            ".................................Epoch:    2/4     Loss: 4.410701826810837\n",
            "\n",
            ".................................Epoch:    2/4     Loss: 4.420849986791611\n",
            "\n",
            ".................................Epoch:    2/4     Loss: 4.397431775808334\n",
            "\n",
            ".................................Epoch:    2/4     Loss: 4.4203685567379\n",
            "\n",
            ".................................Epoch:    2/4     Loss: 4.38744977092743\n",
            "\n",
            ".................................Epoch:    2/4     Loss: 4.402489774465561\n",
            "\n",
            ".................................Epoch:    2/4     Loss: 4.411080268621444\n",
            "\n",
            ".................................Epoch:    2/4     Loss: 4.384113196372986\n",
            "\n",
            ".................................Epoch:    2/4     Loss: 4.394279899597168\n",
            "\n",
            ".................................Epoch:    2/4     Loss: 4.407588756322861\n",
            "\n",
            ".................................Epoch:    2/4     Loss: 4.390462747573853\n",
            "\n",
            ".............................Saving Model\n",
            ".................................Epoch:    3/4     Loss: 4.399252559176396\n",
            "\n",
            ".................................Epoch:    3/4     Loss: 4.291268338918686\n",
            "\n",
            ".................................Epoch:    3/4     Loss: 4.2973221938610076\n",
            "\n",
            ".................................Epoch:    3/4     Loss: 4.343431653022766\n",
            "\n",
            ".................................Epoch:    3/4     Loss: 4.294341387271881\n",
            "\n",
            ".................................Epoch:    3/4     Loss: 4.32679306936264\n",
            "\n",
            ".................................Epoch:    3/4     Loss: 4.320461716890335\n",
            "\n",
            ".................................Epoch:    3/4     Loss: 4.342244498968125\n",
            "\n",
            ".................................Epoch:    3/4     Loss: 4.415438162088394\n",
            "\n",
            ".................................Epoch:    3/4     Loss: 4.362617994070053\n",
            "\n",
            ".................................Epoch:    3/4     Loss: 4.3490680642127995\n",
            "\n",
            ".................................Epoch:    3/4     Loss: 4.400627557754516\n",
            "\n",
            ".................................Epoch:    3/4     Loss: 4.363576866388321\n",
            "\n",
            ".................................Epoch:    3/4     Loss: 4.358345745563507\n",
            "\n",
            ".................................Epoch:    3/4     Loss: 4.362747880935669\n",
            "\n",
            ".................................Epoch:    3/4     Loss: 4.349374921798706\n",
            "\n",
            ".................................Epoch:    3/4     Loss: 4.384703631401062\n",
            "\n",
            ".................................Epoch:    3/4     Loss: 4.386992782115937\n",
            "\n",
            ".................................Epoch:    3/4     Loss: 4.351921612977981\n",
            "\n",
            ".................................Epoch:    3/4     Loss: 4.366571766614914\n",
            "\n",
            ".................................Epoch:    3/4     Loss: 4.356897817134858\n",
            "\n",
            ".................................Epoch:    3/4     Loss: 4.365302193403244\n",
            "\n",
            ".................................Epoch:    3/4     Loss: 4.36050132060051\n",
            "\n",
            ".................................Epoch:    3/4     Loss: 4.348217569112777\n",
            "\n",
            ".................................Epoch:    3/4     Loss: 4.369229661941528\n",
            "\n",
            ".................................Epoch:    3/4     Loss: 4.364844163656235\n",
            "\n",
            ".................................Epoch:    3/4     Loss: 4.359359285831451\n",
            "\n",
            ".............................Saving Model\n",
            ".................................Epoch:    4/4     Loss: 4.331963900179147\n",
            "\n",
            ".................................Epoch:    4/4     Loss: 4.290809974908829\n",
            "\n",
            ".................................Epoch:    4/4     Loss: 4.29738646697998\n",
            "\n",
            ".................................Epoch:    4/4     Loss: 4.350082092761993\n",
            "\n",
            ".................................Epoch:    4/4     Loss: 4.292469294309616\n",
            "\n",
            ".................................Epoch:    4/4     Loss: 4.320121724367142\n",
            "\n",
            ".................................Epoch:    4/4     Loss: 4.322106992244721\n",
            "\n",
            ".................................Epoch:    4/4     Loss: 4.320235114097596\n",
            "\n",
            ".................................Epoch:    4/4     Loss: 4.324578318357467\n",
            "\n",
            ".................................Epoch:    4/4     Loss: 4.325722730159759\n",
            "\n",
            ".................................Epoch:    4/4     Loss: 4.318283111572265\n",
            "\n",
            ".................................Epoch:    4/4     Loss: 4.342160730361939\n",
            "\n",
            ".................................Epoch:    4/4     Loss: 4.345704135656357\n",
            "\n",
            ".................................Epoch:    4/4     Loss: 4.347692346572876\n",
            "\n",
            ".................................Epoch:    4/4     Loss: 4.306852601528168\n",
            "\n",
            ".................................Epoch:    4/4     Loss: 4.3384876117706295\n",
            "\n",
            ".................................Epoch:    4/4     Loss: 4.347684028863907\n",
            "\n",
            ".................................Epoch:    4/4     Loss: 4.330862511873245\n",
            "\n",
            ".................................Epoch:    4/4     Loss: 4.35856028008461\n",
            "\n",
            ".................................Epoch:    4/4     Loss: 4.319692690134048\n",
            "\n",
            ".................................Epoch:    4/4     Loss: 4.360244586229324\n",
            "\n",
            ".................................Epoch:    4/4     Loss: 4.363093311548233\n",
            "\n",
            ".................................Epoch:    4/4     Loss: 4.397312319278717\n",
            "\n",
            ".................................Epoch:    4/4     Loss: 4.399243332386017\n",
            "\n",
            ".................................Epoch:    4/4     Loss: 4.368949232339859\n",
            "\n",
            ".................................Epoch:    4/4     Loss: 4.353835010528565\n",
            "\n",
            ".................................Epoch:    4/4     Loss: 4.377151881217957\n",
            "\n",
            ".............................Saving Model\n",
            "Model Trained and Saved\n"
          ],
          "name": "stdout"
        }
      ]
    },
    {
      "cell_type": "code",
      "metadata": {
        "id": "T4D1vB82ZzlU",
        "colab_type": "code",
        "outputId": "7844f95c-8b7b-48eb-8b4b-fde06a442da7",
        "colab": {
          "base_uri": "https://localhost:8080/",
          "height": 1000
        }
      },
      "source": [
        "show_every_n_batches = 3000\n",
        "optimizer = torch.optim.Adam(trained_rnn.parameters(), lr=learning_rate)\n",
        "criterion = nn.CrossEntropyLoss()\n",
        "\n",
        "# training the model\n",
        "print(\"next 4 epochs continuation\")\n",
        "trained_rnn = train_rnn(trained_rnn, batch_size, optimizer, criterion, num_epochs, show_every_n_batches)\n",
        "\n",
        "# saving the trained model\n",
        "helper.save_model('trained_rnn', trained_rnn)\n",
        "print('Model Trained and Saved')"
      ],
      "execution_count": 0,
      "outputs": [
        {
          "output_type": "stream",
          "text": [
            "next 4 epochs continuation\n",
            "Training for 4 epoch(s)...\n",
            "...................................................................................................Epoch:    1/4     Loss: 4.345454061190288\n",
            "\n",
            "...................................................................................................Epoch:    1/4     Loss: 4.4215889414946234\n",
            "\n",
            "...................................................................................................Epoch:    1/4     Loss: 4.414827603578567\n",
            "\n",
            "...................................................................................................Epoch:    1/4     Loss: 4.420858095963796\n",
            "\n",
            "...................................................................................................Epoch:    1/4     Loss: 4.4363116242885585\n",
            "\n",
            "...................................................................................................Epoch:    1/4     Loss: 4.426083226044973\n",
            "\n",
            "...................................................................................................Epoch:    1/4     Loss: 4.3966198279062905\n",
            "\n",
            "...................................................................................................Epoch:    1/4     Loss: 4.411756842772166\n",
            "\n",
            "...................................................................................................Epoch:    1/4     Loss: 4.39121123902003\n",
            "\n",
            "............................."
          ],
          "name": "stdout"
        },
        {
          "output_type": "stream",
          "text": [
            "/usr/local/lib/python3.6/dist-packages/torch/serialization.py:292: UserWarning: Couldn't retrieve source code for container of type RNN. It won't be checked for correctness upon loading.\n",
            "  \"type \" + obj.__name__ + \". It won't be checked \"\n",
            "/usr/local/lib/python3.6/dist-packages/torch/serialization.py:292: UserWarning: Couldn't retrieve source code for container of type Embedding. It won't be checked for correctness upon loading.\n",
            "  \"type \" + obj.__name__ + \". It won't be checked \"\n",
            "/usr/local/lib/python3.6/dist-packages/torch/serialization.py:292: UserWarning: Couldn't retrieve source code for container of type LSTM. It won't be checked for correctness upon loading.\n",
            "  \"type \" + obj.__name__ + \". It won't be checked \"\n",
            "/usr/local/lib/python3.6/dist-packages/torch/serialization.py:292: UserWarning: Couldn't retrieve source code for container of type Linear. It won't be checked for correctness upon loading.\n",
            "  \"type \" + obj.__name__ + \". It won't be checked \"\n",
            "/usr/local/lib/python3.6/dist-packages/torch/serialization.py:292: UserWarning: Couldn't retrieve source code for container of type Dropout. It won't be checked for correctness upon loading.\n",
            "  \"type \" + obj.__name__ + \". It won't be checked \"\n"
          ],
          "name": "stderr"
        },
        {
          "output_type": "stream",
          "text": [
            "Saving Model\n",
            "...................................................................................................Epoch:    2/4     Loss: 4.338894934061571\n",
            "\n",
            "...................................................................................................Epoch:    2/4     Loss: 4.339360953410466\n",
            "\n",
            "...................................................................................................Epoch:    2/4     Loss: 4.354000401417414\n",
            "\n",
            "...................................................................................................Epoch:    2/4     Loss: 4.3566680412292484\n",
            "\n",
            "...................................................................................................Epoch:    2/4     Loss: 4.347976991097132\n",
            "\n",
            "...................................................................................................Epoch:    2/4     Loss: 4.362063475847244\n",
            "\n",
            "...................................................................................................Epoch:    2/4     Loss: 4.366578084230423\n",
            "\n",
            "...................................................................................................Epoch:    2/4     Loss: 4.372121727625529\n",
            "\n",
            "...................................................................................................Epoch:    2/4     Loss: 4.322833774487178\n",
            "\n",
            ".............................Saving Model\n",
            "...................................................................................................Epoch:    3/4     Loss: 4.331954079967851\n",
            "\n",
            "...................................................................................................Epoch:    3/4     Loss: 4.312509634256363\n",
            "\n",
            "...................................................................................................Epoch:    3/4     Loss: 4.30157407784462\n",
            "\n",
            "...................................................................................................Epoch:    3/4     Loss: 4.342534164428711\n",
            "\n",
            "...................................................................................................Epoch:    3/4     Loss: 4.347798082431157\n",
            "\n",
            "...................................................................................................Epoch:    3/4     Loss: 4.336964937289556\n",
            "\n",
            "...................................................................................................Epoch:    3/4     Loss: 4.333837849060695\n",
            "\n",
            "...................................................................................................Epoch:    3/4     Loss: 4.3510852275689444\n",
            "\n",
            "...................................................................................................Epoch:    3/4     Loss: 4.337757285992304\n",
            "\n",
            ".............................Saving Model\n",
            "...................................................................................................Epoch:    4/4     Loss: 4.314129909576369\n",
            "\n",
            "...................................................................................................Epoch:    4/4     Loss: 4.308221905152003\n",
            "\n",
            "...................................................................................................Epoch:    4/4     Loss: 4.322701617479324\n",
            "\n",
            "...................................................................................................Epoch:    4/4     Loss: 4.295294681866964\n",
            "\n",
            "...................................................................................................Epoch:    4/4     Loss: 4.327693825403849\n",
            "\n",
            "...................................................................................................Epoch:    4/4     Loss: 4.324292334715525\n",
            "\n",
            "...................................................................................................Epoch:    4/4     Loss: 4.3311725107034045\n",
            "\n",
            "...................................................................................................Epoch:    4/4     Loss: 4.316342455705007\n",
            "\n",
            "...................................................................................................Epoch:    4/4     Loss: 4.326943957527479\n",
            "\n",
            ".............................Saving Model\n",
            "Model Trained and Saved\n"
          ],
          "name": "stdout"
        }
      ]
    },
    {
      "cell_type": "markdown",
      "metadata": {
        "id": "4bePw2KVdxoJ",
        "colab_type": "text"
      },
      "source": [
        "Loss seems that bes minimum is 4.3 and network is not able to learn further anymore."
      ]
    },
    {
      "cell_type": "markdown",
      "metadata": {
        "id": "yQDs_REMcgtW",
        "colab_type": "text"
      },
      "source": [
        "Trail 2\n",
        "Increased sequence length, as average dialogue length is 5, meaningful script should atleast be from previous two sentences."
      ]
    },
    {
      "cell_type": "code",
      "metadata": {
        "colab_type": "code",
        "id": "ZFM9mTg3cdBe",
        "colab": {}
      },
      "source": [
        "# updated data params\n",
        "sequence_length = 15  \n",
        "batch_size = 32\n",
        "\n",
        "def batch_data(words, sequence_length, batch_size):\n",
        "    \"\"\"\n",
        "    Batch the neural network data using DataLoader\n",
        "    :param words: The word ids of the TV scripts\n",
        "    :param sequence_length: The sequence length of each batch\n",
        "    :param batch_size: The size of each batch; the number of sequences in a batch\n",
        "    :return: DataLoader with batched data\n",
        "    \"\"\"\n",
        "    n = len(words)\n",
        "    inps = []\n",
        "    tgts = []\n",
        "    for i in range(sequence_length,n):\n",
        "      inps.append(words[i-sequence_length:i])\n",
        "      tgts.append(words[i])\n",
        "\n",
        "    dataset = TensorDataset(torch.Tensor(inps), torch.Tensor(tgts))\n",
        "    # return a dataloader\n",
        "    return DataLoader(dataset, batch_size=batch_size)\n",
        "\n",
        "# data loader - do not change\n",
        "train_loader = batch_data(int_text, sequence_length, batch_size)"
      ],
      "execution_count": 0,
      "outputs": []
    },
    {
      "cell_type": "code",
      "metadata": {
        "colab_type": "code",
        "id": "f81rohfHcdBo",
        "outputId": "925274c2-4819-42b4-f10e-045d0e7e856c",
        "colab": {
          "base_uri": "https://localhost:8080/",
          "height": 1000
        }
      },
      "source": [
        "# Training parameters\n",
        "# Number of Epochs\n",
        "num_epochs = 8\n",
        "# Learning Rate\n",
        "learning_rate = 0.001\n",
        "vocab_size = len(vocab_to_int)\n",
        "# Output size\n",
        "output_size = vocab_size\n",
        "# Embedding Dimension\n",
        "embedding_dim = 512\n",
        "# Hidden Dimension\n",
        "hidden_dim = 256\n",
        "# Number of RNN Layers\n",
        "n_layers = 2\n",
        "# Show stats for every n number of batches\n",
        "show_every_n_batches = 3000\n",
        "\n",
        "rnn = RNN(vocab_size, output_size, embedding_dim, hidden_dim, n_layers, dropout=0.5)\n",
        "if train_on_gpu:\n",
        "    rnn.cuda()\n",
        "\n",
        "optimizer = torch.optim.Adam(rnn.parameters(), lr=learning_rate)\n",
        "criterion = nn.CrossEntropyLoss()\n",
        "\n",
        "# training the model\n",
        "trained_rnn = train_rnn(rnn, batch_size, optimizer, criterion, num_epochs, show_every_n_batches)\n",
        "\n",
        "# saving the trained model\n",
        "helper.save_model('trained_rnn', trained_rnn)\n",
        "print('Model Trained and Saved')"
      ],
      "execution_count": 0,
      "outputs": [
        {
          "output_type": "stream",
          "text": [
            "Training for 8 epoch(s)...\n",
            "...................................................................................................Epoch:    1/8     Loss: 5.120708445469538\n",
            "...................................................................................................Epoch:    1/8     Loss: 4.687208378275235\n",
            "...................................................................................................Epoch:    1/8     Loss: 4.62343295900027\n",
            "...................................................................................................Epoch:    1/8     Loss: 4.65251144293944\n",
            "...................................................................................................Epoch:    1/8     Loss: 4.634658617734909\n",
            "...................................................................................................Epoch:    1/8     Loss: 4.511314759055773\n",
            "...................................................................................................Epoch:    1/8     Loss: 4.55077587723732\n",
            "...................................................................................................Epoch:    1/8     Loss: 4.731148591836294\n",
            "...................................................................................................Epoch:    1/8     Loss: 4.724921972592671\n",
            "............................."
          ],
          "name": "stdout"
        },
        {
          "output_type": "stream",
          "text": [
            "/usr/local/lib/python3.6/dist-packages/torch/serialization.py:292: UserWarning: Couldn't retrieve source code for container of type RNN. It won't be checked for correctness upon loading.\n",
            "  \"type \" + obj.__name__ + \". It won't be checked \"\n",
            "/usr/local/lib/python3.6/dist-packages/torch/serialization.py:292: UserWarning: Couldn't retrieve source code for container of type Embedding. It won't be checked for correctness upon loading.\n",
            "  \"type \" + obj.__name__ + \". It won't be checked \"\n",
            "/usr/local/lib/python3.6/dist-packages/torch/serialization.py:292: UserWarning: Couldn't retrieve source code for container of type LSTM. It won't be checked for correctness upon loading.\n",
            "  \"type \" + obj.__name__ + \". It won't be checked \"\n",
            "/usr/local/lib/python3.6/dist-packages/torch/serialization.py:292: UserWarning: Couldn't retrieve source code for container of type Linear. It won't be checked for correctness upon loading.\n",
            "  \"type \" + obj.__name__ + \". It won't be checked \"\n",
            "/usr/local/lib/python3.6/dist-packages/torch/serialization.py:292: UserWarning: Couldn't retrieve source code for container of type Dropout. It won't be checked for correctness upon loading.\n",
            "  \"type \" + obj.__name__ + \". It won't be checked \"\n"
          ],
          "name": "stderr"
        },
        {
          "output_type": "stream",
          "text": [
            "Saving Model\n",
            "...................................................................................................Epoch:    2/8     Loss: 4.541822626906201\n",
            "...................................................................................................Epoch:    2/8     Loss: 4.42412507156531\n",
            "...................................................................................................Epoch:    2/8     Loss: 4.46360287129879\n",
            "...................................................................................................Epoch:    2/8     Loss: 4.56002525528272\n",
            "...................................................................................................Epoch:    2/8     Loss: 4.560984809398651\n",
            "...................................................................................................Epoch:    2/8     Loss: 4.446417024413744\n",
            "...................................................................................................Epoch:    2/8     Loss: 4.474538421789805\n",
            "...................................................................................................Epoch:    2/8     Loss: 4.6726995727221174\n",
            "...................................................................................................Epoch:    2/8     Loss: 4.680470838308334\n",
            ".............................Saving Model\n",
            "...................................................................................................Epoch:    3/8     Loss: 4.500522647655468\n",
            "...................................................................................................Epoch:    3/8     Loss: 4.3744174149036406\n",
            "...................................................................................................Epoch:    3/8     Loss: 4.4226026665767035\n",
            "...................................................................................................Epoch:    3/8     Loss: 4.535328265150388\n",
            "...................................................................................................Epoch:    3/8     Loss: 4.53585518125693\n",
            "...................................................................................................Epoch:    3/8     Loss: 4.424505530039469\n",
            "...................................................................................................Epoch:    3/8     Loss: 4.441004424015681\n",
            "...................................................................................................Epoch:    3/8     Loss: 4.646714550177256\n",
            "...................................................................................................Epoch:    3/8     Loss: 4.658032318592071\n",
            ".............................Saving Model\n",
            "...................................................................................................Epoch:    4/8     Loss: 4.472680804838309\n",
            "...................................................................................................Epoch:    4/8     Loss: 4.352073422630628\n",
            "...................................................................................................Epoch:    4/8     Loss: 4.403183370471001\n",
            "...................................................................................................Epoch:    4/8     Loss: 4.511977966825167\n",
            "...................................................................................................Epoch:    4/8     Loss: 4.518964693466822\n",
            "...................................................................................................Epoch:    4/8     Loss: 4.3945782192150755\n",
            "...................................................................................................Epoch:    4/8     Loss: 4.416527061144511\n",
            "...................................................................................................Epoch:    4/8     Loss: 4.617129905859629\n",
            "...................................................................................................Epoch:    4/8     Loss: 4.6268205377260845\n",
            ".............................Saving Model\n",
            "...................................................................................................Epoch:    5/8     Loss: 4.452352501511543\n",
            "...................................................................................................Epoch:    5/8     Loss: 4.338176367441813\n",
            "...................................................................................................Epoch:    5/8     Loss: 4.370967901627223\n",
            "...................................................................................................Epoch:    5/8     Loss: 4.486937797665596\n",
            "...................................................................................................Epoch:    5/8     Loss: 4.492639771223068\n",
            "...................................................................................................Epoch:    5/8     Loss: 4.371876204331716\n",
            "...................................................................................................Epoch:    5/8     Loss: 4.404002380291621\n",
            "...................................................................................................Epoch:    5/8     Loss: 4.592560225486755\n",
            "...................................................................................................Epoch:    5/8     Loss: 4.608011015574137\n",
            ".............................Saving Model\n",
            "...................................................................................................Epoch:    6/8     Loss: 4.438837127369459\n",
            "...................................................................................................Epoch:    6/8     Loss: 4.324116387009621\n",
            "...................................................................................................Epoch:    6/8     Loss: 4.358695439219475\n",
            "...................................................................................................Epoch:    6/8     Loss: 4.479674046874046\n",
            "...................................................................................................Epoch:    6/8     Loss: 4.4728436942895256\n",
            "...................................................................................................Epoch:    6/8     Loss: 4.35273892680804\n",
            "...................................................................................................Epoch:    6/8     Loss: 4.3897841364542645\n",
            "...................................................................................................Epoch:    6/8     Loss: 4.583053667147954\n",
            "...................................................................................................Epoch:    6/8     Loss: 4.589494906226794\n",
            ".............................Saving Model\n",
            "...................................................................................................Epoch:    7/8     Loss: 4.424198704587451\n",
            "...................................................................................................Epoch:    7/8     Loss: 4.322614495635032\n",
            "...................................................................................................Epoch:    7/8     Loss: 4.337944327513377\n",
            "...................................................................................................Epoch:    7/8     Loss: 4.462571617166201\n",
            "...................................................................................................Epoch:    7/8     Loss: 4.450438491026561\n",
            "...................................................................................................Epoch:    7/8     Loss: 4.341604200124741\n",
            "...................................................................................................Epoch:    7/8     Loss: 4.3852296129862465\n",
            "...................................................................................................Epoch:    7/8     Loss: 4.58521132183075\n",
            "...................................................................................................Epoch:    7/8     Loss: 4.587214920520783\n",
            ".............................Saving Model\n",
            "...................................................................................................Epoch:    8/8     Loss: 4.425030668894286\n",
            "...................................................................................................Epoch:    8/8     Loss: 4.3183041485150655\n",
            "...................................................................................................Epoch:    8/8     Loss: 4.332858732223511\n",
            "...................................................................................................Epoch:    8/8     Loss: 4.448669311563174\n",
            "...................................................................................................Epoch:    8/8     Loss: 4.4451472956339515\n",
            "...................................................................................................Epoch:    8/8     Loss: 4.342211716214816\n",
            "...................................................................................................Epoch:    8/8     Loss: 4.379458739042282\n",
            "...................................................................................................Epoch:    8/8     Loss: 4.57286451347669\n",
            "...................................................................................................Epoch:    8/8     Loss: 4.585743863185247\n",
            ".............................Saving Model\n",
            "Model Trained and Saved\n"
          ],
          "name": "stdout"
        }
      ]
    },
    {
      "cell_type": "markdown",
      "metadata": {
        "id": "A5JuCnQ3oWc2",
        "colab_type": "text"
      },
      "source": [
        "Increase in sequence length didn't change loss, either the hidden layer nodes or rnn layers are not sufficient.\n",
        "First lets try by increasing rnn layers"
      ]
    },
    {
      "cell_type": "code",
      "metadata": {
        "id": "zAHDAA9an8Kv",
        "colab_type": "code",
        "outputId": "c570170f-a02a-431e-81ef-0ed021ff5104",
        "colab": {
          "base_uri": "https://localhost:8080/",
          "height": 910
        }
      },
      "source": [
        "# updated data params\n",
        "sequence_length = 15  \n",
        "batch_size = 64\n",
        "train_loader = batch_data(int_text, sequence_length, batch_size)\n",
        "num_epochs = 8\n",
        "learning_rate = 0.001\n",
        "vocab_size = len(vocab_to_int)\n",
        "output_size = vocab_size\n",
        "embedding_dim = 512\n",
        "hidden_dim = 256\n",
        "# Number of RNN Layers\n",
        "n_layers = 3\n",
        "# Show stats for every n number of batches\n",
        "show_every_n_batches = 3000\n",
        "\n",
        "rnn = RNN(vocab_size, output_size, embedding_dim, hidden_dim, n_layers, dropout=0.5)\n",
        "if train_on_gpu:\n",
        "    rnn.cuda()\n",
        "\n",
        "optimizer = torch.optim.Adam(rnn.parameters(), lr=learning_rate)\n",
        "criterion = nn.CrossEntropyLoss()\n",
        "\n",
        "# training the model\n",
        "trained_rnn = train_rnn(rnn, batch_size, optimizer, criterion, num_epochs, show_every_n_batches)\n",
        "\n",
        "# saving the trained model\n",
        "helper.save_model('trained_rnn', trained_rnn)\n",
        "print('Model Trained and Saved')"
      ],
      "execution_count": 0,
      "outputs": [
        {
          "output_type": "stream",
          "text": [
            "Training for 8 epoch(s)...\n",
            "...................................................................................................Epoch:    1/8     Loss: 5.100501023610433\n",
            "...................................................................................................Epoch:    1/8     Loss: 4.725719400326411\n",
            "...................................................................................................Epoch:    1/8     Loss: 4.581890850226085\n",
            "...................................................................................................Epoch:    1/8     Loss: 4.579718362569809\n",
            "................................................................"
          ],
          "name": "stdout"
        },
        {
          "output_type": "stream",
          "text": [
            "/usr/local/lib/python3.6/dist-packages/torch/serialization.py:292: UserWarning: Couldn't retrieve source code for container of type RNN. It won't be checked for correctness upon loading.\n",
            "  \"type \" + obj.__name__ + \". It won't be checked \"\n",
            "/usr/local/lib/python3.6/dist-packages/torch/serialization.py:292: UserWarning: Couldn't retrieve source code for container of type Embedding. It won't be checked for correctness upon loading.\n",
            "  \"type \" + obj.__name__ + \". It won't be checked \"\n",
            "/usr/local/lib/python3.6/dist-packages/torch/serialization.py:292: UserWarning: Couldn't retrieve source code for container of type LSTM. It won't be checked for correctness upon loading.\n",
            "  \"type \" + obj.__name__ + \". It won't be checked \"\n",
            "/usr/local/lib/python3.6/dist-packages/torch/serialization.py:292: UserWarning: Couldn't retrieve source code for container of type Linear. It won't be checked for correctness upon loading.\n",
            "  \"type \" + obj.__name__ + \". It won't be checked \"\n",
            "/usr/local/lib/python3.6/dist-packages/torch/serialization.py:292: UserWarning: Couldn't retrieve source code for container of type Dropout. It won't be checked for correctness upon loading.\n",
            "  \"type \" + obj.__name__ + \". It won't be checked \"\n"
          ],
          "name": "stderr"
        },
        {
          "output_type": "stream",
          "text": [
            "Saving Model\n",
            "...................................................................................................Epoch:    2/8     Loss: 4.442984043272365\n",
            "...................................................................................................Epoch:    2/8     Loss: 4.342043511549631\n",
            "...................................................................................................Epoch:    2/8     Loss: 4.303360380331675\n",
            "...................................................................................................Epoch:    2/8     Loss: 4.3478999822934465\n",
            "................................................................Saving Model\n",
            "...................................................................................................Epoch:    3/8     Loss: 4.293691364412319\n",
            "...................................................................................................Epoch:    3/8     Loss: 4.2340818479855855\n",
            "...................................................................................................Epoch:    3/8     Loss: 4.209413541316986\n",
            "...................................................................................................Epoch:    3/8     Loss: 4.256196160634358\n",
            "................................................................Saving Model\n",
            "...................................................................................................Epoch:    4/8     Loss: 4.216170256801249\n",
            "...................................................................................................Epoch:    4/8     Loss: 4.1685366079807284\n",
            "...................................................................................................Epoch:    4/8     Loss: 4.143725227832794\n",
            "...................................................................................................Epoch:    4/8     Loss: 4.202359841108322\n",
            "................................................................Saving Model\n",
            "...................................................................................................Epoch:    5/8     Loss: 4.165855584525057\n",
            "...................................................................................................Epoch:    5/8     Loss: 4.124501311937968\n",
            "...................................................................................................Epoch:    5/8     Loss: 4.103811820586523\n",
            "...................................................................................................Epoch:    5/8     Loss: 4.16197696296374\n",
            "................................................................Saving Model\n",
            "...................................................................................................Epoch:    6/8     Loss: 4.133699727787475\n",
            "...................................................................................................Epoch:    6/8     Loss: 4.090705256064733\n",
            "...................................................................................................Epoch:    6/8     Loss: 4.072863754828771\n",
            "...................................................................................................Epoch:    6/8     Loss: 4.133956224521001\n",
            "................................................................Saving Model\n",
            "...................................................................................................Epoch:    7/8     Loss: 4.10653368878239\n",
            "...................................................................................................Epoch:    7/8     Loss: 4.072712797562281\n",
            "...................................................................................................Epoch:    7/8     Loss: 4.051225921630859\n",
            "...................................................................................................Epoch:    7/8     Loss: 4.109990138530732\n",
            "................................................................Saving Model\n",
            "...................................................................................................Epoch:    8/8     Loss: 4.090511662726366\n",
            "...................................................................................................Epoch:    8/8     Loss: 4.05087754313151\n",
            "...................................................................................................Epoch:    8/8     Loss: 4.035633022864659\n",
            "...................................................................................................Epoch:    8/8     Loss: 4.096979251861573\n",
            "................................................................Saving Model\n",
            "Model Trained and Saved\n"
          ],
          "name": "stdout"
        }
      ]
    },
    {
      "cell_type": "code",
      "metadata": {
        "id": "M7LZ-KIFurIH",
        "colab_type": "code",
        "outputId": "4e35621a-c854-4f51-ac90-a8596e1f769b",
        "colab": {
          "base_uri": "https://localhost:8080/",
          "height": 658
        }
      },
      "source": [
        "\n",
        "trained_rnn = train_rnn(trained_rnn, batch_size, optimizer, criterion, 5, show_every_n_batches)\n",
        "\n",
        "# saving the trained model\n",
        "helper.save_model('trained_rnn', trained_rnn)\n",
        "print('Model Trained and Saved')"
      ],
      "execution_count": 0,
      "outputs": [
        {
          "output_type": "stream",
          "text": [
            "Training for 5 epoch(s)...\n",
            "...................................................................................................Epoch:    1/5     Loss: 4.008808643658956\n",
            "...................................................................................................Epoch:    1/5     Loss: 4.040606661319733\n",
            "...................................................................................................Epoch:    1/5     Loss: 4.020238397598266\n",
            "...................................................................................................Epoch:    1/5     Loss: 4.082639326413473\n",
            "................................................................"
          ],
          "name": "stdout"
        },
        {
          "output_type": "stream",
          "text": [
            "/usr/local/lib/python3.6/dist-packages/torch/serialization.py:292: UserWarning: Couldn't retrieve source code for container of type RNN. It won't be checked for correctness upon loading.\n",
            "  \"type \" + obj.__name__ + \". It won't be checked \"\n",
            "/usr/local/lib/python3.6/dist-packages/torch/serialization.py:292: UserWarning: Couldn't retrieve source code for container of type Embedding. It won't be checked for correctness upon loading.\n",
            "  \"type \" + obj.__name__ + \". It won't be checked \"\n",
            "/usr/local/lib/python3.6/dist-packages/torch/serialization.py:292: UserWarning: Couldn't retrieve source code for container of type LSTM. It won't be checked for correctness upon loading.\n",
            "  \"type \" + obj.__name__ + \". It won't be checked \"\n",
            "/usr/local/lib/python3.6/dist-packages/torch/serialization.py:292: UserWarning: Couldn't retrieve source code for container of type Linear. It won't be checked for correctness upon loading.\n",
            "  \"type \" + obj.__name__ + \". It won't be checked \"\n",
            "/usr/local/lib/python3.6/dist-packages/torch/serialization.py:292: UserWarning: Couldn't retrieve source code for container of type Dropout. It won't be checked for correctness upon loading.\n",
            "  \"type \" + obj.__name__ + \". It won't be checked \"\n"
          ],
          "name": "stderr"
        },
        {
          "output_type": "stream",
          "text": [
            "Saving Model\n",
            "...................................................................................................Epoch:    2/5     Loss: 4.062611625521904\n",
            "...................................................................................................Epoch:    2/5     Loss: 4.026703649282456\n",
            "...................................................................................................Epoch:    2/5     Loss: 4.008665522813797\n",
            "...................................................................................................Epoch:    2/5     Loss: 4.071295589844386\n",
            "................................................................Saving Model\n",
            "...................................................................................................Epoch:    3/5     Loss: 4.049887395450682\n",
            "...................................................................................................Epoch:    3/5     Loss: 4.023295912663142\n",
            "...................................................................................................Epoch:    3/5     Loss: 3.9970889687538147\n",
            "...................................................................................................Epoch:    3/5     Loss: 4.056970939397812\n",
            "................................................................Saving Model\n",
            "...................................................................................................Epoch:    4/5     Loss: 4.0410690259576185\n",
            "...................................................................................................Epoch:    4/5     Loss: 4.0137170465787255\n",
            "...................................................................................................Epoch:    4/5     Loss: 3.9905631854534147\n",
            "...................................................................................................Epoch:    4/5     Loss: 4.0513610985279085\n",
            "................................................................Saving Model\n",
            "...................................................................................................Epoch:    5/5     Loss: 4.033147723122423\n",
            "...................................................................................................Epoch:    5/5     Loss: 4.008222542842229\n",
            "...................................................................................................Epoch:    5/5     Loss: 3.9822111449241637\n",
            "...................................................................................................Epoch:    5/5     Loss: 4.0454377237955725\n",
            "................................................................Saving Model\n",
            "Model Trained and Saved\n"
          ],
          "name": "stdout"
        }
      ]
    },
    {
      "cell_type": "code",
      "metadata": {
        "colab_type": "code",
        "outputId": "37169d3e-1a65-4fda-8d64-c41c6e4316af",
        "id": "84Jzi2YNy5Tx",
        "colab": {
          "base_uri": "https://localhost:8080/",
          "height": 776
        }
      },
      "source": [
        "# updated data params\n",
        "sequence_length = 15  \n",
        "batch_size = 80\n",
        "train_loader = batch_data(int_text, sequence_length, batch_size)\n",
        "num_epochs = 8\n",
        "learning_rate = 0.001\n",
        "vocab_size = len(vocab_to_int)\n",
        "output_size = vocab_size\n",
        "embedding_dim = 512\n",
        "hidden_dim = 400\n",
        "# Number of RNN Layers\n",
        "n_layers = 3\n",
        "# Show stats for every n number of batches\n",
        "show_every_n_batches = 3000\n",
        "\n",
        "rnn = RNN(vocab_size, output_size, embedding_dim, hidden_dim, n_layers, dropout=0.5)\n",
        "if train_on_gpu:\n",
        "    rnn.cuda()\n",
        "\n",
        "optimizer = torch.optim.Adam(rnn.parameters(), lr=learning_rate)\n",
        "criterion = nn.CrossEntropyLoss()\n",
        "\n",
        "# training the model\n",
        "trained_rnn = train_rnn(rnn, batch_size, optimizer, criterion, num_epochs, show_every_n_batches)\n",
        "\n",
        "# saving the trained model\n",
        "helper.save_model('trained_rnn', trained_rnn)\n",
        "print('Model Trained and Saved')"
      ],
      "execution_count": 0,
      "outputs": [
        {
          "output_type": "stream",
          "text": [
            "Training for 8 epoch(s)...\n",
            "...................................................................................................Epoch:    1/8     Loss: 5.067484026193619\n",
            "...................................................................................................Epoch:    1/8     Loss: 4.696484481573105\n",
            "...................................................................................................Epoch:    1/8     Loss: 4.508959815422694\n",
            "......................................................................."
          ],
          "name": "stdout"
        },
        {
          "output_type": "stream",
          "text": [
            "/usr/local/lib/python3.6/dist-packages/torch/serialization.py:292: UserWarning: Couldn't retrieve source code for container of type RNN. It won't be checked for correctness upon loading.\n",
            "  \"type \" + obj.__name__ + \". It won't be checked \"\n",
            "/usr/local/lib/python3.6/dist-packages/torch/serialization.py:292: UserWarning: Couldn't retrieve source code for container of type Embedding. It won't be checked for correctness upon loading.\n",
            "  \"type \" + obj.__name__ + \". It won't be checked \"\n",
            "/usr/local/lib/python3.6/dist-packages/torch/serialization.py:292: UserWarning: Couldn't retrieve source code for container of type LSTM. It won't be checked for correctness upon loading.\n",
            "  \"type \" + obj.__name__ + \". It won't be checked \"\n",
            "/usr/local/lib/python3.6/dist-packages/torch/serialization.py:292: UserWarning: Couldn't retrieve source code for container of type Linear. It won't be checked for correctness upon loading.\n",
            "  \"type \" + obj.__name__ + \". It won't be checked \"\n",
            "/usr/local/lib/python3.6/dist-packages/torch/serialization.py:292: UserWarning: Couldn't retrieve source code for container of type Dropout. It won't be checked for correctness upon loading.\n",
            "  \"type \" + obj.__name__ + \". It won't be checked \"\n"
          ],
          "name": "stderr"
        },
        {
          "output_type": "stream",
          "text": [
            "Saving Model\n",
            "...................................................................................................Epoch:    2/8     Loss: 4.377766033117805\n",
            "...................................................................................................Epoch:    2/8     Loss: 4.290310417572657\n",
            "...................................................................................................Epoch:    2/8     Loss: 4.213046968619029\n",
            ".......................................................................Saving Model\n",
            "...................................................................................................Epoch:    3/8     Loss: 4.191427803854182\n",
            "...................................................................................................Epoch:    3/8     Loss: 4.160924677769343\n",
            "...................................................................................................Epoch:    3/8     Loss: 4.103096335570018\n",
            ".......................................................................Saving Model\n",
            "...................................................................................................Epoch:    4/8     Loss: 4.103844206348435\n",
            "...................................................................................................Epoch:    4/8     Loss: 4.085123497009278\n",
            "...................................................................................................Epoch:    4/8     Loss: 4.030310912132263\n",
            ".......................................................................Saving Model\n",
            "...................................................................................................Epoch:    5/8     Loss: 4.042830690507217\n",
            "...................................................................................................Epoch:    5/8     Loss: 4.0343576542536415\n",
            "...................................................................................................Epoch:    5/8     Loss: 3.980473141590754\n",
            ".......................................................................Saving Model\n",
            "...................................................................................................Epoch:    6/8     Loss: 3.9993514523555227\n",
            "...................................................................................................Epoch:    6/8     Loss: 3.997340147892634\n",
            "...................................................................................................Epoch:    6/8     Loss: 3.942892711957296\n",
            ".......................................................................Saving Model\n",
            "...................................................................................................Epoch:    7/8     Loss: 3.9642855529992516\n",
            "...................................................................................................Epoch:    7/8     Loss: 3.964812120993932\n",
            "...................................................................................................Epoch:    7/8     Loss: 3.9151516409715015\n",
            ".......................................................................Saving Model\n",
            "...................................................................................................Epoch:    8/8     Loss: 3.938674187757418\n",
            "...................................................................................................Epoch:    8/8     Loss: 3.9409782156944275\n",
            "...................................................................................................Epoch:    8/8     Loss: 3.891027183850606\n",
            ".......................................................................Saving Model\n",
            "Model Trained and Saved\n"
          ],
          "name": "stdout"
        }
      ]
    },
    {
      "cell_type": "code",
      "metadata": {
        "id": "pWkn681v9YYO",
        "colab_type": "code",
        "outputId": "b1ac32bd-b50d-497f-eaae-4c0bc524c7e7",
        "colab": {
          "base_uri": "https://localhost:8080/",
          "height": 843
        }
      },
      "source": [
        "# updated data params\n",
        "sequence_length = 12\n",
        "batch_size = 124\n",
        "train_loader = batch_data(int_text, sequence_length, batch_size)\n",
        "num_epochs = 12\n",
        "learning_rate = 0.001\n",
        "vocab_size = len(vocab_to_int)\n",
        "output_size = vocab_size\n",
        "embedding_dim = 512\n",
        "hidden_dim = 500\n",
        "# Number of RNN Layers\n",
        "n_layers = 3\n",
        "# Show stats for every n number of batches\n",
        "show_every_n_batches = 3000\n",
        "\n",
        "rnn = RNN(vocab_size, output_size, embedding_dim, hidden_dim, n_layers, dropout=0.5)\n",
        "if train_on_gpu:\n",
        "    rnn.cuda()\n",
        "\n",
        "optimizer = torch.optim.Adam(rnn.parameters(), lr=learning_rate)\n",
        "criterion = nn.CrossEntropyLoss()\n",
        "\n",
        "# training the model\n",
        "trained_rnn = train_rnn(rnn, batch_size, optimizer, criterion, num_epochs, show_every_n_batches)\n",
        "\n",
        "# saving the trained model\n",
        "helper.save_model('trained_rnn', trained_rnn)\n",
        "print('Model Trained and Saved')"
      ],
      "execution_count": 0,
      "outputs": [
        {
          "output_type": "stream",
          "text": [
            "Training for 12 epoch(s)...\n",
            "...................................................................................................Epoch:    1/12    Loss: 5.0700909598668416\n",
            "...................................................................................................Epoch:    1/12    Loss: 4.5698954713344575\n",
            "......................................."
          ],
          "name": "stdout"
        },
        {
          "output_type": "stream",
          "text": [
            "/usr/local/lib/python3.6/dist-packages/torch/serialization.py:292: UserWarning: Couldn't retrieve source code for container of type RNN. It won't be checked for correctness upon loading.\n",
            "  \"type \" + obj.__name__ + \". It won't be checked \"\n",
            "/usr/local/lib/python3.6/dist-packages/torch/serialization.py:292: UserWarning: Couldn't retrieve source code for container of type Embedding. It won't be checked for correctness upon loading.\n",
            "  \"type \" + obj.__name__ + \". It won't be checked \"\n",
            "/usr/local/lib/python3.6/dist-packages/torch/serialization.py:292: UserWarning: Couldn't retrieve source code for container of type LSTM. It won't be checked for correctness upon loading.\n",
            "  \"type \" + obj.__name__ + \". It won't be checked \"\n",
            "/usr/local/lib/python3.6/dist-packages/torch/serialization.py:292: UserWarning: Couldn't retrieve source code for container of type Linear. It won't be checked for correctness upon loading.\n",
            "  \"type \" + obj.__name__ + \". It won't be checked \"\n",
            "/usr/local/lib/python3.6/dist-packages/torch/serialization.py:292: UserWarning: Couldn't retrieve source code for container of type Dropout. It won't be checked for correctness upon loading.\n",
            "  \"type \" + obj.__name__ + \". It won't be checked \"\n"
          ],
          "name": "stderr"
        },
        {
          "output_type": "stream",
          "text": [
            "Saving Model\n",
            "...................................................................................................Epoch:    2/12    Loss: 4.320598203793673\n",
            "...................................................................................................Epoch:    2/12    Loss: 4.199161812782288\n",
            ".......................................Saving Model\n",
            "...................................................................................................Epoch:    3/12    Loss: 4.113447501878825\n",
            "...................................................................................................Epoch:    3/12    Loss: 4.053100499073665\n",
            ".......................................Saving Model\n",
            "...................................................................................................Epoch:    4/12    Loss: 4.000639025574931\n",
            "...................................................................................................Epoch:    4/12    Loss: 3.964353135347366\n",
            ".......................................Saving Model\n",
            "...................................................................................................Epoch:    5/12    Loss: 3.9302994240222797\n",
            "...................................................................................................Epoch:    5/12    Loss: 3.902921153306961\n",
            ".......................................Saving Model\n",
            "...................................................................................................Epoch:    6/12    Loss: 3.880426925764689\n",
            "...................................................................................................Epoch:    6/12    Loss: 3.8574533853530886\n",
            ".......................................Saving Model\n",
            "...................................................................................................Epoch:    7/12    Loss: 3.841111923492006\n",
            "...................................................................................................Epoch:    7/12    Loss: 3.821400324265162\n",
            ".......................................Saving Model\n",
            "...................................................................................................Epoch:    8/12    Loss: 3.8102711138977683\n",
            "...................................................................................................Epoch:    8/12    Loss: 3.7908177619775136\n",
            ".......................................Saving Model\n",
            "...................................................................................................Epoch:    9/12    Loss: 3.7831956801325806\n",
            "...................................................................................................Epoch:    9/12    Loss: 3.763442350387573\n",
            ".......................................Saving Model\n",
            "...................................................................................................Epoch:   10/12    Loss: 3.7590570581146916\n",
            "...................................................................................................Epoch:   10/12    Loss: 3.7377049210071562\n",
            ".......................................Saving Model\n",
            "...................................................................................................Epoch:   11/12    Loss: 3.7371544936866377\n",
            "...................................................................................................Epoch:   11/12    Loss: 3.717757581790288\n",
            ".......................................Saving Model\n",
            "...................................................................................................Epoch:   12/12    Loss: 3.7199880595882564\n",
            "...................................................................................................Epoch:   12/12    Loss: 3.698683031241099\n",
            ".......................................Saving Model\n",
            "Model Trained and Saved\n"
          ],
          "name": "stdout"
        }
      ]
    },
    {
      "cell_type": "code",
      "metadata": {
        "id": "-UztwjYQ-I1N",
        "colab_type": "code",
        "outputId": "e4f61dc0-5357-46ac-a2f5-6f7efe2dba17",
        "colab": {
          "base_uri": "https://localhost:8080/",
          "height": 843
        }
      },
      "source": [
        "# updated data params\n",
        "sequence_length = 12\n",
        "batch_size = 256\n",
        "train_loader = batch_data(int_text, sequence_length, batch_size)\n",
        "num_epochs = 12\n",
        "learning_rate = 0.001\n",
        "vocab_size = len(vocab_to_int)\n",
        "output_size = vocab_size\n",
        "embedding_dim = 512\n",
        "hidden_dim = 800\n",
        "# Number of RNN Layers\n",
        "n_layers = 3\n",
        "# Show stats for every n number of batches\n",
        "show_every_n_batches = 1500\n",
        "\n",
        "rnn = RNN(vocab_size, output_size, embedding_dim, hidden_dim, n_layers, dropout=0.5)\n",
        "if train_on_gpu:\n",
        "    rnn.cuda()\n",
        "\n",
        "optimizer = torch.optim.Adam(rnn.parameters(), lr=learning_rate)\n",
        "criterion = nn.CrossEntropyLoss()\n",
        "\n",
        "# training the model\n",
        "trained_rnn = train_rnn(rnn, batch_size, optimizer, criterion, num_epochs, show_every_n_batches)\n",
        "\n",
        "# saving the trained model\n",
        "helper.save_model('trained_rnn', trained_rnn)\n",
        "print('Model Trained and Saved')\n",
        "torch.save(trained_rnn, '/content/drive/My Drive/training_rnn-3-12-512-800.pt')"
      ],
      "execution_count": 0,
      "outputs": [
        {
          "output_type": "stream",
          "text": [
            "Training for 12 epoch(s)...\n",
            ".................................................Epoch:    1/12    Loss: 6.046411157290141\n",
            ".................................................Epoch:    1/12    Loss: 6.398836844762166\n",
            "................"
          ],
          "name": "stdout"
        },
        {
          "output_type": "stream",
          "text": [
            "/usr/local/lib/python3.6/dist-packages/torch/serialization.py:292: UserWarning: Couldn't retrieve source code for container of type RNN. It won't be checked for correctness upon loading.\n",
            "  \"type \" + obj.__name__ + \". It won't be checked \"\n",
            "/usr/local/lib/python3.6/dist-packages/torch/serialization.py:292: UserWarning: Couldn't retrieve source code for container of type Embedding. It won't be checked for correctness upon loading.\n",
            "  \"type \" + obj.__name__ + \". It won't be checked \"\n",
            "/usr/local/lib/python3.6/dist-packages/torch/serialization.py:292: UserWarning: Couldn't retrieve source code for container of type LSTM. It won't be checked for correctness upon loading.\n",
            "  \"type \" + obj.__name__ + \". It won't be checked \"\n",
            "/usr/local/lib/python3.6/dist-packages/torch/serialization.py:292: UserWarning: Couldn't retrieve source code for container of type Linear. It won't be checked for correctness upon loading.\n",
            "  \"type \" + obj.__name__ + \". It won't be checked \"\n",
            "/usr/local/lib/python3.6/dist-packages/torch/serialization.py:292: UserWarning: Couldn't retrieve source code for container of type Dropout. It won't be checked for correctness upon loading.\n",
            "  \"type \" + obj.__name__ + \". It won't be checked \"\n"
          ],
          "name": "stderr"
        },
        {
          "output_type": "stream",
          "text": [
            "Saving Model\n",
            ".................................................Epoch:    2/12    Loss: 6.4470213327196335\n",
            ".................................................Epoch:    2/12    Loss: 6.510983263015747\n",
            "................Saving Model\n",
            ".................................................Epoch:    3/12    Loss: 5.2809932224692835\n",
            ".................................................Epoch:    3/12    Loss: 4.836697589874268\n",
            "................Saving Model\n",
            ".................................................Epoch:    4/12    Loss: 4.539204577284474\n",
            ".................................................Epoch:    4/12    Loss: 4.398630728085836\n",
            "................Saving Model\n",
            ".................................................Epoch:    5/12    Loss: 4.227439351259701\n",
            ".................................................Epoch:    5/12    Loss: 4.151746713002523\n",
            "................Saving Model\n",
            ".................................................Epoch:    6/12    Loss: 4.041730645803675\n",
            ".................................................Epoch:    6/12    Loss: 3.9960935196876526\n",
            "................Saving Model\n",
            ".................................................Epoch:    7/12    Loss: 3.9112213618091998\n",
            ".................................................Epoch:    7/12    Loss: 3.8764020166397093\n",
            "................Saving Model\n",
            ".................................................Epoch:    8/12    Loss: 3.8094618440635744\n",
            ".................................................Epoch:    8/12    Loss: 3.7832754243214923\n",
            "................Saving Model\n",
            ".................................................Epoch:    9/12    Loss: 3.7274543686259176\n",
            ".................................................Epoch:    9/12    Loss: 3.70337814617157\n",
            "................Saving Model\n",
            ".................................................Epoch:   10/12    Loss: 3.6574740891735398\n",
            ".................................................Epoch:   10/12    Loss: 3.6394238057136534\n",
            "................Saving Model\n",
            ".................................................Epoch:   11/12    Loss: 3.5978799433477464\n",
            ".................................................Epoch:   11/12    Loss: 3.5827909526824953\n",
            "................Saving Model\n",
            ".................................................Epoch:   12/12    Loss: 3.5460238490373857\n",
            ".................................................Epoch:   12/12    Loss: 3.531618885040283\n",
            "................Saving Model\n",
            "Model Trained and Saved\n"
          ],
          "name": "stdout"
        }
      ]
    },
    {
      "cell_type": "code",
      "metadata": {
        "id": "w2Tvg_uc-fXw",
        "colab_type": "code",
        "outputId": "539bec89-5871-4532-a38b-dbd68e6d9858",
        "colab": {
          "base_uri": "https://localhost:8080/",
          "height": 642
        }
      },
      "source": [
        "# updated data params\n",
        "sequence_length = 12\n",
        "batch_size = 256\n",
        "train_loader = batch_data(int_text, sequence_length, batch_size)\n",
        "num_epochs = 12\n",
        "learning_rate = 0.001\n",
        "vocab_size = len(vocab_to_int)\n",
        "output_size = vocab_size\n",
        "embedding_dim = 512\n",
        "hidden_dim = 500\n",
        "# Number of RNN Layers\n",
        "n_layers = 2\n",
        "# Show stats for every n number of batches\n",
        "show_every_n_batches = 3000\n",
        "\n",
        "rnn = RNN(vocab_size, output_size, embedding_dim, hidden_dim, n_layers, dropout=0.5)\n",
        "if train_on_gpu:\n",
        "    rnn.cuda()\n",
        "\n",
        "optimizer = torch.optim.Adam(rnn.parameters(), lr=learning_rate)\n",
        "criterion = nn.CrossEntropyLoss()\n",
        "\n",
        "# training the model\n",
        "trained_rnn = train_rnn(rnn, batch_size, optimizer, criterion, num_epochs, show_every_n_batches)\n",
        "\n",
        "# saving the trained model\n",
        "helper.save_model('trained_rnn', trained_rnn)\n",
        "print('Model Trained and Saved')\n",
        "torch.save(trained_rnn, '/content/drive/My Drive/training_rnn-2-12-512-500.pt')"
      ],
      "execution_count": 17,
      "outputs": [
        {
          "output_type": "stream",
          "text": [
            "Training for 12 epoch(s)...\n",
            "...................................................................................................Epoch:    1/12    Loss: 4.553756914774577\n",
            "................"
          ],
          "name": "stdout"
        },
        {
          "output_type": "stream",
          "text": [
            "/usr/local/lib/python3.6/dist-packages/torch/serialization.py:292: UserWarning: Couldn't retrieve source code for container of type RNN. It won't be checked for correctness upon loading.\n",
            "  \"type \" + obj.__name__ + \". It won't be checked \"\n",
            "/usr/local/lib/python3.6/dist-packages/torch/serialization.py:292: UserWarning: Couldn't retrieve source code for container of type Embedding. It won't be checked for correctness upon loading.\n",
            "  \"type \" + obj.__name__ + \". It won't be checked \"\n",
            "/usr/local/lib/python3.6/dist-packages/torch/serialization.py:292: UserWarning: Couldn't retrieve source code for container of type LSTM. It won't be checked for correctness upon loading.\n",
            "  \"type \" + obj.__name__ + \". It won't be checked \"\n",
            "/usr/local/lib/python3.6/dist-packages/torch/serialization.py:292: UserWarning: Couldn't retrieve source code for container of type Linear. It won't be checked for correctness upon loading.\n",
            "  \"type \" + obj.__name__ + \". It won't be checked \"\n",
            "/usr/local/lib/python3.6/dist-packages/torch/serialization.py:292: UserWarning: Couldn't retrieve source code for container of type Dropout. It won't be checked for correctness upon loading.\n",
            "  \"type \" + obj.__name__ + \". It won't be checked \"\n"
          ],
          "name": "stderr"
        },
        {
          "output_type": "stream",
          "text": [
            "Saving Model\n",
            "...................................................................................................Epoch:    2/12    Loss: 4.1132592038774325\n",
            "................Saving Model\n",
            "...................................................................................................Epoch:    3/12    Loss: 3.953348437694129\n",
            "................Saving Model\n",
            "...................................................................................................Epoch:    4/12    Loss: 3.8580819735844565\n",
            "................Saving Model\n",
            "...................................................................................................Epoch:    5/12    Loss: 3.7852607585669387\n",
            "................Saving Model\n",
            "...................................................................................................Epoch:    6/12    Loss: 3.7312131342740065\n",
            "................Saving Model\n",
            "...................................................................................................Epoch:    7/12    Loss: 3.6843186798243517\n",
            "................Saving Model\n",
            "...................................................................................................Epoch:    8/12    Loss: 3.641842414467808\n",
            "................Saving Model\n",
            "...................................................................................................Epoch:    9/12    Loss: 3.6085658556558236\n",
            "................Saving Model\n",
            "...................................................................................................Epoch:   10/12    Loss: 3.5847382429820387\n",
            "................Saving Model\n",
            "...................................................................................................Epoch:   11/12    Loss: 3.551976253463535\n",
            "................Saving Model\n",
            "...................................................................................................Epoch:   12/12    Loss: 3.531222508709138\n",
            "................Saving Model\n",
            "Model Trained and Saved\n"
          ],
          "name": "stdout"
        }
      ]
    },
    {
      "cell_type": "code",
      "metadata": {
        "id": "rF0suTCS_AiS",
        "colab_type": "code",
        "colab": {
          "base_uri": "https://localhost:8080/",
          "height": 642
        },
        "outputId": "b1bed755-b620-4684-fed3-3916d737bcd3"
      },
      "source": [
        "# updated data params\n",
        "sequence_length = 12\n",
        "batch_size = 256\n",
        "train_loader = batch_data(int_text, sequence_length, batch_size)\n",
        "num_epochs = 12\n",
        "learning_rate = 0.001\n",
        "vocab_size = len(vocab_to_int)\n",
        "output_size = vocab_size\n",
        "embedding_dim = 512\n",
        "hidden_dim = 800\n",
        "# Number of RNN Layers\n",
        "n_layers = 2\n",
        "# Show stats for every n number of batches\n",
        "show_every_n_batches = 3000\n",
        "\n",
        "rnn = RNN(vocab_size, output_size, embedding_dim, hidden_dim, n_layers, dropout=0.5)\n",
        "if train_on_gpu:\n",
        "    rnn.cuda()\n",
        "\n",
        "optimizer = torch.optim.Adam(rnn.parameters(), lr=learning_rate)\n",
        "criterion = nn.CrossEntropyLoss()\n",
        "\n",
        "# training the model\n",
        "trained_rnn = train_rnn(rnn, batch_size, optimizer, criterion, num_epochs, show_every_n_batches)\n",
        "\n",
        "# saving the trained model\n",
        "helper.save_model('trained_rnn', trained_rnn)\n",
        "print('Model Trained and Saved')\n",
        "torch.save(trained_rnn, '/content/drive/My Drive/training_rnn-2-12-512-800.pt')"
      ],
      "execution_count": 18,
      "outputs": [
        {
          "output_type": "stream",
          "text": [
            "Training for 12 epoch(s)...\n",
            "...................................................................................................Epoch:    1/12    Loss: 4.4899439829190575\n",
            "................"
          ],
          "name": "stdout"
        },
        {
          "output_type": "stream",
          "text": [
            "/usr/local/lib/python3.6/dist-packages/torch/serialization.py:292: UserWarning: Couldn't retrieve source code for container of type RNN. It won't be checked for correctness upon loading.\n",
            "  \"type \" + obj.__name__ + \". It won't be checked \"\n",
            "/usr/local/lib/python3.6/dist-packages/torch/serialization.py:292: UserWarning: Couldn't retrieve source code for container of type Embedding. It won't be checked for correctness upon loading.\n",
            "  \"type \" + obj.__name__ + \". It won't be checked \"\n",
            "/usr/local/lib/python3.6/dist-packages/torch/serialization.py:292: UserWarning: Couldn't retrieve source code for container of type LSTM. It won't be checked for correctness upon loading.\n",
            "  \"type \" + obj.__name__ + \". It won't be checked \"\n",
            "/usr/local/lib/python3.6/dist-packages/torch/serialization.py:292: UserWarning: Couldn't retrieve source code for container of type Linear. It won't be checked for correctness upon loading.\n",
            "  \"type \" + obj.__name__ + \". It won't be checked \"\n",
            "/usr/local/lib/python3.6/dist-packages/torch/serialization.py:292: UserWarning: Couldn't retrieve source code for container of type Dropout. It won't be checked for correctness upon loading.\n",
            "  \"type \" + obj.__name__ + \". It won't be checked \"\n"
          ],
          "name": "stderr"
        },
        {
          "output_type": "stream",
          "text": [
            "Saving Model\n",
            "...................................................................................................Epoch:    2/12    Loss: 4.0588627273535485\n",
            "................Saving Model\n",
            "...................................................................................................Epoch:    3/12    Loss: 3.8987805044746837\n",
            "................Saving Model\n",
            "...................................................................................................Epoch:    4/12    Loss: 3.789687559128355\n",
            "................Saving Model\n",
            "...................................................................................................Epoch:    5/12    Loss: 3.7084329167956187\n",
            "................Saving Model\n",
            "...................................................................................................Epoch:    6/12    Loss: 3.63974576545227\n",
            "................Saving Model\n",
            "...................................................................................................Epoch:    7/12    Loss: 3.58985979281939\n",
            "................Saving Model\n",
            "...................................................................................................Epoch:    8/12    Loss: 3.5377020317158663\n",
            "................Saving Model\n",
            "...................................................................................................Epoch:    9/12    Loss: 3.4982547101689807\n",
            "................Saving Model\n",
            "...................................................................................................Epoch:   10/12    Loss: 3.461580634938316\n",
            "................Saving Model\n",
            "...................................................................................................Epoch:   11/12    Loss: 3.4264378675637097\n",
            "................Saving Model\n",
            "...................................................................................................Epoch:   12/12    Loss: 3.3974345160132846\n",
            "................Saving Model\n",
            "Model Trained and Saved\n"
          ],
          "name": "stdout"
        }
      ]
    },
    {
      "cell_type": "code",
      "metadata": {
        "colab_type": "code",
        "id": "txU-NokYc9uR",
        "colab": {
          "base_uri": "https://localhost:8080/",
          "height": 642
        },
        "outputId": "1bffd33e-4f0f-4636-adfe-2d12b43ca993"
      },
      "source": [
        "# updated data params\n",
        "sequence_length = 12\n",
        "batch_size = 256\n",
        "train_loader = batch_data(int_text, sequence_length, batch_size)\n",
        "num_epochs = 12\n",
        "learning_rate = 0.001\n",
        "vocab_size = len(vocab_to_int)\n",
        "output_size = vocab_size\n",
        "embedding_dim = 512\n",
        "hidden_dim = 1024\n",
        "# Number of RNN Layers\n",
        "n_layers = 2\n",
        "# Show stats for every n number of batches\n",
        "show_every_n_batches = 3000\n",
        "\n",
        "rnn = RNN(vocab_size, output_size, embedding_dim, hidden_dim, n_layers, dropout=0.5)\n",
        "if train_on_gpu:\n",
        "    rnn.cuda()\n",
        "\n",
        "optimizer = torch.optim.Adam(rnn.parameters(), lr=learning_rate)\n",
        "criterion = nn.CrossEntropyLoss()\n",
        "\n",
        "# training the model\n",
        "trained_rnn = train_rnn(rnn, batch_size, optimizer, criterion, num_epochs, show_every_n_batches)\n",
        "\n",
        "# saving the trained model\n",
        "helper.save_model('trained_rnn', trained_rnn)\n",
        "print('Model Trained and Saved')\n",
        "torch.save(trained_rnn, '/content/drive/My Drive/training_rnn-2-12-512-1024.pt')"
      ],
      "execution_count": 19,
      "outputs": [
        {
          "output_type": "stream",
          "text": [
            "Training for 12 epoch(s)...\n",
            "...................................................................................................Epoch:    1/12    Loss: 4.433954535166422\n",
            "................"
          ],
          "name": "stdout"
        },
        {
          "output_type": "stream",
          "text": [
            "/usr/local/lib/python3.6/dist-packages/torch/serialization.py:292: UserWarning: Couldn't retrieve source code for container of type RNN. It won't be checked for correctness upon loading.\n",
            "  \"type \" + obj.__name__ + \". It won't be checked \"\n",
            "/usr/local/lib/python3.6/dist-packages/torch/serialization.py:292: UserWarning: Couldn't retrieve source code for container of type Embedding. It won't be checked for correctness upon loading.\n",
            "  \"type \" + obj.__name__ + \". It won't be checked \"\n",
            "/usr/local/lib/python3.6/dist-packages/torch/serialization.py:292: UserWarning: Couldn't retrieve source code for container of type LSTM. It won't be checked for correctness upon loading.\n",
            "  \"type \" + obj.__name__ + \". It won't be checked \"\n",
            "/usr/local/lib/python3.6/dist-packages/torch/serialization.py:292: UserWarning: Couldn't retrieve source code for container of type Linear. It won't be checked for correctness upon loading.\n",
            "  \"type \" + obj.__name__ + \". It won't be checked \"\n",
            "/usr/local/lib/python3.6/dist-packages/torch/serialization.py:292: UserWarning: Couldn't retrieve source code for container of type Dropout. It won't be checked for correctness upon loading.\n",
            "  \"type \" + obj.__name__ + \". It won't be checked \"\n"
          ],
          "name": "stderr"
        },
        {
          "output_type": "stream",
          "text": [
            "Saving Model\n",
            "...................................................................................................Epoch:    2/12    Loss: 4.01950337938819\n",
            "................Saving Model\n",
            "...................................................................................................Epoch:    3/12    Loss: 3.860781977904787\n",
            "................Saving Model\n",
            "...................................................................................................Epoch:    4/12    Loss: 3.748009020233811\n",
            "................Saving Model\n",
            "...................................................................................................Epoch:    5/12    Loss: 3.6519015258954397\n",
            "................Saving Model\n",
            "...................................................................................................Epoch:    6/12    Loss: 3.5879200211759277\n",
            "................Saving Model\n",
            "...................................................................................................Epoch:    7/12    Loss: 3.5216746014103415\n",
            "................Saving Model\n",
            "...................................................................................................Epoch:    8/12    Loss: 3.4737723441676898\n",
            "................Saving Model\n",
            "...................................................................................................Epoch:    9/12    Loss: 3.4258793589715704\n",
            "................Saving Model\n",
            "...................................................................................................Epoch:   10/12    Loss: 3.3831778484151775\n",
            "................Saving Model\n",
            "...................................................................................................Epoch:   11/12    Loss: 3.3445313161604715\n",
            "................Saving Model\n",
            "...................................................................................................Epoch:   12/12    Loss: 3.309426665237659\n",
            "................Saving Model\n",
            "Model Trained and Saved\n"
          ],
          "name": "stdout"
        }
      ]
    },
    {
      "cell_type": "code",
      "metadata": {
        "id": "lF9MaU8KjPxq",
        "colab_type": "code",
        "colab": {
          "base_uri": "https://localhost:8080/",
          "height": 642
        },
        "outputId": "2e8eb7c8-df07-4781-db83-50cd502581ae"
      },
      "source": [
        "# updated data params\n",
        "sequence_length = 12\n",
        "batch_size = 256\n",
        "train_loader = batch_data(int_text, sequence_length, batch_size)\n",
        "num_epochs = 12\n",
        "learning_rate = 0.001\n",
        "vocab_size = len(vocab_to_int)\n",
        "output_size = vocab_size\n",
        "embedding_dim = 512\n",
        "hidden_dim = 1024\n",
        "# Number of RNN Layers\n",
        "n_layers = 3\n",
        "# Show stats for every n number of batches\n",
        "show_every_n_batches = 2000\n",
        "\n",
        "rnn = RNN(vocab_size, output_size, embedding_dim, hidden_dim, n_layers, dropout=0.5)\n",
        "if train_on_gpu:\n",
        "    rnn.cuda()\n",
        "\n",
        "optimizer = torch.optim.Adam(rnn.parameters(), lr=learning_rate)\n",
        "criterion = nn.CrossEntropyLoss()\n",
        "\n",
        "# training the model\n",
        "trained_rnn = train_rnn(rnn, batch_size, optimizer, criterion, num_epochs, show_every_n_batches)\n",
        "\n",
        "# saving the trained model\n",
        "helper.save_model('trained_rnn', trained_rnn)\n",
        "print('Model Trained and Saved')\n",
        "torch.save(trained_rnn, '/content/drive/My Drive/training_rnn-3-12-512-1024.pt')"
      ],
      "execution_count": 20,
      "outputs": [
        {
          "output_type": "stream",
          "text": [
            "Training for 12 epoch(s)...\n",
            "..................................................................Epoch:    1/12    Loss: 4.891534395337104\n",
            ".................................................."
          ],
          "name": "stdout"
        },
        {
          "output_type": "stream",
          "text": [
            "/usr/local/lib/python3.6/dist-packages/torch/serialization.py:292: UserWarning: Couldn't retrieve source code for container of type RNN. It won't be checked for correctness upon loading.\n",
            "  \"type \" + obj.__name__ + \". It won't be checked \"\n",
            "/usr/local/lib/python3.6/dist-packages/torch/serialization.py:292: UserWarning: Couldn't retrieve source code for container of type Embedding. It won't be checked for correctness upon loading.\n",
            "  \"type \" + obj.__name__ + \". It won't be checked \"\n",
            "/usr/local/lib/python3.6/dist-packages/torch/serialization.py:292: UserWarning: Couldn't retrieve source code for container of type LSTM. It won't be checked for correctness upon loading.\n",
            "  \"type \" + obj.__name__ + \". It won't be checked \"\n",
            "/usr/local/lib/python3.6/dist-packages/torch/serialization.py:292: UserWarning: Couldn't retrieve source code for container of type Linear. It won't be checked for correctness upon loading.\n",
            "  \"type \" + obj.__name__ + \". It won't be checked \"\n",
            "/usr/local/lib/python3.6/dist-packages/torch/serialization.py:292: UserWarning: Couldn't retrieve source code for container of type Dropout. It won't be checked for correctness upon loading.\n",
            "  \"type \" + obj.__name__ + \". It won't be checked \"\n"
          ],
          "name": "stderr"
        },
        {
          "output_type": "stream",
          "text": [
            "Saving Model\n",
            "..................................................................Epoch:    2/12    Loss: 4.278440589061698\n",
            "..................................................Saving Model\n",
            "..................................................................Epoch:    3/12    Loss: 4.037532839586212\n",
            "..................................................Saving Model\n",
            "..................................................................Epoch:    4/12    Loss: 3.8997302398889677\n",
            "..................................................Saving Model\n",
            "..................................................................Epoch:    5/12    Loss: 3.7936992864931764\n",
            "..................................................Saving Model\n",
            "..................................................................Epoch:    6/12    Loss: 3.716214475552332\n",
            "..................................................Saving Model\n",
            "..................................................................Epoch:    7/12    Loss: 3.6416462509284475\n",
            "..................................................Saving Model\n",
            "..................................................................Epoch:    8/12    Loss: 3.5886864289898\n",
            "..................................................Saving Model\n",
            "..................................................................Epoch:    9/12    Loss: 3.526588176339694\n",
            "..................................................Saving Model\n",
            "..................................................................Epoch:   10/12    Loss: 3.4866312079807376\n",
            "..................................................Saving Model\n",
            "..................................................................Epoch:   11/12    Loss: 3.440884782717778\n",
            "..................................................Saving Model\n",
            "..................................................................Epoch:   12/12    Loss: 3.391741474515124\n",
            "..................................................Saving Model\n",
            "Model Trained and Saved\n"
          ],
          "name": "stdout"
        }
      ]
    },
    {
      "cell_type": "code",
      "metadata": {
        "id": "8czqpprgB5sT",
        "colab_type": "code",
        "colab": {
          "base_uri": "https://localhost:8080/",
          "height": 843
        },
        "outputId": "673cf7a2-52be-4d9b-b57a-293b9ebad0b8"
      },
      "source": [
        "# updated data params\n",
        "sequence_length = 12\n",
        "batch_size = 256\n",
        "train_loader = batch_data(int_text, sequence_length, batch_size)\n",
        "num_epochs = 12\n",
        "learning_rate = 0.001\n",
        "vocab_size = len(vocab_to_int)\n",
        "output_size = vocab_size\n",
        "embedding_dim = 512\n",
        "hidden_dim = 1300\n",
        "# Number of RNN Layers\n",
        "n_layers = 3\n",
        "# Show stats for every n number of batches\n",
        "show_every_n_batches = 1500\n",
        "\n",
        "rnn = RNN(vocab_size, output_size, embedding_dim, hidden_dim, n_layers, dropout=0.5)\n",
        "if train_on_gpu:\n",
        "    rnn.cuda()\n",
        "\n",
        "optimizer = torch.optim.Adam(rnn.parameters(), lr=learning_rate)\n",
        "criterion = nn.CrossEntropyLoss()\n",
        "\n",
        "# training the model\n",
        "trained_rnn = train_rnn(rnn, batch_size, optimizer, criterion, num_epochs, show_every_n_batches)\n",
        "\n",
        "# saving the trained model\n",
        "helper.save_model('trained_rnn', trained_rnn)\n",
        "print('Model Trained and Saved')\n",
        "torch.save(trained_rnn, '/content/drive/My Drive/training_rnn-3-12-512-1300.pt')"
      ],
      "execution_count": 21,
      "outputs": [
        {
          "output_type": "stream",
          "text": [
            "Training for 12 epoch(s)...\n",
            ".................................................Epoch:    1/12    Loss: 4.867983925978343\n",
            ".................................................Epoch:    1/12    Loss: 4.410841669082641\n",
            "................"
          ],
          "name": "stdout"
        },
        {
          "output_type": "stream",
          "text": [
            "/usr/local/lib/python3.6/dist-packages/torch/serialization.py:292: UserWarning: Couldn't retrieve source code for container of type RNN. It won't be checked for correctness upon loading.\n",
            "  \"type \" + obj.__name__ + \". It won't be checked \"\n",
            "/usr/local/lib/python3.6/dist-packages/torch/serialization.py:292: UserWarning: Couldn't retrieve source code for container of type Embedding. It won't be checked for correctness upon loading.\n",
            "  \"type \" + obj.__name__ + \". It won't be checked \"\n",
            "/usr/local/lib/python3.6/dist-packages/torch/serialization.py:292: UserWarning: Couldn't retrieve source code for container of type LSTM. It won't be checked for correctness upon loading.\n",
            "  \"type \" + obj.__name__ + \". It won't be checked \"\n",
            "/usr/local/lib/python3.6/dist-packages/torch/serialization.py:292: UserWarning: Couldn't retrieve source code for container of type Linear. It won't be checked for correctness upon loading.\n",
            "  \"type \" + obj.__name__ + \". It won't be checked \"\n",
            "/usr/local/lib/python3.6/dist-packages/torch/serialization.py:292: UserWarning: Couldn't retrieve source code for container of type Dropout. It won't be checked for correctness upon loading.\n",
            "  \"type \" + obj.__name__ + \". It won't be checked \"\n"
          ],
          "name": "stderr"
        },
        {
          "output_type": "stream",
          "text": [
            "Saving Model\n",
            ".................................................Epoch:    2/12    Loss: 4.189883946651412\n",
            ".................................................Epoch:    2/12    Loss: 4.102362241109212\n",
            "................Saving Model\n",
            ".................................................Epoch:    3/12    Loss: 3.9840907019472893\n",
            ".................................................Epoch:    3/12    Loss: 3.9429898352622987\n",
            "................Saving Model\n",
            ".................................................Epoch:    4/12    Loss: 3.8512491313440185\n",
            ".................................................Epoch:    4/12    Loss: 3.8249508172671\n",
            "................Saving Model\n",
            ".................................................Epoch:    5/12    Loss: 3.7395390391109453\n",
            ".................................................Epoch:    5/12    Loss: 3.7441763332684834\n",
            "................Saving Model\n",
            ".................................................Epoch:    6/12    Loss: 3.662627755754417\n",
            ".................................................Epoch:    6/12    Loss: 3.6653394300142925\n",
            "................Saving Model\n",
            ".................................................Epoch:    7/12    Loss: 3.5873708191417877\n",
            ".................................................Epoch:    7/12    Loss: 3.6027102127075197\n",
            "................Saving Model\n",
            ".................................................Epoch:    8/12    Loss: 3.519904169344133\n",
            ".................................................Epoch:    8/12    Loss: 3.542488099892934\n",
            "................Saving Model\n",
            ".................................................Epoch:    9/12    Loss: 3.4654918614654773\n",
            ".................................................Epoch:    9/12    Loss: 3.4866301242510476\n",
            "................Saving Model\n",
            ".................................................Epoch:   10/12    Loss: 3.4113233308157613\n",
            ".................................................Epoch:   10/12    Loss: 3.4339863527615866\n",
            "................Saving Model\n",
            ".................................................Epoch:   11/12    Loss: 3.3645874597132206\n",
            ".................................................Epoch:   11/12    Loss: 3.379329357147217\n",
            "................Saving Model\n",
            ".................................................Epoch:   12/12    Loss: 3.315016517235387\n",
            ".................................................Epoch:   12/12    Loss: 3.3280726369222005\n",
            "................Saving Model\n",
            "Model Trained and Saved\n"
          ],
          "name": "stdout"
        }
      ]
    },
    {
      "cell_type": "code",
      "metadata": {
        "id": "nRaYbDDZEaAG",
        "colab_type": "code",
        "colab": {
          "base_uri": "https://localhost:8080/",
          "height": 843
        },
        "outputId": "db3de423-bda0-4b7b-fea7-9d20f74dfa39"
      },
      "source": [
        "# updated data params\n",
        "sequence_length = 10\n",
        "batch_size = 256\n",
        "train_loader = batch_data(int_text, sequence_length, batch_size)\n",
        "num_epochs = 12\n",
        "learning_rate = 0.001\n",
        "vocab_size = len(vocab_to_int)\n",
        "output_size = vocab_size\n",
        "embedding_dim = 400\n",
        "hidden_dim = 800\n",
        "# Number of RNN Layers\n",
        "n_layers = 2\n",
        "# Show stats for every n number of batches\n",
        "show_every_n_batches = 1500\n",
        "\n",
        "rnn = RNN(vocab_size, output_size, embedding_dim, hidden_dim, n_layers, dropout=0.5)\n",
        "if train_on_gpu:\n",
        "    rnn.cuda()\n",
        "\n",
        "optimizer = torch.optim.Adam(rnn.parameters(), lr=learning_rate)\n",
        "criterion = nn.CrossEntropyLoss()\n",
        "\n",
        "# training the model\n",
        "trained_rnn = train_rnn(rnn, batch_size, optimizer, criterion, num_epochs, show_every_n_batches)\n",
        "\n",
        "# saving the trained model\n",
        "helper.save_model('trained_rnn', trained_rnn)\n",
        "print('Model Trained and Saved')\n",
        "torch.save(trained_rnn, '/content/drive/My Drive/training_rnn-2-10-512-1024.pt')"
      ],
      "execution_count": 31,
      "outputs": [
        {
          "output_type": "stream",
          "text": [
            "Training for 12 epoch(s)...\n",
            ".................................................Epoch:    1/12    Loss: 4.650191651185353\n",
            ".................................................Epoch:    1/12    Loss: 4.252984056154887\n",
            "................"
          ],
          "name": "stdout"
        },
        {
          "output_type": "stream",
          "text": [
            "/usr/local/lib/python3.6/dist-packages/torch/serialization.py:292: UserWarning: Couldn't retrieve source code for container of type RNN. It won't be checked for correctness upon loading.\n",
            "  \"type \" + obj.__name__ + \". It won't be checked \"\n",
            "/usr/local/lib/python3.6/dist-packages/torch/serialization.py:292: UserWarning: Couldn't retrieve source code for container of type Embedding. It won't be checked for correctness upon loading.\n",
            "  \"type \" + obj.__name__ + \". It won't be checked \"\n",
            "/usr/local/lib/python3.6/dist-packages/torch/serialization.py:292: UserWarning: Couldn't retrieve source code for container of type LSTM. It won't be checked for correctness upon loading.\n",
            "  \"type \" + obj.__name__ + \". It won't be checked \"\n",
            "/usr/local/lib/python3.6/dist-packages/torch/serialization.py:292: UserWarning: Couldn't retrieve source code for container of type Linear. It won't be checked for correctness upon loading.\n",
            "  \"type \" + obj.__name__ + \". It won't be checked \"\n",
            "/usr/local/lib/python3.6/dist-packages/torch/serialization.py:292: UserWarning: Couldn't retrieve source code for container of type Dropout. It won't be checked for correctness upon loading.\n",
            "  \"type \" + obj.__name__ + \". It won't be checked \"\n"
          ],
          "name": "stderr"
        },
        {
          "output_type": "stream",
          "text": [
            "Saving Model\n",
            ".................................................Epoch:    2/12    Loss: 4.05962851956006\n",
            ".................................................Epoch:    2/12    Loss: 3.994299249013265\n",
            "................Saving Model\n",
            ".................................................Epoch:    3/12    Loss: 3.8849988359837764\n",
            ".................................................Epoch:    3/12    Loss: 3.8616348552703856\n",
            "................Saving Model\n",
            ".................................................Epoch:    4/12    Loss: 3.7749805560996457\n",
            ".................................................Epoch:    4/12    Loss: 3.7700108715693155\n",
            "................Saving Model\n",
            ".................................................Epoch:    5/12    Loss: 3.682170631183732\n",
            ".................................................Epoch:    5/12    Loss: 3.6990057711601256\n",
            "................Saving Model\n",
            ".................................................Epoch:    6/12    Loss: 3.6122459963925424\n",
            ".................................................Epoch:    6/12    Loss: 3.6390117826461794\n",
            "................Saving Model\n",
            ".................................................Epoch:    7/12    Loss: 3.5569629796570346\n",
            ".................................................Epoch:    7/12    Loss: 3.585074012438456\n",
            "................Saving Model\n",
            ".................................................Epoch:    8/12    Loss: 3.5151448734104633\n",
            ".................................................Epoch:    8/12    Loss: 3.5339887078603107\n",
            "................Saving Model\n",
            ".................................................Epoch:    9/12    Loss: 3.465217469921035\n",
            ".................................................Epoch:    9/12    Loss: 3.5056207319895427\n",
            "................Saving Model\n",
            ".................................................Epoch:   10/12    Loss: 3.430278083489787\n",
            ".................................................Epoch:   10/12    Loss: 3.458136683622996\n",
            "................Saving Model\n",
            ".................................................Epoch:   11/12    Loss: 3.3997931616200554\n",
            ".................................................Epoch:   11/12    Loss: 3.428512209097544\n",
            "................Saving Model\n",
            ".................................................Epoch:   12/12    Loss: 3.3701166217365572\n",
            ".................................................Epoch:   12/12    Loss: 3.4019037766456606\n",
            "................Saving Model\n",
            "Model Trained and Saved\n"
          ],
          "name": "stdout"
        }
      ]
    },
    {
      "cell_type": "code",
      "metadata": {
        "id": "g7NtvcrluPU7",
        "colab_type": "code",
        "colab": {
          "base_uri": "https://localhost:8080/",
          "height": 625
        },
        "outputId": "ab322922-fd5a-40a7-dbf7-a65c6c5e18f2"
      },
      "source": [
        "\n",
        "sequence_length = 12\n",
        "batch_size = 512\n",
        "train_loader = batch_data(int_text, sequence_length, batch_size)\n",
        "num_epochs = 11\n",
        "learning_rate = 0.001\n",
        "\n",
        "rnn = torch.load('/content/drive/My Drive/training_rnn-2-12-512-1024.pt')\n",
        "if train_on_gpu:\n",
        "    rnn.cuda()\n",
        "optimizer = torch.optim.Adam(rnn.parameters(), lr=learning_rate)\n",
        "criterion = nn.CrossEntropyLoss()\n",
        "print(\"Training better model for few more epochs \")\n",
        "trained_rnn = train_rnn(rnn, batch_size, optimizer, criterion, num_epochs, 1500)\n",
        "torch.save(trained_rnn, '/content/drive/My Drive/trained_rnn-2-12-512-1024.pt')\n",
        "# saving the trained model\n",
        "helper.save_model('trained_rnn', trained_rnn)\n",
        "print('Model Trained and Saved')"
      ],
      "execution_count": 36,
      "outputs": [
        {
          "output_type": "stream",
          "text": [
            "Training better model for few more epochs \n",
            "Training for 11 epoch(s)...\n",
            ".................................................Epoch:    1/11    Loss: 3.309731337865194\n",
            "........"
          ],
          "name": "stdout"
        },
        {
          "output_type": "stream",
          "text": [
            "/usr/local/lib/python3.6/dist-packages/torch/serialization.py:292: UserWarning: Couldn't retrieve source code for container of type RNN. It won't be checked for correctness upon loading.\n",
            "  \"type \" + obj.__name__ + \". It won't be checked \"\n",
            "/usr/local/lib/python3.6/dist-packages/torch/serialization.py:292: UserWarning: Couldn't retrieve source code for container of type Embedding. It won't be checked for correctness upon loading.\n",
            "  \"type \" + obj.__name__ + \". It won't be checked \"\n",
            "/usr/local/lib/python3.6/dist-packages/torch/serialization.py:292: UserWarning: Couldn't retrieve source code for container of type LSTM. It won't be checked for correctness upon loading.\n",
            "  \"type \" + obj.__name__ + \". It won't be checked \"\n",
            "/usr/local/lib/python3.6/dist-packages/torch/serialization.py:292: UserWarning: Couldn't retrieve source code for container of type Linear. It won't be checked for correctness upon loading.\n",
            "  \"type \" + obj.__name__ + \". It won't be checked \"\n",
            "/usr/local/lib/python3.6/dist-packages/torch/serialization.py:292: UserWarning: Couldn't retrieve source code for container of type Dropout. It won't be checked for correctness upon loading.\n",
            "  \"type \" + obj.__name__ + \". It won't be checked \"\n"
          ],
          "name": "stderr"
        },
        {
          "output_type": "stream",
          "text": [
            "Saving Model\n",
            ".................................................Epoch:    2/11    Loss: 3.2679638668261766\n",
            "........Saving Model\n",
            ".................................................Epoch:    3/11    Loss: 3.213494565128322\n",
            "........Saving Model\n",
            ".................................................Epoch:    4/11    Loss: 3.157023896716629\n",
            "........Saving Model\n",
            ".................................................Epoch:    5/11    Loss: 3.1107834548818807\n",
            "........Saving Model\n",
            ".................................................Epoch:    6/11    Loss: 3.0667231141768148\n",
            "........Saving Model\n",
            ".................................................Epoch:    7/11    Loss: 3.0295530949065936\n",
            "........Saving Model\n",
            ".................................................Epoch:    8/11    Loss: 2.9930053686575557\n",
            "........Saving Model\n",
            ".................................................Epoch:    9/11    Loss: 2.9601408374569584\n",
            "........Saving Model\n",
            ".................................................Epoch:   10/11    Loss: 2.9332815106235333\n",
            "........Saving Model\n",
            ".................................................Epoch:   11/11    Loss: 2.9017766033877734\n",
            "........Saving Model\n",
            "Model Trained and Saved\n"
          ],
          "name": "stdout"
        }
      ]
    },
    {
      "cell_type": "code",
      "metadata": {
        "id": "Mlc1gXfa0Sot",
        "colab_type": "code",
        "colab": {}
      },
      "source": [
        "# updated data params\n",
        "sequence_length = 12\n",
        "batch_size = 64\n",
        "train_loader = batch_data(int_text, sequence_length, batch_size)\n",
        "num_epochs = 15\n",
        "learning_rate = 0.001\n",
        "vocab_size = len(vocab_to_int)\n",
        "output_size = vocab_size\n",
        "embedding_dim = 512\n",
        "hidden_dim = 1024\n",
        "# Number of RNN Layers\n",
        "n_layers = 2\n",
        "# Show stats for every n number of batches\n",
        "show_every_n_batches = 3000\n",
        "\n",
        "rnn = RNN(vocab_size, output_size, embedding_dim, hidden_dim, n_layers, dropout=0.5)\n",
        "if train_on_gpu:\n",
        "    rnn.cuda()\n",
        "\n",
        "optimizer = torch.optim.Adam(rnn.parameters(), lr=learning_rate)\n",
        "criterion = nn.CrossEntropyLoss()\n",
        "\n",
        "# training the model\n",
        "trained_rnn = train_rnn(rnn, batch_size, optimizer, criterion, num_epochs, show_every_n_batches)\n",
        "\n",
        "# saving the trained model\n",
        "helper.save_model('trained_rnn', trained_rnn)\n",
        "print('Model Trained and Saved')\n",
        "torch.save(trained_rnn, '/content/drive/My Drive/training_rnn-2-12-512-1024-b64.pt')"
      ],
      "execution_count": 0,
      "outputs": []
    },
    {
      "cell_type": "markdown",
      "metadata": {
        "id": "QrgAtFIrz2tz",
        "colab_type": "text"
      },
      "source": [
        "### Question: How did you decide on your model hyperparameters? \n",
        "For example, did you try different sequence_lengths and find that one size made the model converge faster? What about your hidden_dim and n_layers; how did you decide on those?"
      ]
    },
    {
      "cell_type": "markdown",
      "metadata": {
        "id": "EpQ6hocmz2t0",
        "colab_type": "text"
      },
      "source": [
        "**Answer:** \n",
        "\n",
        "\n",
        "---\n",
        "| rnn_layers | seq_len | embeds | hidden | loss |\n",
        "|------------|---------|--------|--------|------|\n",
        "| 2          | 8       | 400    | 256    | 4.3  |\n",
        "| 2          | 8       | 512    | 256    | 4.4  |\n",
        "| 3          | 15      | 512    | 256    | 4.0  |\n",
        "| 3          | 15      | 512    | 400    | 3.8  |\n",
        "| 3          | 12      | 512    | 500    | 3.7  |\n",
        "| 3          | 12      | 512    | 800    | 3.5  |\n",
        "| 2          | 12      | 512    | 800    | 3.4  |\n",
        "|**2**       | **12**  | **512**|**1024**|**2.9**|\n",
        "| 2          | 10      | 512    | 1024   | 3.4  |\n",
        "\n",
        "Those were the trails with different hyperparameters. Sequence lenghts from 10 to 15 converged fastly in initial epochs. Finally choose twice of average length of each line as I guess that next word will atleast depend one last two lines in conversation. Hidden dimensions choosen less, the loss won't decrease much but they can't be more than 1200 or because of overfitting chance, which we can observe from generated script. Number of lstm layers with 2 seems better than 3 when other parameters are kept same. Trying with few more combinations might help to find model below 2.8, but generating sentence's meaning won't change much by 0.2 change in loss.\n"
      ]
    },
    {
      "cell_type": "markdown",
      "metadata": {
        "id": "bppNb4d0z2t2",
        "colab_type": "text"
      },
      "source": [
        "---\n",
        "# Checkpoint\n",
        "\n",
        "After running the above training cell, your model will be saved by name, `trained_rnn`, and if you save your notebook progress, **you can pause here and come back to this code at another time**. You can resume your progress by running the next cell, which will load in our word:id dictionaries _and_ load in your saved model by name!"
      ]
    },
    {
      "cell_type": "code",
      "metadata": {
        "id": "U8D0d8rwz2t3",
        "colab_type": "code",
        "colab": {}
      },
      "source": [
        "\"\"\"\n",
        "DON'T MODIFY ANYTHING IN THIS CELL\n",
        "\"\"\"\n",
        "import torch\n",
        "import helper\n",
        "import problem_unittests as tests\n",
        "\n",
        "_, vocab_to_int, int_to_vocab, token_dict = helper.load_preprocess()\n",
        "trained_rnn = torch.load('/content/drive/My Drive/training_rnn-2-10-512-1024.pt')"
      ],
      "execution_count": 0,
      "outputs": []
    },
    {
      "cell_type": "markdown",
      "metadata": {
        "id": "zsZqjw21z2t7",
        "colab_type": "text"
      },
      "source": [
        "## Generate TV Script\n",
        "With the network trained and saved, you'll use it to generate a new, \"fake\" Seinfeld TV script in this section.\n",
        "\n",
        "### Generate Text\n",
        "To generate the text, the network needs to start with a single word and repeat its predictions until it reaches a set length. You'll be using the `generate` function to do this. It takes a word id to start with, `prime_id`, and generates a set length of text, `predict_len`. Also note that it uses topk sampling to introduce some randomness in choosing the most likely next word, given an output set of word scores!"
      ]
    },
    {
      "cell_type": "code",
      "metadata": {
        "id": "s-I-1IWLz2t8",
        "colab_type": "code",
        "colab": {}
      },
      "source": [
        "\"\"\"\n",
        "DON'T MODIFY ANYTHING IN THIS CELL THAT IS BELOW THIS LINE\n",
        "\"\"\"\n",
        "import torch.nn.functional as F\n",
        "\n",
        "def generate(rnn, prime_id, int_to_vocab, token_dict, pad_value, predict_len=100):\n",
        "    \"\"\"\n",
        "    Generate text using the neural network\n",
        "    :param decoder: The PyTorch Module that holds the trained neural network\n",
        "    :param prime_id: The word id to start the first prediction\n",
        "    :param int_to_vocab: Dict of word id keys to word values\n",
        "    :param token_dict: Dict of puncuation tokens keys to puncuation values\n",
        "    :param pad_value: The value used to pad a sequence\n",
        "    :param predict_len: The length of text to generate\n",
        "    :return: The generated text\n",
        "    \"\"\"\n",
        "    rnn.eval()\n",
        "    \n",
        "    # create a sequence (batch_size=1) with the prime_id\n",
        "    current_seq = np.full((1, sequence_length), pad_value)\n",
        "    current_seq[-1][-1] = prime_id\n",
        "    predicted = [int_to_vocab[prime_id]]\n",
        "    \n",
        "    for _ in range(predict_len):\n",
        "        if train_on_gpu:\n",
        "            current_seq = torch.LongTensor(current_seq).cuda()\n",
        "        else:\n",
        "            current_seq = torch.LongTensor(current_seq)\n",
        "        \n",
        "        # initialize the hidden state\n",
        "        hidden = rnn.init_hidden(current_seq.size(0))\n",
        "        \n",
        "        # get the output of the rnn\n",
        "        output, _ = rnn(current_seq, hidden)\n",
        "        \n",
        "        # get the next word probabilities\n",
        "        p = F.softmax(output, dim=1).data\n",
        "        if(train_on_gpu):\n",
        "            p = p.cpu() # move to cpu\n",
        "         \n",
        "        # use top_k sampling to get the index of the next word\n",
        "        top_k = 5\n",
        "        p, top_i = p.topk(top_k)\n",
        "        top_i = top_i.numpy().squeeze()\n",
        "        \n",
        "        # select the likely next word index with some element of randomness\n",
        "        p = p.numpy().squeeze()\n",
        "        word_i = np.random.choice(top_i, p=p/p.sum())\n",
        "        \n",
        "        # retrieve that word from the dictionary\n",
        "        word = int_to_vocab[word_i]\n",
        "        predicted.append(word)     \n",
        "        \n",
        "        if(train_on_gpu):\n",
        "            current_seq = current_seq.cpu() # move to cpu\n",
        "        # the generated word becomes the next \"current sequence\" and the cycle can continue\n",
        "        if train_on_gpu:\n",
        "            current_seq = current_seq.cpu()\n",
        "        current_seq = np.roll(current_seq, -1, 1)\n",
        "        current_seq[-1][-1] = word_i\n",
        "    \n",
        "    gen_sentences = ' '.join(predicted)\n",
        "    \n",
        "    # Replace punctuation tokens\n",
        "    for key, token in token_dict.items():\n",
        "        ending = ' ' if key in ['\\n', '(', '\"'] else ''\n",
        "        gen_sentences = gen_sentences.replace(' ' + token.lower(), key)\n",
        "    gen_sentences = gen_sentences.replace('\\n ', '\\n')\n",
        "    gen_sentences = gen_sentences.replace('( ', '(')\n",
        "    \n",
        "    # return all the sentences\n",
        "    return gen_sentences"
      ],
      "execution_count": 0,
      "outputs": []
    },
    {
      "cell_type": "markdown",
      "metadata": {
        "id": "TTkBFxoAz2t-",
        "colab_type": "text"
      },
      "source": [
        "### Generate a New Script\n",
        "It's time to generate the text. Set `gen_length` to the length of TV script you want to generate and set `prime_word` to one of the following to start the prediction:\n",
        "- \"jerry\"\n",
        "- \"elaine\"\n",
        "- \"george\"\n",
        "- \"kramer\"\n",
        "\n",
        "You can set the prime word to _any word_ in our dictionary, but it's best to start with a name for generating a TV script. (You can also start with any other names you find in the original text file!)"
      ]
    },
    {
      "cell_type": "code",
      "metadata": {
        "id": "-lAEyquuz2t_",
        "colab_type": "code",
        "colab": {
          "base_uri": "https://localhost:8080/",
          "height": 907
        },
        "outputId": "7eea3abf-bc53-425c-a00b-18aa66ab818f"
      },
      "source": [
        "# run the cell multiple times to get different results!\n",
        "gen_length = 400 # modify the length to your preference\n",
        "prime_word = 'kramer' # name for starting the script\n",
        "\n",
        "\"\"\"\n",
        "DON'T MODIFY ANYTHING IN THIS CELL THAT IS BELOW THIS LINE\n",
        "\"\"\"\n",
        "pad_word = helper.SPECIAL_WORDS['PADDING']\n",
        "generated_script = generate(trained_rnn, vocab_to_int[prime_word + ':'], int_to_vocab, token_dict, vocab_to_int[pad_word], gen_length)\n",
        "print(generated_script)"
      ],
      "execution_count": 38,
      "outputs": [
        {
          "output_type": "stream",
          "text": [
            "kramer: and you don't care what i am? you know...\n",
            "\n",
            "elaine: well i guess it's just the same.\n",
            "\n",
            "jerry:(to george) well, you better catch it.\n",
            "\n",
            "jerry:(to elaine) what?\n",
            "\n",
            "kramer: well, i got to see the pig- man.\n",
            "\n",
            "george: i can't believe it. i know i could...\n",
            "\n",
            "george: you know, you know, the thing i know. i was in the shower with a little hot, and i was wondering if i have to go, and i'm sorry.\n",
            "\n",
            "elaine:(pause) well, i guess i have to go back to work.\n",
            "\n",
            "jerry:(to george) you know what? you have an idea?\n",
            "\n",
            "george: what?\n",
            "\n",
            "jerry: i don't know...\n",
            "\n",
            "elaine: you don't understand. you know, i think we could do that.\n",
            "\n",
            "jerry: well, i don't care about it.\n",
            "\n",
            "kramer: well, i don't know how to do it.\n",
            "\n",
            "george: well, i was thinking of donating the bill for you.\n",
            "\n",
            "george: what?\n",
            "\n",
            "jerry: i don't understand, i don't care.\n",
            "\n",
            "kramer: i thought we was going to spend a couple of weeks.\n",
            "\n",
            "elaine:(looking at the counter) i think i can get it up to him.(to jerry) you know, i think it's really good.(to elaine) so, what are you doing?\n",
            "\n",
            "george:(looking at his watch) i can't go in there.\n",
            "\n",
            "george: i don't think we have any time.\n",
            "\n",
            "elaine: i don't know...\n",
            "\n",
            "elaine: i don't care, what are you doing here?\n",
            "\n",
            "kramer: well, we just saw a movie in the morning before we were in the finals.\n",
            "\n",
            "kramer: well, what do you do, i don't know what i mean. i can't do that.\n",
            "\n",
            "jerry: well, i'm sure you do.\n",
            "\n",
            "kramer: well, i think it's\n"
          ],
          "name": "stdout"
        }
      ]
    },
    {
      "cell_type": "code",
      "metadata": {
        "id": "uUzEsuM9pR4R",
        "colab_type": "code",
        "colab": {
          "base_uri": "https://localhost:8080/",
          "height": 806
        },
        "outputId": "5eded7f0-4da0-4875-d693-9f258719df14"
      },
      "source": [
        "# run the cell multiple times to get different results!\n",
        "gen_length = 300 # modify the length to your preference\n",
        "prime_word = 'george' # name for starting the script\n",
        "\n",
        "\"\"\"\n",
        "DON'T MODIFY ANYTHING IN THIS CELL THAT IS BELOW THIS LINE\n",
        "\"\"\"\n",
        "pad_word = helper.SPECIAL_WORDS['PADDING']\n",
        "generated_script = generate(trained_rnn, vocab_to_int[prime_word + ':'], int_to_vocab, token_dict, vocab_to_int[pad_word], gen_length)\n",
        "print(generated_script)"
      ],
      "execution_count": 39,
      "outputs": [
        {
          "output_type": "stream",
          "text": [
            "george:...\n",
            "\n",
            "george: oh!\n",
            "\n",
            "jerry:(to george) i told you, i don't have a square.\n",
            "\n",
            "jerry: i don't care for the blind.\n",
            "\n",
            "george: what?\n",
            "\n",
            "kramer: the woman, the woman that affected you to the hospital...\n",
            "\n",
            "elaine:(interrupting) i don't want to hear this.\n",
            "\n",
            "george: i can't believe you don't.\n",
            "\n",
            "elaine: i don't know.\n",
            "\n",
            "kramer:(laughs) i don't want it.\n",
            "\n",
            "elaine: well, what about you?\n",
            "\n",
            "george: i think i saw him. i was just trying to keep it to the doorman and i get the hell out of there.\n",
            "\n",
            "george:(to jerry) oh, no, no, no.\n",
            "\n",
            "jerry:(to george) so? what do you want to go in the bathroom?\n",
            "\n",
            "kramer: well, i was just curious.\n",
            "\n",
            "jerry:(sarcastic) oh, you know.\n",
            "\n",
            "elaine: what about the drake?\n",
            "\n",
            "jerry: i don't know. she just got to see him tomorrow afternoon, and she asked me to give him a call.\n",
            "\n",
            "george:(to jerry and george) what is that?!\n",
            "\n",
            "jerry: what are you doing here?\n",
            "\n",
            "kramer: well, i'm going to have to go to work.\n",
            "\n",
            "elaine: oh yeah, yeah.(takes a bite of paper)\n",
            "\n",
            "george:(to elaine) oh, no. i don't know, i don't think i can.\n",
            "\n",
            "elaine: what\n"
          ],
          "name": "stdout"
        }
      ]
    },
    {
      "cell_type": "code",
      "metadata": {
        "colab_type": "code",
        "outputId": "c3b300ac-69ac-4f70-bd18-512af5cc096f",
        "id": "MewFrt-ZjZ8P",
        "colab": {
          "base_uri": "https://localhost:8080/",
          "height": 1042
        }
      },
      "source": [
        "# run the cell multiple times to get different results!\n",
        "gen_length = 500 # modify the length to your preference\n",
        "prime_word = 'jerry' # name for starting the script\n",
        "\n",
        "\"\"\"\n",
        "DON'T MODIFY ANYTHING IN THIS CELL THAT IS BELOW THIS LINE\n",
        "\"\"\"\n",
        "pad_word = helper.SPECIAL_WORDS['PADDING']\n",
        "generated_script = generate(trained_rnn, vocab_to_int[prime_word + ':'], int_to_vocab, token_dict, vocab_to_int[pad_word], gen_length)\n",
        "print(generated_script)"
      ],
      "execution_count": 40,
      "outputs": [
        {
          "output_type": "stream",
          "text": [
            "jerry:...\n",
            "\n",
            "george:(animated) well, i guess i better get some coffee on this, huh?(elaine nods) i can't believe i was in my house. i was just wondering if you were saying that we were both cracking around the corner.\n",
            "\n",
            "jerry:(to kramer) i don't believe this.\n",
            "\n",
            "jerry: i don't know how to work this.(she leaves, and walks over to the booth.)\n",
            "\n",
            "george: i thought it was a scratch!\n",
            "\n",
            "jerry:(to george) i don't think i know what you mean. you want a protein shake?\n",
            "\n",
            "george: i think it's the only chance i can do with that...\n",
            "\n",
            "george:(interrupting) well, what if i just got the job?\n",
            "\n",
            "kramer: well, i got it.\n",
            "\n",
            "jerry: what? what?\n",
            "\n",
            "kramer: well, i was just talking to you. i was wondering...\n",
            "\n",
            "jerry: oh, yeah.\n",
            "\n",
            "george:(looking over her resume) well, you know, if i had a relationship, i was just curious if we had a fight, i was wondering.\n",
            "\n",
            "jerry: well, i was just thinking that i'm going to get some sleep.\n",
            "\n",
            "elaine: i don't know what the big deal is. i don't know where to go.\n",
            "\n",
            "jerry: well, you know, it's just a little bit of a dilemma of my life, and then, the guy was wearing my butler.\n",
            "\n",
            "jerry:(to the phone) hey jerry, what is this, amateur?\n",
            "\n",
            "jerry:(to kramer) hey, george, you wanna see me?\n",
            "\n",
            "jerry: no, no, no.\n",
            "\n",
            "elaine: what?\n",
            "\n",
            "kramer: well, i guess i'll just get it back.(she takes a sip of his coat)\n",
            "\n",
            "george:(looking at the tv) i was wondering..\n",
            "\n",
            "jerry:(looking at his watch) i don't want to go back to my place.\n",
            "\n",
            "jerry:(to the phone) excuse me.\n",
            "\n",
            "elaine:(to george) so, i guess i'll see you tonight.\n",
            "\n",
            "jerry: what about a shooting star?\n",
            "\n",
            "morty: well you gotta take a look at that.\n",
            "\n",
            "george: you got it?\n",
            "\n",
            "elaine: i can't do it.\n",
            "\n",
            "kramer: well you know, i'm gonna take a few things, and i have the job. you can't get it out of here.(jerry looks at the tag.)\n",
            "\n",
            "jerry: so what\n"
          ],
          "name": "stdout"
        }
      ]
    },
    {
      "cell_type": "markdown",
      "metadata": {
        "id": "dlsQqfFUz2uB",
        "colab_type": "text"
      },
      "source": [
        "#### Save your favorite scripts\n",
        "\n",
        "Once you have a script that you like (or find interesting), save it to a text file!"
      ]
    },
    {
      "cell_type": "code",
      "metadata": {
        "id": "RFsNskbAz2uC",
        "colab_type": "code",
        "colab": {}
      },
      "source": [
        "# save script to a text file\n",
        "f =  open(\"/content/drive/My Drive/generated_script_1.txt\",\"w\")\n",
        "f.write(generated_script)\n",
        "f.close()"
      ],
      "execution_count": 0,
      "outputs": []
    },
    {
      "cell_type": "markdown",
      "metadata": {
        "id": "pLtEnaJDz2uE",
        "colab_type": "text"
      },
      "source": [
        "# The TV Script is Not Perfect\n",
        "It's ok if the TV script doesn't make perfect sense. It should look like alternating lines of dialogue, here is one such example of a few generated lines.\n",
        "\n",
        "### Example generated script\n",
        "\n",
        ">jerry: what about me?\n",
        ">\n",
        ">jerry: i don't have to wait.\n",
        ">\n",
        ">kramer:(to the sales table)\n",
        ">\n",
        ">elaine:(to jerry) hey, look at this, i'm a good doctor.\n",
        ">\n",
        ">newman:(to elaine) you think i have no idea of this...\n",
        ">\n",
        ">elaine: oh, you better take the phone, and he was a little nervous.\n",
        ">\n",
        ">kramer:(to the phone) hey, hey, jerry, i don't want to be a little bit.(to kramer and jerry) you can't.\n",
        ">\n",
        ">jerry: oh, yeah. i don't even know, i know.\n",
        ">\n",
        ">jerry:(to the phone) oh, i know.\n",
        ">\n",
        ">kramer:(laughing) you know...(to jerry) you don't know.\n",
        "\n",
        "You can see that there are multiple characters that say (somewhat) complete sentences, but it doesn't have to be perfect! It takes quite a while to get good results, and often, you'll have to use a smaller vocabulary (and discard uncommon words), or get more data.  The Seinfeld dataset is about 3.4 MB, which is big enough for our purposes; for script generation you'll want more than 1 MB of text, generally. \n",
        "\n",
        "# Submitting This Project\n",
        "When submitting this project, make sure to run all the cells before saving the notebook. Save the notebook file as \"dlnd_tv_script_generation.ipynb\" and save another copy as an HTML file by clicking \"File\" -> \"Download as..\"->\"html\". Include the \"helper.py\" and \"problem_unittests.py\" files in your submission. Once you download these files, compress them into one zip file for submission."
      ]
    }
  ]
}